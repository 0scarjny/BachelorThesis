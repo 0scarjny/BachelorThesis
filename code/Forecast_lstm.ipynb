{
 "cells": [
  {
   "cell_type": "code",
   "execution_count": 65,
   "id": "5e47043a",
   "metadata": {},
   "outputs": [],
   "source": [
    "#%pip install -r requirements_new.txt"
   ]
  },
  {
   "cell_type": "markdown",
   "id": "d191b264",
   "metadata": {},
   "source": [
    "# LSTM forecast\n",
    "Author: Oscar Janossy   \n",
    "Date: 2025-05-19  \n",
    "Description: System imbalance forecating with LSTM model\n",
    "\n",
    "The implementation of the LSTM model is made following the examples of the book:  \n",
    "**Modern Time Series Forecasting with Python**  \n",
    "- **Repository:** [PacktPublishing/Modern-Time-Series-Forecasting-with-Python](https://github.com/PacktPublishing/Modern-Time-Series-Forecasting-with-Python)  \n",
    "- **Author:** Manu Joseph & Jeffrey Tackes\n",
    "- **License:** MIT License  \n",
    "- **Accessed on:** 2025-05-17 \n"
   ]
  },
  {
   "cell_type": "markdown",
   "id": "d10947f9",
   "metadata": {},
   "source": [
    "# Import"
   ]
  },
  {
   "cell_type": "code",
   "execution_count": null,
   "id": "e79aed43",
   "metadata": {},
   "outputs": [
    {
     "name": "stderr",
     "output_type": "stream",
     "text": [
      "Seed set to 42\n"
     ]
    },
    {
     "name": "stdout",
     "output_type": "stream",
     "text": [
      "The autoreload extension is already loaded. To reload it, use:\n",
      "  %reload_ext autoreload\n"
     ]
    }
   ],
   "source": [
    "# Core Python & System\n",
    "import os\n",
    "import sys\n",
    "from pathlib import Path\n",
    "from itertools import cycle\n",
    "\n",
    "\n",
    "# Data & Utilities\n",
    "import numpy as np\n",
    "import pandas as pd\n",
    "\n",
    "# Plotting\n",
    "import matplotlib.pyplot as plt\n",
    "\n",
    "\n",
    "# Scikit-learn\n",
    "from sklearn.preprocessing import StandardScaler\n",
    "from sklearn.linear_model import LinearRegression, RidgeCV, LassoCV\n",
    "\n",
    "# Optuna for hyperparameter tuning\n",
    "import optuna\n",
    "\n",
    "# PyTorch & PyTorch Lightning\n",
    "import torch\n",
    "from torch import nn\n",
    "import torch.nn.functional as F\n",
    "from torch.utils.data import Dataset, DataLoader\n",
    "import torchmetrics\n",
    "\n",
    "import pytorch_lightning as pl\n",
    "from pytorch_lightning.callbacks import TQDMProgressBar, EarlyStopping, ModelCheckpoint\n",
    "from pytorch_lightning.loggers import TensorBoardLogger\n",
    "from optuna.integration.pytorch_lightning import PyTorchLightningPruningCallback\n",
    "\n",
    "# Progress Bar\n",
    "from tqdm.autonotebook import tqdm\n",
    "\n",
    "\n",
    "# Typing (Python 3.9+ syntax)\n",
    "from typing import Tuple, Union, Optional\n",
    "\n",
    "# Reproducibility\n",
    "pl.seed_everything(42)\n",
    "np.random.seed(42)\n",
    "tqdm.pandas()\n",
    "\n",
    "# Path Setup\n",
    "directory = os.getcwd()\n",
    "sys.path.insert(0, directory)\n",
    "\n",
    "# Notebook Extensions\n",
    "%load_ext autoreload\n",
    "%autoreload 2\n"
   ]
  },
  {
   "cell_type": "code",
   "execution_count": 42,
   "id": "9eed5db4",
   "metadata": {},
   "outputs": [
    {
     "data": {
      "application/vnd.microsoft.datawrangler.viewer.v0+json": {
       "columns": [
        {
         "name": "index",
         "rawType": "int64",
         "type": "integer"
        },
        {
         "name": "start_date",
         "rawType": "datetime64[ns, UTC]",
         "type": "unknown"
        },
        {
         "name": "Imbalance",
         "rawType": "float64",
         "type": "float"
        },
        {
         "name": "ISP (lag1)",
         "rawType": "float64",
         "type": "float"
        },
        {
         "name": "Day-ahead Spot Price",
         "rawType": "float64",
         "type": "float"
        },
        {
         "name": "WIND_ONSHORE - D-1",
         "rawType": "float64",
         "type": "float"
        },
        {
         "name": "WIND_ONSHORE - ID",
         "rawType": "float64",
         "type": "float"
        },
        {
         "name": "WIND_ONSHORE - CURRENT",
         "rawType": "float64",
         "type": "float"
        },
        {
         "name": "SOLAR - D-1",
         "rawType": "float64",
         "type": "float"
        },
        {
         "name": "SOLAR - ID",
         "rawType": "float64",
         "type": "float"
        },
        {
         "name": "SOLAR - CURRENT",
         "rawType": "float64",
         "type": "float"
        },
        {
         "name": "WIND Total D-1",
         "rawType": "float64",
         "type": "float"
        },
        {
         "name": "WIND Total ID",
         "rawType": "float64",
         "type": "float"
        },
        {
         "name": "WIND CURRENT",
         "rawType": "float64",
         "type": "float"
        },
        {
         "name": "Consumption D-1",
         "rawType": "float64",
         "type": "float"
        },
        {
         "name": "Consumption ID",
         "rawType": "float64",
         "type": "float"
        },
        {
         "name": "DA Total Load Forecast",
         "rawType": "float64",
         "type": "float"
        },
        {
         "name": "DA Total Generation Forecast",
         "rawType": "float64",
         "type": "float"
        },
        {
         "name": "AGGREGATED_PROGRAMMABLE_FRANCE - D-1",
         "rawType": "float64",
         "type": "float"
        },
        {
         "name": "AGGREGATED_NON_PROGRAMMABLE_FRANCE - D-1",
         "rawType": "float64",
         "type": "float"
        },
        {
         "name": "upward_volume_balancing (lag1)",
         "rawType": "float64",
         "type": "float"
        },
        {
         "name": "downward_volume_balancing (lag1)",
         "rawType": "float64",
         "type": "float"
        },
        {
         "name": "SOLAR DEVIATION (lag1)",
         "rawType": "float64",
         "type": "float"
        },
        {
         "name": "SOLAR DEVIATION CURRENT (lag1)",
         "rawType": "float64",
         "type": "float"
        },
        {
         "name": "WIND DEVIATION (lag1)",
         "rawType": "float64",
         "type": "float"
        },
        {
         "name": "WIND DEVIATION CURRENT (lag1)",
         "rawType": "float64",
         "type": "float"
        },
        {
         "name": "LOAD DEVIATION (lag1)",
         "rawType": "float64",
         "type": "float"
        },
        {
         "name": "CONSUMPTION DEVIATION (lag1)",
         "rawType": "float64",
         "type": "float"
        },
        {
         "name": "PROGRAMMABLE RATIO D-1",
         "rawType": "float64",
         "type": "float"
        },
        {
         "name": "NUCLEAR - SHARE % (lag1)",
         "rawType": "float64",
         "type": "float"
        },
        {
         "name": "GAS -SHARE % (lag1)",
         "rawType": "float64",
         "type": "float"
        },
        {
         "name": "SOLAR - SHARE % (lag1)",
         "rawType": "float64",
         "type": "float"
        },
        {
         "name": "WIND - SHARE % (lag1)",
         "rawType": "float64",
         "type": "float"
        },
        {
         "name": "Imbalance_lag_1",
         "rawType": "float64",
         "type": "float"
        },
        {
         "name": "Imbalance_lag_2",
         "rawType": "float64",
         "type": "float"
        },
        {
         "name": "Imbalance_lag_3",
         "rawType": "float64",
         "type": "float"
        },
        {
         "name": "Imbalance_lag_4",
         "rawType": "float64",
         "type": "float"
        },
        {
         "name": "Imbalance_lag_5",
         "rawType": "float64",
         "type": "float"
        },
        {
         "name": "Imbalance_lag_6",
         "rawType": "float64",
         "type": "float"
        },
        {
         "name": "Imbalance_lag_7",
         "rawType": "float64",
         "type": "float"
        },
        {
         "name": "Imbalance_lag_8",
         "rawType": "float64",
         "type": "float"
        },
        {
         "name": "Imbalance_lag_9",
         "rawType": "float64",
         "type": "float"
        },
        {
         "name": "Imbalance_lag_10",
         "rawType": "float64",
         "type": "float"
        },
        {
         "name": "Imbalance_lag_11",
         "rawType": "float64",
         "type": "float"
        },
        {
         "name": "Imbalance_lag_12",
         "rawType": "float64",
         "type": "float"
        },
        {
         "name": "Imbalance_lag_13",
         "rawType": "float64",
         "type": "float"
        },
        {
         "name": "Imbalance_lag_14",
         "rawType": "float64",
         "type": "float"
        },
        {
         "name": "Imbalance_lag_15",
         "rawType": "float64",
         "type": "float"
        },
        {
         "name": "Imbalance_lag_16",
         "rawType": "float64",
         "type": "float"
        },
        {
         "name": "Imbalance_lag_17",
         "rawType": "float64",
         "type": "float"
        },
        {
         "name": "Imbalance_lag_18",
         "rawType": "float64",
         "type": "float"
        },
        {
         "name": "Imbalance_lag_19",
         "rawType": "float64",
         "type": "float"
        },
        {
         "name": "Imbalance_lag_20",
         "rawType": "float64",
         "type": "float"
        },
        {
         "name": "Imbalance_lag_21",
         "rawType": "float64",
         "type": "float"
        },
        {
         "name": "Imbalance_lag_22",
         "rawType": "float64",
         "type": "float"
        },
        {
         "name": "Imbalance_lag_23",
         "rawType": "float64",
         "type": "float"
        },
        {
         "name": "Imbalance_lag_24",
         "rawType": "float64",
         "type": "float"
        },
        {
         "name": "Imbalance_lag_25",
         "rawType": "float64",
         "type": "float"
        },
        {
         "name": "Imbalance_lag_26",
         "rawType": "float64",
         "type": "float"
        },
        {
         "name": "Imbalance_lag_27",
         "rawType": "float64",
         "type": "float"
        },
        {
         "name": "Imbalance_lag_28",
         "rawType": "float64",
         "type": "float"
        },
        {
         "name": "Imbalance_lag_29",
         "rawType": "float64",
         "type": "float"
        },
        {
         "name": "Imbalance_lag_30",
         "rawType": "float64",
         "type": "float"
        },
        {
         "name": "Imbalance_lag_31",
         "rawType": "float64",
         "type": "float"
        },
        {
         "name": "Imbalance_lag_32",
         "rawType": "float64",
         "type": "float"
        },
        {
         "name": "Imbalance_lag_33",
         "rawType": "float64",
         "type": "float"
        },
        {
         "name": "Imbalance_lag_34",
         "rawType": "float64",
         "type": "float"
        },
        {
         "name": "Imbalance_lag_35",
         "rawType": "float64",
         "type": "float"
        },
        {
         "name": "Imbalance_lag_36",
         "rawType": "float64",
         "type": "float"
        },
        {
         "name": "Imbalance_lag_37",
         "rawType": "float64",
         "type": "float"
        },
        {
         "name": "Imbalance_lag_38",
         "rawType": "float64",
         "type": "float"
        },
        {
         "name": "Imbalance_lag_39",
         "rawType": "float64",
         "type": "float"
        },
        {
         "name": "Imbalance_lag_40",
         "rawType": "float64",
         "type": "float"
        },
        {
         "name": "Imbalance_lag_41",
         "rawType": "float64",
         "type": "float"
        },
        {
         "name": "Imbalance_lag_42",
         "rawType": "float64",
         "type": "float"
        },
        {
         "name": "Imbalance_lag_43",
         "rawType": "float64",
         "type": "float"
        },
        {
         "name": "Imbalance_lag_44",
         "rawType": "float64",
         "type": "float"
        },
        {
         "name": "Imbalance_lag_45",
         "rawType": "float64",
         "type": "float"
        },
        {
         "name": "Imbalance_lag_46",
         "rawType": "float64",
         "type": "float"
        },
        {
         "name": "Imbalance_lag_47",
         "rawType": "float64",
         "type": "float"
        },
        {
         "name": "Imbalance_lag_48",
         "rawType": "float64",
         "type": "float"
        },
        {
         "name": "Imbalance_lag_49",
         "rawType": "float64",
         "type": "float"
        },
        {
         "name": "Imbalance_lag_50",
         "rawType": "float64",
         "type": "float"
        },
        {
         "name": "Imbalance_lag_51",
         "rawType": "float64",
         "type": "float"
        },
        {
         "name": "Imbalance_lag_52",
         "rawType": "float64",
         "type": "float"
        },
        {
         "name": "Imbalance_lag_53",
         "rawType": "float64",
         "type": "float"
        },
        {
         "name": "Imbalance_lag_54",
         "rawType": "float64",
         "type": "float"
        },
        {
         "name": "Imbalance_lag_55",
         "rawType": "float64",
         "type": "float"
        },
        {
         "name": "Imbalance_lag_56",
         "rawType": "float64",
         "type": "float"
        },
        {
         "name": "Imbalance_lag_57",
         "rawType": "float64",
         "type": "float"
        },
        {
         "name": "Imbalance_lag_58",
         "rawType": "float64",
         "type": "float"
        },
        {
         "name": "Imbalance_lag_59",
         "rawType": "float64",
         "type": "float"
        },
        {
         "name": "Imbalance_lag_60",
         "rawType": "float64",
         "type": "float"
        },
        {
         "name": "Imbalance_lag_61",
         "rawType": "float64",
         "type": "float"
        },
        {
         "name": "Imbalance_lag_62",
         "rawType": "float64",
         "type": "float"
        },
        {
         "name": "Imbalance_lag_63",
         "rawType": "float64",
         "type": "float"
        },
        {
         "name": "Imbalance_lag_64",
         "rawType": "float64",
         "type": "float"
        },
        {
         "name": "Imbalance_lag_65",
         "rawType": "float64",
         "type": "float"
        },
        {
         "name": "Imbalance_lag_66",
         "rawType": "float64",
         "type": "float"
        },
        {
         "name": "Imbalance_lag_67",
         "rawType": "float64",
         "type": "float"
        },
        {
         "name": "Imbalance_lag_68",
         "rawType": "float64",
         "type": "float"
        },
        {
         "name": "Imbalance_lag_69",
         "rawType": "float64",
         "type": "float"
        },
        {
         "name": "Imbalance_lag_70",
         "rawType": "float64",
         "type": "float"
        },
        {
         "name": "Imbalance_lag_71",
         "rawType": "float64",
         "type": "float"
        },
        {
         "name": "Imbalance_lag_72",
         "rawType": "float64",
         "type": "float"
        },
        {
         "name": "Imbalance_lag_73",
         "rawType": "float64",
         "type": "float"
        },
        {
         "name": "Imbalance_lag_74",
         "rawType": "float64",
         "type": "float"
        },
        {
         "name": "Imbalance_lag_75",
         "rawType": "float64",
         "type": "float"
        },
        {
         "name": "Imbalance_lag_76",
         "rawType": "float64",
         "type": "float"
        },
        {
         "name": "Imbalance_lag_77",
         "rawType": "float64",
         "type": "float"
        },
        {
         "name": "Imbalance_lag_78",
         "rawType": "float64",
         "type": "float"
        },
        {
         "name": "Imbalance_lag_79",
         "rawType": "float64",
         "type": "float"
        },
        {
         "name": "Imbalance_lag_80",
         "rawType": "float64",
         "type": "float"
        },
        {
         "name": "Imbalance_lag_81",
         "rawType": "float64",
         "type": "float"
        },
        {
         "name": "Imbalance_lag_82",
         "rawType": "float64",
         "type": "float"
        },
        {
         "name": "Imbalance_lag_83",
         "rawType": "float64",
         "type": "float"
        },
        {
         "name": "Imbalance_lag_84",
         "rawType": "float64",
         "type": "float"
        },
        {
         "name": "Imbalance_lag_85",
         "rawType": "float64",
         "type": "float"
        },
        {
         "name": "Imbalance_lag_86",
         "rawType": "float64",
         "type": "float"
        },
        {
         "name": "Imbalance_lag_87",
         "rawType": "float64",
         "type": "float"
        },
        {
         "name": "Imbalance_lag_88",
         "rawType": "float64",
         "type": "float"
        },
        {
         "name": "Imbalance_lag_89",
         "rawType": "float64",
         "type": "float"
        },
        {
         "name": "Imbalance_lag_90",
         "rawType": "float64",
         "type": "float"
        },
        {
         "name": "Imbalance_lag_91",
         "rawType": "float64",
         "type": "float"
        },
        {
         "name": "Imbalance_lag_92",
         "rawType": "float64",
         "type": "float"
        },
        {
         "name": "Imbalance_lag_93",
         "rawType": "float64",
         "type": "float"
        },
        {
         "name": "Imbalance_lag_94",
         "rawType": "float64",
         "type": "float"
        },
        {
         "name": "Imbalance_lag_95",
         "rawType": "float64",
         "type": "float"
        },
        {
         "name": "Imbalance_lag_96",
         "rawType": "float64",
         "type": "float"
        },
        {
         "name": "Imbalance_lag_97",
         "rawType": "float64",
         "type": "float"
        },
        {
         "name": "Imbalance_lag_98",
         "rawType": "float64",
         "type": "float"
        },
        {
         "name": "Imbalance_lag_99",
         "rawType": "float64",
         "type": "float"
        },
        {
         "name": "Quarter",
         "rawType": "int64",
         "type": "integer"
        },
        {
         "name": "Is_quarter_end",
         "rawType": "int64",
         "type": "integer"
        },
        {
         "name": "Is_quarter_start",
         "rawType": "int64",
         "type": "integer"
        },
        {
         "name": "Is_year_end",
         "rawType": "int64",
         "type": "integer"
        },
        {
         "name": "Is_year_start",
         "rawType": "int64",
         "type": "integer"
        },
        {
         "name": "Is_month_start",
         "rawType": "int64",
         "type": "integer"
        },
        {
         "name": "Day",
         "rawType": "int64",
         "type": "integer"
        },
        {
         "name": "Dayofyear",
         "rawType": "int64",
         "type": "integer"
        },
        {
         "name": "Hour",
         "rawType": "int64",
         "type": "integer"
        },
        {
         "name": "Minute",
         "rawType": "int64",
         "type": "integer"
        },
        {
         "name": "Elapsed",
         "rawType": "int64",
         "type": "integer"
        },
        {
         "name": "day_weekday",
         "rawType": "int64",
         "type": "integer"
        },
        {
         "name": "day_weekend",
         "rawType": "int64",
         "type": "integer"
        },
        {
         "name": "day_holiday",
         "rawType": "int64",
         "type": "integer"
        },
        {
         "name": "Month_sin",
         "rawType": "float64",
         "type": "float"
        },
        {
         "name": "Month_cos",
         "rawType": "float64",
         "type": "float"
        },
        {
         "name": "Week_sin",
         "rawType": "float64",
         "type": "float"
        },
        {
         "name": "Week_cos",
         "rawType": "float64",
         "type": "float"
        },
        {
         "name": "Dayofweek_sin",
         "rawType": "float64",
         "type": "float"
        },
        {
         "name": "Dayofweek_cos",
         "rawType": "float64",
         "type": "float"
        },
        {
         "name": "1/2 Hour of the day_sin",
         "rawType": "float64",
         "type": "float"
        },
        {
         "name": "1/2 Hour of the day_cos",
         "rawType": "float64",
         "type": "float"
        },
        {
         "name": "1/2 Hour of the day",
         "rawType": "int64",
         "type": "integer"
        }
       ],
       "conversionMethod": "pd.DataFrame",
       "ref": "6d0f8320-82b9-4df9-a5b9-4813edbbeaab",
       "rows": [
        [
         "0",
         "2017-12-31 23:00:00+00:00",
         "-377.32",
         "29.22",
         "6.74",
         "10081.0",
         "9839.0",
         "9839.0",
         "0.0",
         "0.0",
         "0.0",
         "10081.0",
         "9839.0",
         "9839.0",
         "56800.0",
         "58900.0",
         "56250.0",
         "56525.5",
         "39068.0",
         "5304.0",
         "342.75",
         "67.0",
         "0.0",
         "0.0",
         "9.0",
         "9.0",
         "1388.0",
         "-18.0",
         "0.136",
         "0.682",
         "0.039",
         "0.0",
         "0.169",
         "-377.32",
         "-377.32",
         "-377.32",
         "-377.32",
         "-377.32",
         "-377.32",
         "-377.32",
         "-377.32",
         "-377.32",
         "-377.32",
         "-377.32",
         "-377.32",
         "-377.32",
         "-377.32",
         "-377.32",
         "-377.32",
         "-377.32",
         "-377.32",
         "-377.32",
         "-377.32",
         "-377.32",
         "-377.32",
         "-377.32",
         "-377.32",
         "-377.32",
         "-377.32",
         "-377.32",
         "-377.32",
         "-377.32",
         "-377.32",
         "-377.32",
         "-377.32",
         "-377.32",
         "-377.32",
         "-377.32",
         "-377.32",
         "-377.32",
         "-377.32",
         "-377.32",
         "-377.32",
         "-377.32",
         "-377.32",
         "-377.32",
         "-377.32",
         "-377.32",
         "-377.32",
         "-377.32",
         "-377.32",
         "-377.32",
         "-377.32",
         "-377.32",
         "-377.32",
         "-377.32",
         "-377.32",
         "-377.32",
         "-377.32",
         "-377.32",
         "-377.32",
         "-377.32",
         "-377.32",
         "-377.32",
         "-377.32",
         "-377.32",
         "-377.32",
         "-377.32",
         "-377.32",
         "-377.32",
         "-377.32",
         "-377.32",
         "-377.32",
         "-377.32",
         "-377.32",
         "-377.32",
         "-377.32",
         "-377.32",
         "-377.32",
         "-377.32",
         "-377.32",
         "-377.32",
         "-377.32",
         "-377.32",
         "-377.32",
         "-377.32",
         "-377.32",
         "-377.32",
         "-377.32",
         "-377.32",
         "-377.32",
         "-377.32",
         "-377.32",
         "-377.32",
         "-377.32",
         "-377.32",
         "-377.32",
         "-377.32",
         "-377.32",
         "-377.32",
         "-377.32",
         "-377.32",
         "4",
         "1",
         "0",
         "1",
         "0",
         "0",
         "31",
         "365",
         "23",
         "0",
         "1514761200",
         "0",
         "1",
         "0",
         "-2.4492935982947064e-16",
         "1.0",
         "-2.4492935982947064e-16",
         "1.0",
         "-0.7818314824680299",
         "0.6234898018587334",
         "-0.1305261922200525",
         "0.9914448613738104",
         "47"
        ],
        [
         "1",
         "2017-12-31 23:30:00+00:00",
         "-468.52",
         "29.22",
         "6.74",
         "10047.5",
         "9820.5",
         "9820.5",
         "0.0",
         "0.0",
         "0.0",
         "10047.5",
         "9820.5",
         "9820.5",
         "55700.0",
         "57700.0",
         "55275.0",
         "55075.0",
         "38044.0",
         "5303.0",
         "342.75",
         "67.0",
         "0.0",
         "0.0",
         "9.0",
         "9.0",
         "1388.0",
         "-18.0",
         "0.139",
         "0.682",
         "0.039",
         "0.0",
         "0.169",
         "-377.32",
         "-377.32",
         "-377.32",
         "-377.32",
         "-377.32",
         "-377.32",
         "-377.32",
         "-377.32",
         "-377.32",
         "-377.32",
         "-377.32",
         "-377.32",
         "-377.32",
         "-377.32",
         "-377.32",
         "-377.32",
         "-377.32",
         "-377.32",
         "-377.32",
         "-377.32",
         "-377.32",
         "-377.32",
         "-377.32",
         "-377.32",
         "-377.32",
         "-377.32",
         "-377.32",
         "-377.32",
         "-377.32",
         "-377.32",
         "-377.32",
         "-377.32",
         "-377.32",
         "-377.32",
         "-377.32",
         "-377.32",
         "-377.32",
         "-377.32",
         "-377.32",
         "-377.32",
         "-377.32",
         "-377.32",
         "-377.32",
         "-377.32",
         "-377.32",
         "-377.32",
         "-377.32",
         "-377.32",
         "-377.32",
         "-377.32",
         "-377.32",
         "-377.32",
         "-377.32",
         "-377.32",
         "-377.32",
         "-377.32",
         "-377.32",
         "-377.32",
         "-377.32",
         "-377.32",
         "-377.32",
         "-377.32",
         "-377.32",
         "-377.32",
         "-377.32",
         "-377.32",
         "-377.32",
         "-377.32",
         "-377.32",
         "-377.32",
         "-377.32",
         "-377.32",
         "-377.32",
         "-377.32",
         "-377.32",
         "-377.32",
         "-377.32",
         "-377.32",
         "-377.32",
         "-377.32",
         "-377.32",
         "-377.32",
         "-377.32",
         "-377.32",
         "-377.32",
         "-377.32",
         "-377.32",
         "-377.32",
         "-377.32",
         "-377.32",
         "-377.32",
         "-377.32",
         "-377.32",
         "-377.32",
         "-377.32",
         "-377.32",
         "-377.32",
         "-377.32",
         "-377.32",
         "4",
         "1",
         "0",
         "1",
         "0",
         "0",
         "31",
         "365",
         "23",
         "30",
         "1514763000",
         "0",
         "1",
         "0",
         "-2.4492935982947064e-16",
         "1.0",
         "-2.4492935982947064e-16",
         "1.0",
         "-0.7818314824680299",
         "0.6234898018587334",
         "-2.4492935982947064e-16",
         "1.0",
         "48"
        ],
        [
         "2",
         "2018-01-01 00:00:00+00:00",
         "-1467.79",
         "18.11",
         "4.74",
         "10014.0",
         "9802.0",
         "9802.0",
         "0.0",
         "0.0",
         "0.0",
         "10014.0",
         "9802.0",
         "9802.0",
         "53900.0",
         "55800.0",
         "54300.0",
         "53624.5",
         "35874.0",
         "5332.0",
         "198.0",
         "21.5",
         "0.0",
         "0.0",
         "-25.0",
         "-25.0",
         "1562.0",
         "-23.0",
         "0.149",
         "0.639",
         "0.041",
         "0.0",
         "0.172",
         "-468.52",
         "-377.32",
         "-377.32",
         "-377.32",
         "-377.32",
         "-377.32",
         "-377.32",
         "-377.32",
         "-377.32",
         "-377.32",
         "-377.32",
         "-377.32",
         "-377.32",
         "-377.32",
         "-377.32",
         "-377.32",
         "-377.32",
         "-377.32",
         "-377.32",
         "-377.32",
         "-377.32",
         "-377.32",
         "-377.32",
         "-377.32",
         "-377.32",
         "-377.32",
         "-377.32",
         "-377.32",
         "-377.32",
         "-377.32",
         "-377.32",
         "-377.32",
         "-377.32",
         "-377.32",
         "-377.32",
         "-377.32",
         "-377.32",
         "-377.32",
         "-377.32",
         "-377.32",
         "-377.32",
         "-377.32",
         "-377.32",
         "-377.32",
         "-377.32",
         "-377.32",
         "-377.32",
         "-377.32",
         "-377.32",
         "-377.32",
         "-377.32",
         "-377.32",
         "-377.32",
         "-377.32",
         "-377.32",
         "-377.32",
         "-377.32",
         "-377.32",
         "-377.32",
         "-377.32",
         "-377.32",
         "-377.32",
         "-377.32",
         "-377.32",
         "-377.32",
         "-377.32",
         "-377.32",
         "-377.32",
         "-377.32",
         "-377.32",
         "-377.32",
         "-377.32",
         "-377.32",
         "-377.32",
         "-377.32",
         "-377.32",
         "-377.32",
         "-377.32",
         "-377.32",
         "-377.32",
         "-377.32",
         "-377.32",
         "-377.32",
         "-377.32",
         "-377.32",
         "-377.32",
         "-377.32",
         "-377.32",
         "-377.32",
         "-377.32",
         "-377.32",
         "-377.32",
         "-377.32",
         "-377.32",
         "-377.32",
         "-377.32",
         "-377.32",
         "-377.32",
         "-377.32",
         "1",
         "0",
         "1",
         "0",
         "1",
         "1",
         "1",
         "1",
         "0",
         "0",
         "1514764800",
         "0",
         "0",
         "1",
         "0.4999999999999999",
         "0.8660254037844387",
         "0.120536680255323",
         "0.992708874098054",
         "0.0",
         "1.0",
         "0.1305261922200515",
         "0.9914448613738104",
         "1"
        ],
        [
         "3",
         "2018-01-01 00:30:00+00:00",
         "-1467.09",
         "20.49",
         "4.74",
         "9805.0",
         "9717.5",
         "9717.5",
         "0.0",
         "0.0",
         "0.0",
         "9805.0",
         "9717.5",
         "9717.5",
         "54700.0",
         "56600.0",
         "53950.0",
         "53011.25",
         "35504.0",
         "5303.0",
         "1101.0",
         "14.33",
         "0.0",
         "0.0",
         "-67.5",
         "-67.5",
         "1736.0",
         "157.0",
         "0.149",
         "0.63",
         "0.042",
         "0.0",
         "0.175",
         "-1467.79",
         "-468.52",
         "-377.32",
         "-377.32",
         "-377.32",
         "-377.32",
         "-377.32",
         "-377.32",
         "-377.32",
         "-377.32",
         "-377.32",
         "-377.32",
         "-377.32",
         "-377.32",
         "-377.32",
         "-377.32",
         "-377.32",
         "-377.32",
         "-377.32",
         "-377.32",
         "-377.32",
         "-377.32",
         "-377.32",
         "-377.32",
         "-377.32",
         "-377.32",
         "-377.32",
         "-377.32",
         "-377.32",
         "-377.32",
         "-377.32",
         "-377.32",
         "-377.32",
         "-377.32",
         "-377.32",
         "-377.32",
         "-377.32",
         "-377.32",
         "-377.32",
         "-377.32",
         "-377.32",
         "-377.32",
         "-377.32",
         "-377.32",
         "-377.32",
         "-377.32",
         "-377.32",
         "-377.32",
         "-377.32",
         "-377.32",
         "-377.32",
         "-377.32",
         "-377.32",
         "-377.32",
         "-377.32",
         "-377.32",
         "-377.32",
         "-377.32",
         "-377.32",
         "-377.32",
         "-377.32",
         "-377.32",
         "-377.32",
         "-377.32",
         "-377.32",
         "-377.32",
         "-377.32",
         "-377.32",
         "-377.32",
         "-377.32",
         "-377.32",
         "-377.32",
         "-377.32",
         "-377.32",
         "-377.32",
         "-377.32",
         "-377.32",
         "-377.32",
         "-377.32",
         "-377.32",
         "-377.32",
         "-377.32",
         "-377.32",
         "-377.32",
         "-377.32",
         "-377.32",
         "-377.32",
         "-377.32",
         "-377.32",
         "-377.32",
         "-377.32",
         "-377.32",
         "-377.32",
         "-377.32",
         "-377.32",
         "-377.32",
         "-377.32",
         "-377.32",
         "-377.32",
         "1",
         "0",
         "1",
         "0",
         "1",
         "1",
         "1",
         "1",
         "0",
         "30",
         "1514766600",
         "0",
         "0",
         "1",
         "0.4999999999999999",
         "0.8660254037844387",
         "0.120536680255323",
         "0.992708874098054",
         "0.0",
         "1.0",
         "0.2588190451025207",
         "0.9659258262890684",
         "2"
        ],
        [
         "4",
         "2018-01-01 01:00:00+00:00",
         "-1230.2",
         "23.22",
         "3.66",
         "9596.0",
         "9633.0",
         "9633.0",
         "0.0",
         "0.0",
         "0.0",
         "9596.0",
         "9633.0",
         "9633.0",
         "54200.0",
         "56200.0",
         "53600.0",
         "52398.0",
         "34707.0",
         "5282.0",
         "1240.5",
         "0.0",
         "0.0",
         "0.0",
         "-58.5",
         "-58.5",
         "1315.0",
         "-688.0",
         "0.152",
         "0.634",
         "0.042",
         "0.0",
         "0.176",
         "-1467.09",
         "-1467.79",
         "-468.52",
         "-377.32",
         "-377.32",
         "-377.32",
         "-377.32",
         "-377.32",
         "-377.32",
         "-377.32",
         "-377.32",
         "-377.32",
         "-377.32",
         "-377.32",
         "-377.32",
         "-377.32",
         "-377.32",
         "-377.32",
         "-377.32",
         "-377.32",
         "-377.32",
         "-377.32",
         "-377.32",
         "-377.32",
         "-377.32",
         "-377.32",
         "-377.32",
         "-377.32",
         "-377.32",
         "-377.32",
         "-377.32",
         "-377.32",
         "-377.32",
         "-377.32",
         "-377.32",
         "-377.32",
         "-377.32",
         "-377.32",
         "-377.32",
         "-377.32",
         "-377.32",
         "-377.32",
         "-377.32",
         "-377.32",
         "-377.32",
         "-377.32",
         "-377.32",
         "-377.32",
         "-377.32",
         "-377.32",
         "-377.32",
         "-377.32",
         "-377.32",
         "-377.32",
         "-377.32",
         "-377.32",
         "-377.32",
         "-377.32",
         "-377.32",
         "-377.32",
         "-377.32",
         "-377.32",
         "-377.32",
         "-377.32",
         "-377.32",
         "-377.32",
         "-377.32",
         "-377.32",
         "-377.32",
         "-377.32",
         "-377.32",
         "-377.32",
         "-377.32",
         "-377.32",
         "-377.32",
         "-377.32",
         "-377.32",
         "-377.32",
         "-377.32",
         "-377.32",
         "-377.32",
         "-377.32",
         "-377.32",
         "-377.32",
         "-377.32",
         "-377.32",
         "-377.32",
         "-377.32",
         "-377.32",
         "-377.32",
         "-377.32",
         "-377.32",
         "-377.32",
         "-377.32",
         "-377.32",
         "-377.32",
         "-377.32",
         "-377.32",
         "-377.32",
         "1",
         "0",
         "1",
         "0",
         "1",
         "1",
         "1",
         "1",
         "1",
         "0",
         "1514768400",
         "0",
         "0",
         "1",
         "0.4999999999999999",
         "0.8660254037844387",
         "0.120536680255323",
         "0.992708874098054",
         "0.0",
         "1.0",
         "0.3826834323650898",
         "0.9238795325112868",
         "3"
        ]
       ],
       "shape": {
        "columns": 154,
        "rows": 5
       }
      },
      "text/html": [
       "<div>\n",
       "<style scoped>\n",
       "    .dataframe tbody tr th:only-of-type {\n",
       "        vertical-align: middle;\n",
       "    }\n",
       "\n",
       "    .dataframe tbody tr th {\n",
       "        vertical-align: top;\n",
       "    }\n",
       "\n",
       "    .dataframe thead th {\n",
       "        text-align: right;\n",
       "    }\n",
       "</style>\n",
       "<table border=\"1\" class=\"dataframe\">\n",
       "  <thead>\n",
       "    <tr style=\"text-align: right;\">\n",
       "      <th></th>\n",
       "      <th>start_date</th>\n",
       "      <th>Imbalance</th>\n",
       "      <th>ISP (lag1)</th>\n",
       "      <th>Day-ahead Spot Price</th>\n",
       "      <th>WIND_ONSHORE - D-1</th>\n",
       "      <th>WIND_ONSHORE - ID</th>\n",
       "      <th>WIND_ONSHORE - CURRENT</th>\n",
       "      <th>SOLAR - D-1</th>\n",
       "      <th>SOLAR - ID</th>\n",
       "      <th>SOLAR - CURRENT</th>\n",
       "      <th>...</th>\n",
       "      <th>day_holiday</th>\n",
       "      <th>Month_sin</th>\n",
       "      <th>Month_cos</th>\n",
       "      <th>Week_sin</th>\n",
       "      <th>Week_cos</th>\n",
       "      <th>Dayofweek_sin</th>\n",
       "      <th>Dayofweek_cos</th>\n",
       "      <th>1/2 Hour of the day_sin</th>\n",
       "      <th>1/2 Hour of the day_cos</th>\n",
       "      <th>1/2 Hour of the day</th>\n",
       "    </tr>\n",
       "  </thead>\n",
       "  <tbody>\n",
       "    <tr>\n",
       "      <th>0</th>\n",
       "      <td>2017-12-31 23:00:00+00:00</td>\n",
       "      <td>-377.32</td>\n",
       "      <td>29.22</td>\n",
       "      <td>6.74</td>\n",
       "      <td>10081.0</td>\n",
       "      <td>9839.0</td>\n",
       "      <td>9839.0</td>\n",
       "      <td>0.0</td>\n",
       "      <td>0.0</td>\n",
       "      <td>0.0</td>\n",
       "      <td>...</td>\n",
       "      <td>0</td>\n",
       "      <td>-2.449294e-16</td>\n",
       "      <td>1.000000</td>\n",
       "      <td>-2.449294e-16</td>\n",
       "      <td>1.000000</td>\n",
       "      <td>-0.781831</td>\n",
       "      <td>0.62349</td>\n",
       "      <td>-1.305262e-01</td>\n",
       "      <td>0.991445</td>\n",
       "      <td>47</td>\n",
       "    </tr>\n",
       "    <tr>\n",
       "      <th>1</th>\n",
       "      <td>2017-12-31 23:30:00+00:00</td>\n",
       "      <td>-468.52</td>\n",
       "      <td>29.22</td>\n",
       "      <td>6.74</td>\n",
       "      <td>10047.5</td>\n",
       "      <td>9820.5</td>\n",
       "      <td>9820.5</td>\n",
       "      <td>0.0</td>\n",
       "      <td>0.0</td>\n",
       "      <td>0.0</td>\n",
       "      <td>...</td>\n",
       "      <td>0</td>\n",
       "      <td>-2.449294e-16</td>\n",
       "      <td>1.000000</td>\n",
       "      <td>-2.449294e-16</td>\n",
       "      <td>1.000000</td>\n",
       "      <td>-0.781831</td>\n",
       "      <td>0.62349</td>\n",
       "      <td>-2.449294e-16</td>\n",
       "      <td>1.000000</td>\n",
       "      <td>48</td>\n",
       "    </tr>\n",
       "    <tr>\n",
       "      <th>2</th>\n",
       "      <td>2018-01-01 00:00:00+00:00</td>\n",
       "      <td>-1467.79</td>\n",
       "      <td>18.11</td>\n",
       "      <td>4.74</td>\n",
       "      <td>10014.0</td>\n",
       "      <td>9802.0</td>\n",
       "      <td>9802.0</td>\n",
       "      <td>0.0</td>\n",
       "      <td>0.0</td>\n",
       "      <td>0.0</td>\n",
       "      <td>...</td>\n",
       "      <td>1</td>\n",
       "      <td>5.000000e-01</td>\n",
       "      <td>0.866025</td>\n",
       "      <td>1.205367e-01</td>\n",
       "      <td>0.992709</td>\n",
       "      <td>0.000000</td>\n",
       "      <td>1.00000</td>\n",
       "      <td>1.305262e-01</td>\n",
       "      <td>0.991445</td>\n",
       "      <td>1</td>\n",
       "    </tr>\n",
       "    <tr>\n",
       "      <th>3</th>\n",
       "      <td>2018-01-01 00:30:00+00:00</td>\n",
       "      <td>-1467.09</td>\n",
       "      <td>20.49</td>\n",
       "      <td>4.74</td>\n",
       "      <td>9805.0</td>\n",
       "      <td>9717.5</td>\n",
       "      <td>9717.5</td>\n",
       "      <td>0.0</td>\n",
       "      <td>0.0</td>\n",
       "      <td>0.0</td>\n",
       "      <td>...</td>\n",
       "      <td>1</td>\n",
       "      <td>5.000000e-01</td>\n",
       "      <td>0.866025</td>\n",
       "      <td>1.205367e-01</td>\n",
       "      <td>0.992709</td>\n",
       "      <td>0.000000</td>\n",
       "      <td>1.00000</td>\n",
       "      <td>2.588190e-01</td>\n",
       "      <td>0.965926</td>\n",
       "      <td>2</td>\n",
       "    </tr>\n",
       "    <tr>\n",
       "      <th>4</th>\n",
       "      <td>2018-01-01 01:00:00+00:00</td>\n",
       "      <td>-1230.20</td>\n",
       "      <td>23.22</td>\n",
       "      <td>3.66</td>\n",
       "      <td>9596.0</td>\n",
       "      <td>9633.0</td>\n",
       "      <td>9633.0</td>\n",
       "      <td>0.0</td>\n",
       "      <td>0.0</td>\n",
       "      <td>0.0</td>\n",
       "      <td>...</td>\n",
       "      <td>1</td>\n",
       "      <td>5.000000e-01</td>\n",
       "      <td>0.866025</td>\n",
       "      <td>1.205367e-01</td>\n",
       "      <td>0.992709</td>\n",
       "      <td>0.000000</td>\n",
       "      <td>1.00000</td>\n",
       "      <td>3.826834e-01</td>\n",
       "      <td>0.923880</td>\n",
       "      <td>3</td>\n",
       "    </tr>\n",
       "  </tbody>\n",
       "</table>\n",
       "<p>5 rows × 154 columns</p>\n",
       "</div>"
      ],
      "text/plain": [
       "                 start_date  Imbalance  ISP (lag1)  Day-ahead Spot Price  \\\n",
       "0 2017-12-31 23:00:00+00:00    -377.32       29.22                  6.74   \n",
       "1 2017-12-31 23:30:00+00:00    -468.52       29.22                  6.74   \n",
       "2 2018-01-01 00:00:00+00:00   -1467.79       18.11                  4.74   \n",
       "3 2018-01-01 00:30:00+00:00   -1467.09       20.49                  4.74   \n",
       "4 2018-01-01 01:00:00+00:00   -1230.20       23.22                  3.66   \n",
       "\n",
       "   WIND_ONSHORE - D-1  WIND_ONSHORE - ID  WIND_ONSHORE - CURRENT  SOLAR - D-1  \\\n",
       "0             10081.0             9839.0                  9839.0          0.0   \n",
       "1             10047.5             9820.5                  9820.5          0.0   \n",
       "2             10014.0             9802.0                  9802.0          0.0   \n",
       "3              9805.0             9717.5                  9717.5          0.0   \n",
       "4              9596.0             9633.0                  9633.0          0.0   \n",
       "\n",
       "   SOLAR - ID  SOLAR - CURRENT  ...  day_holiday     Month_sin  Month_cos  \\\n",
       "0         0.0              0.0  ...            0 -2.449294e-16   1.000000   \n",
       "1         0.0              0.0  ...            0 -2.449294e-16   1.000000   \n",
       "2         0.0              0.0  ...            1  5.000000e-01   0.866025   \n",
       "3         0.0              0.0  ...            1  5.000000e-01   0.866025   \n",
       "4         0.0              0.0  ...            1  5.000000e-01   0.866025   \n",
       "\n",
       "       Week_sin  Week_cos  Dayofweek_sin  Dayofweek_cos  \\\n",
       "0 -2.449294e-16  1.000000      -0.781831        0.62349   \n",
       "1 -2.449294e-16  1.000000      -0.781831        0.62349   \n",
       "2  1.205367e-01  0.992709       0.000000        1.00000   \n",
       "3  1.205367e-01  0.992709       0.000000        1.00000   \n",
       "4  1.205367e-01  0.992709       0.000000        1.00000   \n",
       "\n",
       "   1/2 Hour of the day_sin  1/2 Hour of the day_cos  1/2 Hour of the day  \n",
       "0            -1.305262e-01                 0.991445                   47  \n",
       "1            -2.449294e-16                 1.000000                   48  \n",
       "2             1.305262e-01                 0.991445                    1  \n",
       "3             2.588190e-01                 0.965926                    2  \n",
       "4             3.826834e-01                 0.923880                    3  \n",
       "\n",
       "[5 rows x 154 columns]"
      ]
     },
     "execution_count": 42,
     "metadata": {},
     "output_type": "execute_result"
    }
   ],
   "source": [
    "data = pd.read_csv(directory + '/data/data.csv', parse_dates=['start_date'], index_col=0)\n",
    "data.head()"
   ]
  },
  {
   "cell_type": "code",
   "execution_count": 43,
   "id": "c26870ed",
   "metadata": {},
   "outputs": [],
   "source": [
    "target = 'Imbalance'"
   ]
  },
  {
   "cell_type": "markdown",
   "id": "496396ae",
   "metadata": {},
   "source": [
    "## Create the the custom function and classes"
   ]
  },
  {
   "cell_type": "code",
   "execution_count": 48,
   "id": "358a8d67",
   "metadata": {},
   "outputs": [],
   "source": [
    "#Function to compute the metrics\n",
    "\n",
    "def forecast_metrics(y_true, y_pred, seasonality: int = 1):\n",
    "    \"\"\"\n",
    "    Compute MAE, MASE and RMSSE of a forecast against a naive (lagged) baseline.\n",
    "\n",
    "    Parameters\n",
    "    ----------\n",
    "    y_true : array‑like, shape (n,)\n",
    "        The true values.\n",
    "    y_pred : array‑like, shape (n,)\n",
    "        Your model’s predictions.\n",
    "    seasonality : int, default=1\n",
    "        The lag to use for the naive forecast (1 = last timestep).\n",
    "\n",
    "    Returns\n",
    "    -------\n",
    "    mae : float\n",
    "        Mean absolute error of your predictions.\n",
    "    mase : float\n",
    "        Mean absolute scaled error:\n",
    "            mae_model / mae_naive\n",
    "    rmsse : float\n",
    "        Root mean squared scaled error:\n",
    "            rmse_model / rmse_naive\n",
    "    \"\"\"\n",
    "    # ensure 1‑D numpy arrays\n",
    "    y_true = np.array(y_true).astype(float).reshape(-1)\n",
    "    y_pred = np.array(y_pred).astype(float).reshape(-1)\n",
    "    n = len(y_true)\n",
    "    if len(y_pred) != n:\n",
    "        raise ValueError(\"y_true and y_pred must have the same length\")\n",
    "\n",
    "    # 1) MAE of your model\n",
    "    mae = np.mean(np.abs(y_true - y_pred))\n",
    "\n",
    "    # 2) Build the naive forecast (lag = seasonality)\n",
    "    #    y_naive[t] = y_true[t - seasonality]\n",
    "    #    first `seasonality` points are undefined → we drop them\n",
    "    y_naive = np.roll(y_true, seasonality)\n",
    "    mask = np.arange(n) >= seasonality\n",
    "    y_true_cut, y_naive_cut, y_pred_cut = (\n",
    "        y_true[mask],\n",
    "        y_naive[mask],\n",
    "        y_pred[mask],\n",
    "    )\n",
    "\n",
    "    # 3) Errors of the naive baseline\n",
    "    err_naive = y_true_cut - y_naive_cut\n",
    "\n",
    "    # 4) MASE = MAE_model / MAE_naive\n",
    "    mae_naive = np.mean(np.abs(err_naive))\n",
    "    mase = mae / mae_naive\n",
    "\n",
    "    # 5) RMSE of your model and of the naive baseline\n",
    "    rmse = np.sqrt(np.mean((y_true_cut - y_pred_cut) ** 2))\n",
    "    rmse_naive = np.sqrt(np.mean(err_naive**2))\n",
    "\n",
    "    # 6) RMSSE = RMSE_model / RMSE_naive\n",
    "    rmsse = rmse / rmse_naive\n",
    "\n",
    "    return mae, rmse, mase, rmsse\n",
    "\n",
    "#Funtion to split the data into train, validation and test sets\n",
    "def split_data(data, columns):\n",
    "    \"\"\"\n",
    "    Splits a dataframe into train, validation, test,\n",
    "    and returns pred_df and sample_df as well.\n",
    "\n",
    "    Parameters:\n",
    "        data (pd.DataFrame): The input dataframe.\n",
    "        columns (list): List of columns to keep.\n",
    "\n",
    "    Returns:\n",
    "        train_df, val_df, test_df, pred_df, sample_df (pd.DataFrame): The resulting splits.\n",
    "    \"\"\"\n",
    "    # Copy and set the DateTimeIndex based on 'start_date'\n",
    "    df = data.copy()\n",
    "    df.set_index('start_date', inplace=True)\n",
    "    df.dropna(inplace=True)\n",
    "\n",
    "    # Calculate the split indices\n",
    "    train_size = int(0.7 * len(df))\n",
    "    val_size = int(0.15 * len(df))\n",
    "    # test_size is not explicitly used, but it's len(df) - train_size - val_size\n",
    "\n",
    "    # Split the data\n",
    "    train_df = df.iloc[:train_size][columns]\n",
    "    val_df = df.iloc[train_size:train_size + val_size][columns]\n",
    "    test_df = df.iloc[train_size + val_size:][columns]\n",
    "\n",
    "    # Convert \"Imbalance\" column to float32 in each split\n",
    "    train_df = train_df.astype({'Imbalance': 'float32'})\n",
    "    val_df = val_df.astype({'Imbalance': 'float32'})\n",
    "    test_df = test_df.astype({'Imbalance': 'float32'})\n",
    "\n",
    "    # Create pred_df and sample_df\n",
    "    pred_df = pd.concat([train_df, test_df])\n",
    "    sample_df = pd.concat([train_df, val_df, test_df])\n",
    "\n",
    "    # Ensure all specified columns are of type float32\n",
    "    pred_df[columns] = pred_df[columns].astype(np.float32)\n",
    "    sample_df[columns] = sample_df[columns].astype(np.float32)\n",
    "\n",
    "    print(\"Train shape:\", train_df.shape)\n",
    "    print(\"Validation shape:\", val_df.shape)\n",
    "    print(\"Test shape:\", test_df.shape)\n",
    "\n",
    "    return train_df, val_df, test_df, pred_df, sample_df"
   ]
  },
  {
   "cell_type": "code",
   "execution_count": 45,
   "id": "f6256faf",
   "metadata": {},
   "outputs": [],
   "source": [
    "\n",
    "\"\"\"\n",
    "Lightning DataModule + Dataset for univariate or multivariate time–series.\n",
    "    * Sliding-window dataset\n",
    "    * Global standardisation or robust scaling\n",
    "    * Train/val/test splits\n",
    "    * PyTorch Lightning DataModule wrapper\n",
    "\"\"\"\n",
    "\n",
    "\n",
    "\n",
    "# --------------------------------------------------------------------------- #\n",
    "#                             Dataset                                          #\n",
    "# --------------------------------------------------------------------------- #\n",
    "\n",
    "class TimeSeriesDataset(Dataset):\n",
    "    \"\"\"\n",
    "    A sliding-window dataset that can optionally apply\n",
    "      * no scaling,\n",
    "      * global μ/σ standardisation, or\n",
    "      * global median/IQR robust scaling.\n",
    "\n",
    "    Attributes created when a global transformation is requested\n",
    "    -----------------------------------------------------------------\n",
    "    * ``self.mean``, ``self.std``        – for \"global\"\n",
    "    * ``self.median``, ``self.scale``    – for \"robust\"\n",
    "    \"\"\"\n",
    "\n",
    "    def __init__(\n",
    "        self,\n",
    "        data: Union[pd.DataFrame, np.ndarray],\n",
    "        window: int,\n",
    "        horizon: int,\n",
    "        n_val: Union[int, float] = 0.2,\n",
    "        n_test: Union[int, float] = 0.2,\n",
    "        normalize: str = \"none\",          # \"none\" | \"global\" | \"robust\"\n",
    "        normalize_params: Optional[Tuple[np.ndarray, np.ndarray]] = None,\n",
    "        mode: str = \"train\",              # \"train\" | \"val\" | \"test\"\n",
    "    ) -> None:\n",
    "        super().__init__()\n",
    "\n",
    "        # ------------------------------------------------------------------- #\n",
    "        # Convert & sanity-check inputs                                       #\n",
    "        # ------------------------------------------------------------------- #\n",
    "        normalize = normalize.lower()\n",
    "        mode       = mode.lower()\n",
    "\n",
    "        if isinstance(n_val, float):\n",
    "            n_val = int(len(data) * n_val)\n",
    "        if isinstance(n_test, float):\n",
    "            n_test = int(len(data) * n_test)\n",
    "\n",
    "        if isinstance(data, pd.DataFrame):\n",
    "            data = data.values\n",
    "        if data.ndim == 1:\n",
    "            data = data.reshape(-1, 1)\n",
    "\n",
    "        if normalize in (\"global\", \"robust\") and mode != \"train\":\n",
    "            assert (\n",
    "                isinstance(normalize_params, tuple)\n",
    "                and len(normalize_params) == 2\n",
    "            ), (\n",
    "                \"When using global or robust normalisation, \"\n",
    "                \"`normalize_params` must be the (location, scale) tuple \"\n",
    "                \"pre-computed on the training split.\"\n",
    "            )\n",
    "\n",
    "        self.raw_data = data                   # keep unscaled copy if needed\n",
    "        self.window   = window\n",
    "        self.horizon  = horizon\n",
    "        self.normalize = normalize\n",
    "        self.mode      = mode\n",
    "\n",
    "        # ------------------------------------------------------------------- #\n",
    "        # Train / val / test slicing                                          #\n",
    "        # ------------------------------------------------------------------- #\n",
    "        total = len(data)\n",
    "        n_samples = total - (horizon + 1) - n_val - n_test\n",
    "        assert n_samples > 0, \"Window/Horizon too large for given dataset.\"\n",
    "\n",
    "        if mode == \"train\":\n",
    "            start = 0\n",
    "            end   = horizon + 1 + n_samples\n",
    "        elif mode == \"val\":\n",
    "            start = horizon + 1 + n_samples - window\n",
    "            end   = horizon + 1 + n_samples + n_val\n",
    "        elif mode == \"test\":\n",
    "            start = horizon + 1 + n_samples + n_val - window\n",
    "            end   = horizon + 1 + n_samples + n_val + n_test\n",
    "        else:\n",
    "            raise ValueError(f\"Unknown mode '{mode}'\")\n",
    "\n",
    "        self.data = data[start:end].copy()     # slice & own the memory\n",
    "\n",
    "        # ------------------------------------------------------------------- #\n",
    "        # Global transformations                                              #\n",
    "        # ------------------------------------------------------------------- #\n",
    "        if self.normalize == \"global\":\n",
    "            if mode == \"train\":\n",
    "                self.mean = self.data.mean(axis=0)\n",
    "                self.std  = self.data.std(axis=0)\n",
    "            else:\n",
    "                self.mean, self.std = normalize_params\n",
    "\n",
    "            self.std[self.std == 0] = 1.0      # safe-guard for constant feats\n",
    "            self.data = (self.data - self.mean) / self.std\n",
    "\n",
    "        elif self.normalize == \"robust\":\n",
    "            if mode == \"train\":\n",
    "                self.median = np.median(self.data, axis=0)\n",
    "                q75, q25    = np.percentile(self.data, [75, 25], axis=0)\n",
    "                self.scale  = q75 - q25\n",
    "            else:\n",
    "                self.median, self.scale = normalize_params\n",
    "\n",
    "            self.scale[self.scale == 0] = 1.0\n",
    "            self.data = (self.data - self.median) / self.scale\n",
    "        # else: \"none\" → leave self.data untouched\n",
    "\n",
    "        #Transform to torch tensor\n",
    "        self.data = torch.as_tensor(self.data, dtype=torch.float32)\n",
    "\n",
    "    # ----------------------------------------------------------------------- #\n",
    "    # Helpers for forward / inverse transforms                                #\n",
    "    # ----------------------------------------------------------------------- #\n",
    "    def transform(self, arr: np.ndarray) -> np.ndarray:\n",
    "        \"\"\"Apply the same transform that was fitted on the training split.\"\"\"\n",
    "        if self.normalize == \"global\":\n",
    "            return (arr - self.mean) / self.std\n",
    "        if self.normalize == \"robust\":\n",
    "            return (arr - self.median) / self.scale\n",
    "        return arr\n",
    "\n",
    "    def inverse_transform(self, arr: np.ndarray) -> np.ndarray:\n",
    "        \"\"\"Bring scaled data back to the original units.\"\"\"\n",
    "        if self.normalize == \"global\":\n",
    "            return arr * self.std + self.mean\n",
    "        if self.normalize == \"robust\":\n",
    "            return arr * self.scale + self.median\n",
    "        return arr\n",
    "\n",
    "    # ----------------------------------------------------------------------- #\n",
    "    # PyTorch Dataset interface                                               #\n",
    "    # ----------------------------------------------------------------------- #\n",
    "    def __len__(self) -> int:\n",
    "        # minus 1 for 0-indexing\n",
    "        return len(self.data) - self.horizon - self.window + 1\n",
    "\n",
    "\n",
    "    \n",
    "    def __getitem__(self, idx: int):\n",
    "        x = self.data[idx : idx + self.window]                       # tensor view\n",
    "        y = self.data[idx + self.window : idx + self.window + self.horizon, :1]\n",
    "        return x, y      \n",
    "\n",
    "\n",
    "# --------------------------------------------------------------------------- #\n",
    "#                             Lightning DataModule                            #\n",
    "# --------------------------------------------------------------------------- #\n",
    "\n",
    "class TimeSeriesDataModule(pl.LightningDataModule):\n",
    "    \"\"\"\n",
    "    Thin wrapper that prepares train/val/test DataLoaders\n",
    "    from a single continuous time-series.\n",
    "    \"\"\"\n",
    "\n",
    "    def __init__(\n",
    "        self,\n",
    "        data: Union[pd.DataFrame, np.ndarray],\n",
    "        window: int,\n",
    "        horizon: int,\n",
    "        n_val: Union[int, float] = 0.2,\n",
    "        n_test: Union[int, float] = 0.2,\n",
    "        normalize: str = \"none\",           # \"none\" | \"global\" | \"robust\"\n",
    "        batch_size: int = 32,\n",
    "        num_workers: int = 0,\n",
    "    ) -> None:\n",
    "        super().__init__()\n",
    "        self.data        = data\n",
    "        self.window      = window\n",
    "        self.horizon     = horizon\n",
    "        self.n_val       = n_val\n",
    "        self.n_test      = n_test\n",
    "        self.normalize   = normalize.lower()\n",
    "        self.batch_size  = batch_size\n",
    "        self.num_workers = num_workers\n",
    "\n",
    "        # Any scheme that requires statistics fitted on the training split\n",
    "        self._needs_params = self.normalize in (\"global\", \"robust\")\n",
    "\n",
    "    # ----------------------------------------------------------------------- #\n",
    "    # Lightning hooks                                                         #\n",
    "    # ----------------------------------------------------------------------- #\n",
    "    def setup(self, stage: Optional[str] = None) -> None:\n",
    "        if stage in (None, \"fit\"):\n",
    "            self.train = TimeSeriesDataset(\n",
    "                data=self.data,\n",
    "                window=self.window,\n",
    "                horizon=self.horizon,\n",
    "                n_val=self.n_val,\n",
    "                n_test=self.n_test,\n",
    "                normalize=self.normalize,\n",
    "                mode=\"train\",\n",
    "            )\n",
    "\n",
    "            train_params: Optional[Tuple[np.ndarray, np.ndarray]] = None\n",
    "            if self._needs_params:\n",
    "                # `global` provides (mean, std); `robust` provides (median, scale)\n",
    "                train_params = (\n",
    "                    (self.train.median, self.train.scale)\n",
    "                    if self.normalize == \"robust\"\n",
    "                    else (self.train.mean, self.train.std)\n",
    "                )\n",
    "\n",
    "            self.val = TimeSeriesDataset(\n",
    "                data=self.data,\n",
    "                window=self.window,\n",
    "                horizon=self.horizon,\n",
    "                n_val=self.n_val,\n",
    "                n_test=self.n_test,\n",
    "                normalize=self.normalize,\n",
    "                normalize_params=train_params,\n",
    "                mode=\"val\",\n",
    "            )\n",
    "\n",
    "        if stage in (None, \"test\"):\n",
    "            # `self.train` exists whether we called setup from \"fit\" or \"test\"\n",
    "            if not hasattr(self, \"train\"):\n",
    "                self.train = TimeSeriesDataset(\n",
    "                    data=self.data,\n",
    "                    window=self.window,\n",
    "                    horizon=self.horizon,\n",
    "                    n_val=self.n_val,\n",
    "                    n_test=self.n_test,\n",
    "                    normalize=self.normalize,\n",
    "                    mode=\"train\",\n",
    "                )\n",
    "\n",
    "            train_params: Optional[Tuple[np.ndarray, np.ndarray]] = None\n",
    "            if self._needs_params:\n",
    "                train_params = (\n",
    "                    (self.train.median, self.train.scale)\n",
    "                    if self.normalize == \"robust\"\n",
    "                    else (self.train.mean, self.train.std)\n",
    "                )\n",
    "\n",
    "            self.test = TimeSeriesDataset(\n",
    "                data=self.data,\n",
    "                window=self.window,\n",
    "                horizon=self.horizon,\n",
    "                n_val=self.n_val,\n",
    "                n_test=self.n_test,\n",
    "                normalize=self.normalize,\n",
    "                normalize_params=train_params,\n",
    "                mode=\"test\",\n",
    "            )\n",
    "\n",
    "    # ----------------------------------------------------------------------- #\n",
    "    # DataLoader factories                                                    #\n",
    "    # ----------------------------------------------------------------------- #\n",
    "    def train_dataloader(self) -> DataLoader:\n",
    "        return DataLoader(\n",
    "            self.train,\n",
    "            batch_size=self.batch_size,\n",
    "            shuffle=True,\n",
    "            num_workers=self.num_workers,\n",
    "            pin_memory=True,\n",
    "            persistent_workers=self.num_workers > 0,\n",
    "            prefetch_factor=4,\n",
    "        )\n",
    "\n",
    "    def val_dataloader(self) -> DataLoader:\n",
    "        return DataLoader(\n",
    "            self.val,\n",
    "            batch_size=self.batch_size,\n",
    "            shuffle=False,\n",
    "            num_workers=self.num_workers,\n",
    "            pin_memory=True,\n",
    "            persistent_workers=self.num_workers > 0,\n",
    "            prefetch_factor=4,\n",
    "        )\n",
    "\n",
    "    def test_dataloader(self) -> DataLoader:\n",
    "        return DataLoader(\n",
    "            self.test,\n",
    "            batch_size=self.batch_size,\n",
    "            shuffle=False,\n",
    "            num_workers=self.num_workers,\n",
    "            pin_memory=True,\n",
    "            persistent_workers=self.num_workers > 0,\n",
    "            prefetch_factor=4,\n",
    "        )\n"
   ]
  },
  {
   "cell_type": "code",
   "execution_count": 51,
   "id": "1fe6d080",
   "metadata": {},
   "outputs": [],
   "source": [
    "# --------------------------------------------------------------------------- #\n",
    "#                             LSTM Model                                     #\n",
    "# --------------------------------------------------------------------------- #\n",
    "\n",
    "class LSTMForecast(pl.LightningModule):\n",
    "    def __init__(\n",
    "        self,\n",
    "        input_size: int,\n",
    "        hidden_sizes: list[int],        # ← now a list\n",
    "        lr: float = 1e-3,\n",
    "        bidirectional: bool = False,\n",
    "        dropout: float = 0.0,\n",
    "    ):\n",
    "        super().__init__()\n",
    "        self.save_hyperparameters()\n",
    "\n",
    "        self.bidirectional = bidirectional\n",
    "        mult = 2 if bidirectional else 1\n",
    "        self.dropout = nn.Dropout(dropout)\n",
    "\n",
    "        # build one LSTM-per-layer, each with num_layers=1\n",
    "        self.lstm_layers = nn.ModuleList()\n",
    "        for i, h in enumerate(hidden_sizes):\n",
    "            in_size = input_size if i == 0 else hidden_sizes[i-1] * mult\n",
    "            self.lstm_layers.append(\n",
    "                nn.LSTM(\n",
    "                    input_size=in_size,\n",
    "                    hidden_size=h,\n",
    "                    num_layers=1,\n",
    "                    batch_first=True,\n",
    "                    bidirectional=bidirectional,\n",
    "                    # no built-in dropout; we'll use our own between layers\n",
    "                    dropout=0.0,\n",
    "                )\n",
    "            )\n",
    "\n",
    "        # final linear: from last layer’s hidden to 1\n",
    "        self.fc = nn.Linear(hidden_sizes[-1] * mult, 1)\n",
    "        self.loss = nn.MSELoss()\n",
    "\n",
    "        # metrics\n",
    "        self.train_mae = torchmetrics.MeanAbsoluteError()\n",
    "        self.val_mae   = torchmetrics.MeanAbsoluteError()\n",
    "        self.test_mae  = torchmetrics.MeanAbsoluteError()\n",
    "\n",
    "    def forward(self, x: torch.Tensor) -> torch.Tensor:\n",
    "        # x: (B, T, input_size)\n",
    "        for lstm in self.lstm_layers:\n",
    "            x, _ = lstm(x)           # → (B, T, hidden*mult)\n",
    "            x = self.dropout(x)      # dropout between layers\n",
    "\n",
    "        h_last = x[:, -1, :]         # (B, hidden*mult)\n",
    "        y      = self.fc(h_last)     # (B, 1)\n",
    "        return y.squeeze(-1)         # (B,)\n",
    "    \n",
    "    \n",
    "    \n",
    "    def training_step(self, batch, batch_idx):\n",
    "        x, y = batch                         # y: (B, 1)\n",
    "        x = x.to(self.device, non_blocking=True)\n",
    "        y = y.to(self.device, non_blocking=True)\n",
    "        y = y.view(-1)                       # now y: (B,)\n",
    "        y_hat = self(x)                      # (B,)\n",
    "        loss  = F.mse_loss(y_hat, y)\n",
    "        # log on both step & epoch\n",
    "        self.log(\"train_loss\", loss, on_step=True, on_epoch=True, prog_bar=True)\n",
    "        self.log(\"train_mae\",  self.train_mae(y_hat, y), on_step=True, on_epoch=True, prog_bar=True)\n",
    "        return loss\n",
    "\n",
    "    def validation_step(self, batch, batch_idx):\n",
    "        x, y = batch\n",
    "        y = y.view(-1)\n",
    "        y_hat = self(x)\n",
    "        loss = F.mse_loss(y_hat, y)\n",
    "        # log once per epoch\n",
    "        self.log(\"val_loss\", loss, prog_bar=True, on_epoch=True, on_step=False)\n",
    "        self.log(\"val_mae\",  self.val_mae(y_hat, y), prog_bar=True)\n",
    "        \n",
    "\n",
    "\n",
    "    def test_step(self, batch, batch_idx):\n",
    "        x, y = batch\n",
    "        y = y.view(-1)\n",
    "        y_hat = self(x)\n",
    "        loss = F.mse_loss(y_hat, y)\n",
    "        self.log(\"test_loss\", loss)\n",
    "        self.log(\"test_mae\",  self.test_mae(y_hat, y))\n",
    "\n",
    "    def predict_step(self, batch, batch_idx, dataloader_idx=0):\n",
    "        \"\"\"\n",
    "        Called when you run: trainer.predict(model, datamodule=dm)\n",
    "        Returns the raw predictions (1‑D tensor of size [batch]).\n",
    "        \"\"\"\n",
    "        x, _ = batch\n",
    "        return self(x)\n",
    "\n",
    "    def configure_optimizers(self):\n",
    "        optimizer = torch.optim.Adam(self.parameters(), lr=self.hparams.lr)\n",
    "\n",
    "        # create the scheduler, watching \"val_loss\"\n",
    "        scheduler = torch.optim.lr_scheduler.ReduceLROnPlateau(\n",
    "            optimizer,\n",
    "            mode=\"min\",        # we want to reduce LR when val_loss stops decreasing\n",
    "            factor=0.75,        # multiply LR by 0.75 on each plateau\n",
    "            patience=3,        # wait 3 epochs with no improvement\n",
    "            verbose=True,\n",
    "        )\n",
    "\n",
    "        # tell Lightning to monitor \"val_loss\" and step the scheduler accordingly\n",
    "        return {\n",
    "            \"optimizer\": optimizer,\n",
    "            \"lr_scheduler\": {\n",
    "                \"scheduler\": scheduler,\n",
    "                \"monitor\": \"val_loss\",   # metric to monitor\n",
    "                \"interval\": \"epoch\",     # call scheduler.step() every epoch\n",
    "                \"frequency\": 1,          # how often to call\n",
    "            },\n",
    "        }\n",
    "    \n"
   ]
  },
  {
   "cell_type": "markdown",
   "id": "7121325e",
   "metadata": {},
   "source": [
    "### Setup first baseline model"
   ]
  },
  {
   "cell_type": "code",
   "execution_count": 49,
   "id": "f3b51382",
   "metadata": {},
   "outputs": [
    {
     "name": "stdout",
     "output_type": "stream",
     "text": [
      "Train shape: (85848, 4)\n",
      "Validation shape: (18396, 4)\n",
      "Test shape: (18396, 4)\n"
     ]
    }
   ],
   "source": [
    "# Define the columns to keep\n",
    "columns = ['Imbalance' , 'Imbalance_lag_1', 'Imbalance_lag_48','1/2 Hour of the day',]#'LOAD DEVIATION (lag1)','1/2 Hour of the day'] #+ imbalance_lags\n",
    "\n",
    "# Split the data\n",
    "train_df, val_df, test_df, pred_df, sample_df = split_data(data, columns)\n"
   ]
  },
  {
   "cell_type": "code",
   "execution_count": null,
   "id": "7dccdf79",
   "metadata": {},
   "outputs": [],
   "source": [
    "#Load the datamodule and setup the LSTM model\n",
    "\n",
    "datamodule = TimeSeriesDataModule(data = sample_df,\n",
    "        n_val = test_df.shape[0],\n",
    "        n_test = test_df.shape[0],\n",
    "        window = 48, # giving enough memory to capture daily seasonality\n",
    "        horizon = 1, # single step\n",
    "        normalize = \"robust\", # normalizing the data\n",
    "        batch_size = 64,\n",
    "        num_workers = 7,\n",
    "        )\n",
    "datamodule.setup()\n",
    "\n",
    "model = LSTMForecast(\n",
    "    input_size=len(columns),\n",
    "    hidden_sizes=[64, 32],  # list of hidden sizes for each layer\n",
    "    \n",
    "    lr=0.01,\n",
    "    bidirectional=True,\n",
    "    dropout=0.2,\n",
    ")\n"
   ]
  },
  {
   "cell_type": "code",
   "execution_count": 60,
   "id": "113d557f",
   "metadata": {},
   "outputs": [
    {
     "name": "stdout",
     "output_type": "stream",
     "text": [
      "Input batch shape: torch.Size([64, 48, 4]), Target batch shape: torch.Size([64, 1, 1])\n"
     ]
    }
   ],
   "source": [
    "# Check that data is loaded correctly\n",
    "for batch in datamodule.train_dataloader():\n",
    "\tprint(f\"Input batch shape: {batch[0].shape}, Target batch shape: {batch[1].shape}\")\n",
    "\tbreak  # Print the shape of the first batch only"
   ]
  },
  {
   "cell_type": "markdown",
   "id": "6322b92e",
   "metadata": {},
   "source": [
    "## Train model only with lagged imbalance"
   ]
  },
  {
   "cell_type": "code",
   "execution_count": null,
   "id": "e349e782",
   "metadata": {},
   "outputs": [],
   "source": [
    "from pytorch_lightning.callbacks import Callback, ModelCheckpoint, EarlyStopping\n",
    "from pytorch_lightning.callbacks.progress.tqdm_progress import TQDMProgressBar\n",
    "import pytorch_lightning as pl\n",
    "\n",
    "# Import necessary modules\n",
    "\n",
    "# ---------------------------------------------------------------------------\n",
    "# Custom Callback to Track Loss History\n",
    "# ---------------------------------------------------------------------------\n",
    "class LossHistory(Callback):\n",
    "    \"\"\"\n",
    "    Custom callback to track training and validation loss history\n",
    "    at the end of each epoch.\n",
    "    \"\"\"\n",
    "    def __init__(self):\n",
    "        super().__init__()\n",
    "        self.train_losses = []  # List to store training losses\n",
    "        self.val_losses = []    # List to store validation losses\n",
    "\n",
    "    def on_train_epoch_end(self, trainer, pl_module):\n",
    "        \"\"\"\n",
    "        Called at the end of each training epoch to log the training loss.\n",
    "        \"\"\"\n",
    "        metrics = trainer.callback_metrics\n",
    "        loss = metrics.get(\"train_loss_epoch\", metrics.get(\"train_loss\"))\n",
    "        if loss is not None:\n",
    "            self.train_losses.append(loss.item())\n",
    "\n",
    "    def on_validation_epoch_end(self, trainer, pl_module):\n",
    "        \"\"\"\n",
    "        Called at the end of each validation epoch to log the validation loss.\n",
    "        \"\"\"\n",
    "        loss = trainer.callback_metrics[\"val_loss\"]\n",
    "        self.val_losses.append(loss.item())\n",
    "\n",
    "# ---------------------------------------------------------------------------\n",
    "# Define Callbacks for Training\n",
    "# ---------------------------------------------------------------------------\n",
    "# Checkpoint callback to save the best model based on validation loss\n",
    "checkpoint_cb = ModelCheckpoint(\n",
    "    monitor=\"val_loss\",  # Metric to monitor\n",
    "    mode=\"min\",          # Save the model with the minimum validation loss\n",
    "    save_top_k=1,        # Keep only the best model\n",
    "    verbose=True         # Print messages when saving the model\n",
    ")\n",
    "\n",
    "# Early stopping callback to stop training if validation loss doesn't improve\n",
    "earlystop_cb = EarlyStopping(\n",
    "    monitor=\"val_loss\",  # Metric to monitor\n",
    "    min_delta=1e-3,      # Minimum improvement to qualify as an improvement\n",
    "    patience=5,          # Number of epochs to wait before stopping\n",
    "    mode=\"min\",          # Stop when the validation loss stops decreasing\n",
    "    verbose=True         # Print messages when stopping\n",
    ")\n",
    "\n",
    "# Progress bar callback to display training progress\n",
    "progress_bar = TQDMProgressBar(refresh_rate=500)  # Update every 500 batches\n",
    "\n",
    "# Custom callback to track loss history\n",
    "hist_cb = LossHistory()\n",
    "\n",
    "\n"
   ]
  },
  {
   "cell_type": "code",
   "execution_count": null,
   "id": "1b496301",
   "metadata": {},
   "outputs": [],
   "source": [
    "# ---------------------------------------------------------------------------\n",
    "# Trainer Configuration\n",
    "# ---------------------------------------------------------------------------\n",
    "trainer = pl.Trainer(\n",
    "    accelerator=\"gpu\",  # Use GPU for training if available\n",
    "    min_epochs=5,       # Minimum number of epochs to train\n",
    "    max_epochs=10,      # Maximum number of epochs to train\n",
    "    callbacks=[\n",
    "        earlystop_cb,   # Early stopping callback\n",
    "        checkpoint_cb,  # Checkpoint callback\n",
    "        progress_bar,   # Progress bar callback\n",
    "        hist_cb         # Loss history callback\n",
    "    ],\n",
    ")\n",
    "\n",
    "# ---------------------------------------------------------------------------\n",
    "# Train the Model\n",
    "# ---------------------------------------------------------------------------\n",
    "# Fit the model using the trainer and the datamodule\n",
    "trainer.fit(model, datamodule)"
   ]
  },
  {
   "cell_type": "code",
   "execution_count": null,
   "id": "c9eb030e",
   "metadata": {},
   "outputs": [],
   "source": [
    "# Retrieve the best model from the checkpoint\n",
    "best_model = LSTMForecast.load_from_checkpoint(checkpoint_cb.best_model_path)\n"
   ]
  },
  {
   "cell_type": "code",
   "execution_count": 61,
   "id": "5679af71",
   "metadata": {},
   "outputs": [
    {
     "data": {
      "image/png": "[encoded data removed]",
      "text/plain": [
       "<Figure size 1000x500 with 1 Axes>"
      ]
     },
     "metadata": {},
     "output_type": "display_data"
    }
   ],
   "source": [
    "#Plot the training and validation loss\n",
    "\n",
    "plt.figure(figsize=(10, 5))\n",
    "plt.plot(range(1, len(hist_cb.val_losses)+1), hist_cb.val_losses, marker=\"o\")\n",
    "plt.plot(range(1, len(hist_cb.train_losses)+1), hist_cb.train_losses, marker=\"o\")\n",
    "plt.xlabel(\"Epoch\")\n",
    "plt.ylabel(\"Validation Loss\")\n",
    "plt.title(\"Validation Loss vs Epoch\")\n",
    "plt.legend([\"Validation Loss\", \"Training Loss\"])\n",
    "plt.show()"
   ]
  },
  {
   "cell_type": "code",
   "execution_count": 62,
   "id": "a37ac1b0",
   "metadata": {},
   "outputs": [
    {
     "name": "stderr",
     "output_type": "stream",
     "text": [
      "LOCAL_RANK: 0 - CUDA_VISIBLE_DEVICES: [0]\n"
     ]
    },
    {
     "data": {
      "application/vnd.jupyter.widget-view+json": {
       "model_id": "74bd9d6aa1a44ad8af90632f22c01d65",
       "version_major": 2,
       "version_minor": 0
      },
      "text/plain": [
       "Predicting: |          | 0/? [00:00<?, ?it/s]"
      ]
     },
     "metadata": {},
     "output_type": "display_data"
    },
    {
     "data": {
      "application/vnd.microsoft.datawrangler.viewer.v0+json": {
       "columns": [
        {
         "name": "index",
         "rawType": "int64",
         "type": "integer"
        },
        {
         "name": "MAE",
         "rawType": "float64",
         "type": "float"
        },
        {
         "name": "RMSE",
         "rawType": "float64",
         "type": "float"
        },
        {
         "name": "MASE",
         "rawType": "float64",
         "type": "float"
        },
        {
         "name": "RMSSE",
         "rawType": "float64",
         "type": "float"
        },
        {
         "name": "Features",
         "rawType": "object",
         "type": "unknown"
        }
       ],
       "conversionMethod": "pd.DataFrame",
       "ref": "71f61a50-564c-4fe8-b565-d48a2a5b0b89",
       "rows": [
        [
         "0",
         "214.7284277562915",
         "281.5845054966499",
         "0.8368208645546968",
         "0.8523038500368759",
         "['Imbalance', 'Imbalance_lag_1', 'Imbalance_lag_48', '1/2 Hour of the day']"
        ]
       ],
       "shape": {
        "columns": 5,
        "rows": 1
       }
      },
      "text/html": [
       "<div>\n",
       "<style scoped>\n",
       "    .dataframe tbody tr th:only-of-type {\n",
       "        vertical-align: middle;\n",
       "    }\n",
       "\n",
       "    .dataframe tbody tr th {\n",
       "        vertical-align: top;\n",
       "    }\n",
       "\n",
       "    .dataframe thead th {\n",
       "        text-align: right;\n",
       "    }\n",
       "</style>\n",
       "<table border=\"1\" class=\"dataframe\">\n",
       "  <thead>\n",
       "    <tr style=\"text-align: right;\">\n",
       "      <th></th>\n",
       "      <th>MAE</th>\n",
       "      <th>RMSE</th>\n",
       "      <th>MASE</th>\n",
       "      <th>RMSSE</th>\n",
       "      <th>Features</th>\n",
       "    </tr>\n",
       "  </thead>\n",
       "  <tbody>\n",
       "    <tr>\n",
       "      <th>0</th>\n",
       "      <td>214.728428</td>\n",
       "      <td>281.584505</td>\n",
       "      <td>0.836821</td>\n",
       "      <td>0.852304</td>\n",
       "      <td>[Imbalance, Imbalance_lag_1, Imbalance_lag_48,...</td>\n",
       "    </tr>\n",
       "  </tbody>\n",
       "</table>\n",
       "</div>"
      ],
      "text/plain": [
       "          MAE        RMSE      MASE     RMSSE  \\\n",
       "0  214.728428  281.584505  0.836821  0.852304   \n",
       "\n",
       "                                            Features  \n",
       "0  [Imbalance, Imbalance_lag_1, Imbalance_lag_48,...  "
      ]
     },
     "metadata": {},
     "output_type": "display_data"
    }
   ],
   "source": [
    "y_true = test_df[\"Imbalance\"]\n",
    "\n",
    "# returns a list of 1‑D tensors, one per batch\n",
    "pred_batches = trainer.predict(\n",
    "    best_model,\n",
    "    dataloaders=datamodule.test_dataloader()\n",
    ")\n",
    "\n",
    "\n",
    "pred = torch.cat(pred_batches).squeeze().detach().numpy()\n",
    "\n",
    "pred = pred * datamodule.train.scale[0] + datamodule.train.median[0]\n",
    "\n",
    "metrics = forecast_metrics(y_true, pred, seasonality=1)\n",
    "df_metrics = pd.DataFrame([metrics], columns=[\"MAE\", \"RMSE\", \"MASE\", \"RMSSE\"])\n",
    "df_metrics[\"Features\"] = [columns]\n",
    "\n",
    "display(df_metrics)\n"
   ]
  },
  {
   "cell_type": "markdown",
   "id": "b9e5876a",
   "metadata": {},
   "source": [
    "# Test to add exogenous features\n",
    "Train the model multiple time adding each time a single extra feature. \n",
    "Use cross validation to assess average performance of added features"
   ]
  },
  {
   "cell_type": "code",
   "execution_count": null,
   "id": "e3c58c5d",
   "metadata": {},
   "outputs": [],
   "source": [
    "import numpy as np\n",
    "from sklearn.model_selection import TimeSeriesSplit\n",
    "from tqdm.auto import tqdm\n",
    "\n",
    "def cross_validate_features(data, feature_sets, base_cols, n_splits=5, seed=42):\n",
    "    \"\"\"\n",
    "    Cross-validates each feature set using time series splits.\n",
    "    \n",
    "    Args:\n",
    "        data: DataFrame containing the data\n",
    "        feature_sets: List of feature tuples to evaluate\n",
    "        base_cols: Base columns to include in all models\n",
    "        n_splits: Number of time series folds\n",
    "        seed: Random seed for reproducibility\n",
    "        \n",
    "    Returns:\n",
    "        DataFrame with cross-validated metrics for each feature set\n",
    "    \"\"\"\n",
    "    # Setup time series cross-validation\n",
    "    tscv = TimeSeriesSplit(n_splits=n_splits)\n",
    "    \n",
    "    # Store all results\n",
    "    all_results = []\n",
    "    \n",
    "    # For each feature set (including baseline)\n",
    "    for subset in tqdm(feature_sets, desc=\"Feature sets\"):\n",
    "        extra_cols = list(subset)\n",
    "        cols = base_cols + extra_cols\n",
    "        \n",
    "        # Create a descriptive run name\n",
    "        if extra_cols:\n",
    "            clean_names = [\"\".join(c.split()) for c in extra_cols]\n",
    "            run_label = \"feat_\" + \"_\".join(clean_names)\n",
    "        else:\n",
    "            run_label = \"baseline\"\n",
    "            \n",
    "        # Collect metrics across folds\n",
    "        fold_metrics = {'mae': [], 'rmse': [], 'mase': [], 'rmsse': []}\n",
    "        \n",
    "        # Run cross-validation\n",
    "        for fold, (train_idx, val_idx) in enumerate(tscv.split(data)):\n",
    "            pl.seed_everything(seed + fold, workers=True)\n",
    "            \n",
    "            # Get train and validation sets for this fold\n",
    "            train_data = data.iloc[train_idx].copy()\n",
    "            val_data = data.iloc[val_idx].copy()\n",
    "            \n",
    "            # Set proper indices for TimeSeriesDataModule\n",
    "            train_data.set_index('start_date', inplace=True)\n",
    "            val_data.set_index('start_date', inplace=True)\n",
    "            combined_data = pd.concat([train_data[cols], val_data[cols]])\n",
    "            \n",
    "            # Setup data module\n",
    "            dm = TimeSeriesDataModule(\n",
    "                data=combined_data,\n",
    "                n_val=len(val_data),\n",
    "                n_test=0,  # Not using test set in CV\n",
    "                window=48,\n",
    "                horizon=1,\n",
    "                normalize=\"robust\",\n",
    "                batch_size=32,\n",
    "                num_workers=4\n",
    "            )\n",
    "            dm.setup()\n",
    "            \n",
    "            # Create and train model\n",
    "            model = LSTMForecast(\n",
    "                input_size=len(cols),\n",
    "                hidden_size=128,\n",
    "                num_layers=2,\n",
    "                lr=1e-3,\n",
    "                bidirectional=True,\n",
    "                dropout=0.2,\n",
    "            )\n",
    "            \n",
    "            # Setup trainer with limited verbosity for CV\n",
    "            trainer = pl.Trainer(\n",
    "                accelerator=\"gpu\",\n",
    "                max_epochs=7,\n",
    "                enable_progress_bar=False,  # Reduce output during CV\n",
    "                logger=False  # No logging during CV\n",
    "            )\n",
    "            \n",
    "            # Train and predict\n",
    "            trainer.fit(model, dm)\n",
    "            preds = torch.cat(trainer.predict(model, dm.val_dataloader()))\n",
    "            preds = preds.squeeze().detach().cpu().numpy()\n",
    "            \n",
    "            # Denormalize predictions\n",
    "            preds = preds * dm.train.scale[0] + dm.train.median[0]\n",
    "            \n",
    "            # Calculate metrics\n",
    "            mae, rmse, mase, rmsse = forecast_metrics(\n",
    "                val_data[target], preds, seasonality=1\n",
    "            )\n",
    "            \n",
    "            # Store this fold's metrics\n",
    "            fold_metrics['mae'].append(mae)\n",
    "            fold_metrics['rmse'].append(rmse)\n",
    "            fold_metrics['mase'].append(mase)\n",
    "            fold_metrics['rmsse'].append(rmsse)\n",
    "            \n",
    "        # Calculate aggregate statistics\n",
    "        result = {\n",
    "            'Features': \";\".join(extra_cols) if extra_cols else \"BASELINE\",\n",
    "            'n_extra': len(extra_cols),\n",
    "            'MAE': np.mean(fold_metrics['mae']),\n",
    "            'MAE_std': np.std(fold_metrics['mae']),\n",
    "            'RMSE': np.mean(fold_metrics['rmse']),\n",
    "            'RMSE_std': np.std(fold_metrics['rmse']),\n",
    "            'MASE': np.mean(fold_metrics['mase']),\n",
    "            'MASE_std': np.std(fold_metrics['mase']),\n",
    "            'RMSSE': np.mean(fold_metrics['rmsse']),\n",
    "            'RMSSE_std': np.std(fold_metrics['rmsse']),\n",
    "        }\n",
    "        \n",
    "        all_results.append(result)\n",
    "        \n",
    "        # Print progress\n",
    "        print(f\"CV Results for {run_label}: MAE={result['MAE']:.4f}±{result['MAE_std']:.4f}, RMSE={result['RMSE']:.4f}±{result['RMSE_std']:.4f}\")\n",
    "        \n",
    "    return pd.DataFrame(all_results)"
   ]
  },
  {
   "cell_type": "code",
   "execution_count": null,
   "id": "c31b104d",
   "metadata": {},
   "outputs": [],
   "source": [
    "# Define base and candidate features\n",
    "base_cols = ['Imbalance', 'Imbalance_lag_1', 'Imbalance_lag_48', '1/2 Hour of the day_cos'] \n",
    "candidate_cols = ['ISP (lag1)', 'LOAD DEVIATION (lag1)', \n",
    "                 'WIND DEVIATION CURRENT (lag1)', 'upward_volume_balancing (lag1)',\n",
    "                 'downward_volume_balancing (lag1)']\n",
    "\n",
    "# Create feature sets (baseline + individual features)\n",
    "feature_sets = [()] + [(col,) for col in candidate_cols]\n",
    "\n",
    "# Run cross-validation\n",
    "results_df = cross_validate_features(\n",
    "    feature_sets=feature_sets,\n",
    "    base_cols=base_cols,\n",
    "    n_splits=5,\n",
    "    seed=42\n",
    ")\n",
    "\n",
    "# Save results\n",
    "results_df.to_csv(\"cv_feature_importance.csv\", index=False)\n",
    "\n",
    "# Find the most consistently beneficial features\n",
    "baseline_mae = results_df[results_df['Features'] == 'BASELINE']['MAE'].values[0]\n",
    "baseline_mae_std = results_df[results_df['Features'] == 'BASELINE']['MAE_std'].values[0]\n",
    "\n",
    "# Filter for features that consistently improve over baseline\n",
    "significant_features = results_df[\n",
    "    (results_df['MAE'] < baseline_mae) & \n",
    "    (results_df['MAE'] + results_df['MAE_std'] < baseline_mae + baseline_mae_std)\n",
    "].sort_values('MAE')\n",
    "\n",
    "print(\"Features that consistently improve performance:\")\n",
    "display(significant_features)"
   ]
  },
  {
   "cell_type": "markdown",
   "id": "3b6a3806",
   "metadata": {},
   "source": [
    "## Hyperparameter tuning using OPTUNA"
   ]
  },
  {
   "cell_type": "code",
   "execution_count": 64,
   "id": "57ff82da",
   "metadata": {},
   "outputs": [
    {
     "name": "stdout",
     "output_type": "stream",
     "text": [
      "Train shape: (85848, 4)\n",
      "Validation shape: (18396, 4)\n",
      "Test shape: (18396, 4)\n"
     ]
    }
   ],
   "source": [
    "columns = ['Imbalance', 'Imbalance_lag_48', '1/2 Hour of the day_cos','LOAD DEVIATION (lag1)'] \n",
    "\n",
    "train_df, val_df, test_df, pred_df, sample_df = split_data(data, columns)"
   ]
  },
  {
   "cell_type": "code",
   "execution_count": null,
   "id": "a29e47d6",
   "metadata": {},
   "outputs": [],
   "source": [
    "#test optuna\n",
    "import optuna\n",
    "# pull from the pytorch_lightning‐specific path:\n",
    "from optuna.integration.pytorch_lightning import PyTorchLightningPruningCallback\n",
    "import pytorch_lightning as pl\n",
    "from pytorch_lightning.callbacks import EarlyStopping\n",
    "from pytorch_lightning.loggers import TensorBoardLogger\n",
    "import json\n",
    "\n",
    "\n",
    "def objective(trial):\n",
    "    \n",
    "    n_layers = trial.suggest_int(\"n_layers\", 1, 3)\n",
    "    hidden_sizes = []\n",
    "    for i in range(n_layers):\n",
    "        # name each trial‐parameter uniquely!\n",
    "        hs = trial.suggest_categorical(f\"hidden_size_layer_{i}\", [32, 64, 128])\n",
    "        hidden_sizes.append(hs)\n",
    "\n",
    "    # --- ohyperparamsts tested---\n",
    "    dropout       = trial.suggest_float(\"dropout\",      0.1, 0.5, step=0.1)\n",
    "    lr            = trial.suggest_categorical(\"lr\",      [1e-4, 1e-3, 1e-2])\n",
    "    bidirectional = trial.suggest_categorical(\"bidirectional\", [True])  # forecasting→False\n",
    "    batch_size    = trial.suggest_categorical(\"batch_size\",   [8, 16, 32, 64, 128])\n",
    "    window        = trial.suggest_categorical(\"window\",       [48, 96, 144])\n",
    "\n",
    "    # --- build model with a list of hidden_sizes ---\n",
    "    model = LSTMForecast(\n",
    "        input_size    = len(columns),\n",
    "        hidden_sizes  = hidden_sizes,   \n",
    "        lr            = lr,\n",
    "        bidirectional = bidirectional,\n",
    "        dropout       = dropout,\n",
    "    )\n",
    "\n",
    "    \n",
    "    dm = TimeSeriesDataModule(\n",
    "        data       = sample_df,\n",
    "        n_val      = test_df.shape[0],\n",
    "        n_test     = test_df.shape[0],\n",
    "        window     = window,\n",
    "        horizon    = 1,\n",
    "        normalize  = \"robust\",\n",
    "        batch_size = batch_size,\n",
    "        num_workers= 8,\n",
    "    )\n",
    "    dm.setup()\n",
    "\n",
    "    early_stop = EarlyStopping(monitor=\"val_loss\", mode=\"min\", patience=5)\n",
    "    pruning_cb = PyTorchLightningPruningCallback(trial, monitor=\"val_loss\")\n",
    "\n",
    "    trainer = pl.Trainer(\n",
    "        max_epochs=30,\n",
    "        logger=TensorBoardLogger(\"tb_logs\", name=\"optuna\"),\n",
    "        callbacks=[early_stop, pruning_cb],\n",
    "        accelerator=\"gpu\" if torch.cuda.is_available() else \"cpu\",\n",
    "    )\n",
    "\n",
    "    trainer.fit(model, dm)\n",
    "    return trainer.callback_metrics[\"val_loss\"].item()\n"
   ]
  },
  {
   "cell_type": "code",
   "execution_count": 32,
   "id": "68a86d33",
   "metadata": {},
   "outputs": [
    {
     "name": "stderr",
     "output_type": "stream",
     "text": [
      "[I 2025-05-06 07:27:48,791] A new study created in memory with name: no-name-c2f29f0b-219d-4ac3-a5c5-ea7a714b18c6\n",
      "GPU available: True (cuda), used: True\n",
      "TPU available: False, using: 0 TPU cores\n",
      "HPU available: False, using: 0 HPUs\n",
      "You are using a CUDA device ('NVIDIA RTX A4000') that has Tensor Cores. To properly utilize them, you should set `torch.set_float32_matmul_precision('medium' | 'high')` which will trade-off precision for performance. For more details, read https://pytorch.org/docs/stable/generated/torch.set_float32_matmul_precision.html#torch.set_float32_matmul_precision\n",
      "2025-05-06 07:27:50.495347: E external/local_xla/xla/stream_executor/cuda/cuda_dnn.cc:9261] Unable to register cuDNN factory: Attempting to register factory for plugin cuDNN when one has already been registered\n",
      "2025-05-06 07:27:50.495449: E external/local_xla/xla/stream_executor/cuda/cuda_fft.cc:607] Unable to register cuFFT factory: Attempting to register factory for plugin cuFFT when one has already been registered\n",
      "2025-05-06 07:27:50.592968: E external/local_xla/xla/stream_executor/cuda/cuda_blas.cc:1515] Unable to register cuBLAS factory: Attempting to register factory for plugin cuBLAS when one has already been registered\n",
      "2025-05-06 07:27:50.807374: I tensorflow/core/platform/cpu_feature_guard.cc:182] This TensorFlow binary is optimized to use available CPU instructions in performance-critical operations.\n",
      "To enable the following instructions: AVX2 FMA, in other operations, rebuild TensorFlow with the appropriate compiler flags.\n",
      "2025-05-06 07:27:52.330937: W tensorflow/compiler/tf2tensorrt/utils/py_utils.cc:38] TF-TRT Warning: Could not find TensorRT\n",
      "LOCAL_RANK: 0 - CUDA_VISIBLE_DEVICES: [0]\n",
      "\n",
      "  | Name        | Type              | Params | Mode \n",
      "----------------------------------------------------------\n",
      "0 | dropout     | Dropout           | 0      | train\n",
      "1 | lstm_layers | ModuleList        | 9.7 K  | train\n",
      "2 | fc          | Linear            | 65     | train\n",
      "3 | loss        | MSELoss           | 0      | train\n",
      "4 | train_mae   | MeanAbsoluteError | 0      | train\n",
      "5 | val_mae     | MeanAbsoluteError | 0      | train\n",
      "6 | test_mae    | MeanAbsoluteError | 0      | train\n",
      "----------------------------------------------------------\n",
      "9.8 K     Trainable params\n",
      "0         Non-trainable params\n",
      "9.8 K     Total params\n",
      "0.039     Total estimated model params size (MB)\n",
      "8         Modules in train mode\n",
      "0         Modules in eval mode\n"
     ]
    },
    {
     "data": {
      "application/vnd.jupyter.widget-view+json": {
       "model_id": "2495458e31144f27b9290bd166a6c757",
       "version_major": 2,
       "version_minor": 0
      },
      "text/plain": [
       "Sanity Checking: |          | 0/? [00:00<?, ?it/s]"
      ]
     },
     "metadata": {},
     "output_type": "display_data"
    },
    {
     "data": {
      "application/vnd.jupyter.widget-view+json": {
       "model_id": "a661f2a2ca9840eb91a36d38d28ec985",
       "version_major": 2,
       "version_minor": 0
      },
      "text/plain": [
       "Training: |          | 0/? [00:00<?, ?it/s]"
      ]
     },
     "metadata": {},
     "output_type": "display_data"
    },
    {
     "data": {
      "application/vnd.jupyter.widget-view+json": {
       "model_id": "9680bd87651b439187161aa648b30ee1",
       "version_major": 2,
       "version_minor": 0
      },
      "text/plain": [
       "Validation: |          | 0/? [00:00<?, ?it/s]"
      ]
     },
     "metadata": {},
     "output_type": "display_data"
    },
    {
     "data": {
      "application/vnd.jupyter.widget-view+json": {
       "model_id": "98aa1a7a4c8d42db94485876b9ee2944",
       "version_major": 2,
       "version_minor": 0
      },
      "text/plain": [
       "Validation: |          | 0/? [00:00<?, ?it/s]"
      ]
     },
     "metadata": {},
     "output_type": "display_data"
    },
    {
     "data": {
      "application/vnd.jupyter.widget-view+json": {
       "model_id": "d73ebd40649941bd8691db4e6b018c27",
       "version_major": 2,
       "version_minor": 0
      },
      "text/plain": [
       "Validation: |          | 0/? [00:00<?, ?it/s]"
      ]
     },
     "metadata": {},
     "output_type": "display_data"
    },
    {
     "data": {
      "application/vnd.jupyter.widget-view+json": {
       "model_id": "6eddd7c2c3cf4e2a8c544c13402daa5e",
       "version_major": 2,
       "version_minor": 0
      },
      "text/plain": [
       "Validation: |          | 0/? [00:00<?, ?it/s]"
      ]
     },
     "metadata": {},
     "output_type": "display_data"
    },
    {
     "data": {
      "application/vnd.jupyter.widget-view+json": {
       "model_id": "ee47b746c57747e096b3e631a5df4e4f",
       "version_major": 2,
       "version_minor": 0
      },
      "text/plain": [
       "Validation: |          | 0/? [00:00<?, ?it/s]"
      ]
     },
     "metadata": {},
     "output_type": "display_data"
    },
    {
     "name": "stdout",
     "output_type": "stream",
     "text": [
      "Epoch 00005: reducing learning rate of group 0 to 7.5000e-03.\n"
     ]
    },
    {
     "data": {
      "application/vnd.jupyter.widget-view+json": {
       "model_id": "7d7673424904414a9737b2f4563da966",
       "version_major": 2,
       "version_minor": 0
      },
      "text/plain": [
       "Validation: |          | 0/? [00:00<?, ?it/s]"
      ]
     },
     "metadata": {},
     "output_type": "display_data"
    },
    {
     "name": "stderr",
     "output_type": "stream",
     "text": [
      "[I 2025-05-06 07:29:34,665] Trial 0 finished with value: 0.2901671230792999 and parameters: {'n_layers': 1, 'hidden_size_layer_0': 32, 'dropout': 0.5, 'lr': 0.01, 'bidirectional': True, 'batch_size': 32, 'window': 144}. Best is trial 0 with value: 0.2901671230792999.\n",
      "GPU available: True (cuda), used: True\n",
      "TPU available: False, using: 0 TPU cores\n",
      "HPU available: False, using: 0 HPUs\n",
      "LOCAL_RANK: 0 - CUDA_VISIBLE_DEVICES: [0]\n",
      "\n",
      "  | Name        | Type              | Params | Mode \n",
      "----------------------------------------------------------\n",
      "0 | dropout     | Dropout           | 0      | train\n",
      "1 | lstm_layers | ModuleList        | 208 K  | train\n",
      "2 | fc          | Linear            | 257    | train\n",
      "3 | loss        | MSELoss           | 0      | train\n",
      "4 | train_mae   | MeanAbsoluteError | 0      | train\n",
      "5 | val_mae     | MeanAbsoluteError | 0      | train\n",
      "6 | test_mae    | MeanAbsoluteError | 0      | train\n",
      "----------------------------------------------------------\n",
      "208 K     Trainable params\n",
      "0         Non-trainable params\n",
      "208 K     Total params\n",
      "0.835     Total estimated model params size (MB)\n",
      "9         Modules in train mode\n",
      "0         Modules in eval mode\n"
     ]
    },
    {
     "data": {
      "application/vnd.jupyter.widget-view+json": {
       "model_id": "9b97c51b714c4e22b348283e4816c4c2",
       "version_major": 2,
       "version_minor": 0
      },
      "text/plain": [
       "Sanity Checking: |          | 0/? [00:00<?, ?it/s]"
      ]
     },
     "metadata": {},
     "output_type": "display_data"
    },
    {
     "data": {
      "application/vnd.jupyter.widget-view+json": {
       "model_id": "dcf393018d654fa69a842e6e48809e81",
       "version_major": 2,
       "version_minor": 0
      },
      "text/plain": [
       "Training: |          | 0/? [00:00<?, ?it/s]"
      ]
     },
     "metadata": {},
     "output_type": "display_data"
    },
    {
     "data": {
      "application/vnd.jupyter.widget-view+json": {
       "model_id": "7da0a7da5ec344af8e88541590f03ed0",
       "version_major": 2,
       "version_minor": 0
      },
      "text/plain": [
       "Validation: |          | 0/? [00:00<?, ?it/s]"
      ]
     },
     "metadata": {},
     "output_type": "display_data"
    },
    {
     "data": {
      "application/vnd.jupyter.widget-view+json": {
       "model_id": "710ea70e582c4aa188e8c680921fff49",
       "version_major": 2,
       "version_minor": 0
      },
      "text/plain": [
       "Validation: |          | 0/? [00:00<?, ?it/s]"
      ]
     },
     "metadata": {},
     "output_type": "display_data"
    },
    {
     "data": {
      "application/vnd.jupyter.widget-view+json": {
       "model_id": "61cd70337fa541ab8014b8069ecf014e",
       "version_major": 2,
       "version_minor": 0
      },
      "text/plain": [
       "Validation: |          | 0/? [00:00<?, ?it/s]"
      ]
     },
     "metadata": {},
     "output_type": "display_data"
    },
    {
     "data": {
      "application/vnd.jupyter.widget-view+json": {
       "model_id": "e7fc2404b7224515a9b4c0af97842c30",
       "version_major": 2,
       "version_minor": 0
      },
      "text/plain": [
       "Validation: |          | 0/? [00:00<?, ?it/s]"
      ]
     },
     "metadata": {},
     "output_type": "display_data"
    },
    {
     "data": {
      "application/vnd.jupyter.widget-view+json": {
       "model_id": "dbc0e24a41554c49aa8a945667e26f69",
       "version_major": 2,
       "version_minor": 0
      },
      "text/plain": [
       "Validation: |          | 0/? [00:00<?, ?it/s]"
      ]
     },
     "metadata": {},
     "output_type": "display_data"
    },
    {
     "data": {
      "application/vnd.jupyter.widget-view+json": {
       "model_id": "9dff1da728b44bac95d18ce39e145e74",
       "version_major": 2,
       "version_minor": 0
      },
      "text/plain": [
       "Validation: |          | 0/? [00:00<?, ?it/s]"
      ]
     },
     "metadata": {},
     "output_type": "display_data"
    },
    {
     "data": {
      "application/vnd.jupyter.widget-view+json": {
       "model_id": "a0cb9b56996040d29056f1b36225ec67",
       "version_major": 2,
       "version_minor": 0
      },
      "text/plain": [
       "Validation: |          | 0/? [00:00<?, ?it/s]"
      ]
     },
     "metadata": {},
     "output_type": "display_data"
    },
    {
     "name": "stdout",
     "output_type": "stream",
     "text": [
      "Epoch 00007: reducing learning rate of group 0 to 7.5000e-04.\n"
     ]
    },
    {
     "data": {
      "application/vnd.jupyter.widget-view+json": {
       "model_id": "7d8aaf54cc714498b97899c56b4a3932",
       "version_major": 2,
       "version_minor": 0
      },
      "text/plain": [
       "Validation: |          | 0/? [00:00<?, ?it/s]"
      ]
     },
     "metadata": {},
     "output_type": "display_data"
    },
    {
     "data": {
      "application/vnd.jupyter.widget-view+json": {
       "model_id": "4eb1a02e84244b8da44b67b6f82d1b93",
       "version_major": 2,
       "version_minor": 0
      },
      "text/plain": [
       "Validation: |          | 0/? [00:00<?, ?it/s]"
      ]
     },
     "metadata": {},
     "output_type": "display_data"
    },
    {
     "data": {
      "application/vnd.jupyter.widget-view+json": {
       "model_id": "5eb22dfc1f784285b505660c9c3603d7",
       "version_major": 2,
       "version_minor": 0
      },
      "text/plain": [
       "Validation: |          | 0/? [00:00<?, ?it/s]"
      ]
     },
     "metadata": {},
     "output_type": "display_data"
    },
    {
     "data": {
      "application/vnd.jupyter.widget-view+json": {
       "model_id": "fe4a21e4e4c348ddb0a119c1624bef6a",
       "version_major": 2,
       "version_minor": 0
      },
      "text/plain": [
       "Validation: |          | 0/? [00:00<?, ?it/s]"
      ]
     },
     "metadata": {},
     "output_type": "display_data"
    },
    {
     "data": {
      "application/vnd.jupyter.widget-view+json": {
       "model_id": "9151a184471f40efaa2ba4986df8d6dc",
       "version_major": 2,
       "version_minor": 0
      },
      "text/plain": [
       "Validation: |          | 0/? [00:00<?, ?it/s]"
      ]
     },
     "metadata": {},
     "output_type": "display_data"
    },
    {
     "name": "stdout",
     "output_type": "stream",
     "text": [
      "Epoch 00012: reducing learning rate of group 0 to 5.6250e-04.\n"
     ]
    },
    {
     "data": {
      "application/vnd.jupyter.widget-view+json": {
       "model_id": "6bf30b43f1b44933ad85e4e4aac478bd",
       "version_major": 2,
       "version_minor": 0
      },
      "text/plain": [
       "Validation: |          | 0/? [00:00<?, ?it/s]"
      ]
     },
     "metadata": {},
     "output_type": "display_data"
    },
    {
     "name": "stderr",
     "output_type": "stream",
     "text": [
      "[I 2025-05-06 07:31:48,112] Trial 1 finished with value: 0.2628630995750427 and parameters: {'n_layers': 2, 'hidden_size_layer_0': 32, 'hidden_size_layer_1': 128, 'dropout': 0.2, 'lr': 0.001, 'bidirectional': True, 'batch_size': 64, 'window': 144}. Best is trial 1 with value: 0.2628630995750427.\n",
      "GPU available: True (cuda), used: True\n",
      "TPU available: False, using: 0 TPU cores\n",
      "HPU available: False, using: 0 HPUs\n",
      "LOCAL_RANK: 0 - CUDA_VISIBLE_DEVICES: [0]\n",
      "\n",
      "  | Name        | Type              | Params | Mode \n",
      "----------------------------------------------------------\n",
      "0 | dropout     | Dropout           | 0      | train\n",
      "1 | lstm_layers | ModuleList        | 211 K  | train\n",
      "2 | fc          | Linear            | 65     | train\n",
      "3 | loss        | MSELoss           | 0      | train\n",
      "4 | train_mae   | MeanAbsoluteError | 0      | train\n",
      "5 | val_mae     | MeanAbsoluteError | 0      | train\n",
      "6 | test_mae    | MeanAbsoluteError | 0      | train\n",
      "----------------------------------------------------------\n",
      "211 K     Trainable params\n",
      "0         Non-trainable params\n",
      "211 K     Total params\n",
      "0.846     Total estimated model params size (MB)\n",
      "9         Modules in train mode\n",
      "0         Modules in eval mode\n"
     ]
    },
    {
     "data": {
      "application/vnd.jupyter.widget-view+json": {
       "model_id": "b678dbf46caa4bc081833c97181bb220",
       "version_major": 2,
       "version_minor": 0
      },
      "text/plain": [
       "Sanity Checking: |          | 0/? [00:00<?, ?it/s]"
      ]
     },
     "metadata": {},
     "output_type": "display_data"
    },
    {
     "data": {
      "application/vnd.jupyter.widget-view+json": {
       "model_id": "c8b0f5a4f58248488db4b6fd77788050",
       "version_major": 2,
       "version_minor": 0
      },
      "text/plain": [
       "Training: |          | 0/? [00:00<?, ?it/s]"
      ]
     },
     "metadata": {},
     "output_type": "display_data"
    },
    {
     "data": {
      "application/vnd.jupyter.widget-view+json": {
       "model_id": "335f2b356a9849329791b0ea8fe5c214",
       "version_major": 2,
       "version_minor": 0
      },
      "text/plain": [
       "Validation: |          | 0/? [00:00<?, ?it/s]"
      ]
     },
     "metadata": {},
     "output_type": "display_data"
    },
    {
     "data": {
      "application/vnd.jupyter.widget-view+json": {
       "model_id": "8c9ed9e755944fc3848d952fb1d0bc3f",
       "version_major": 2,
       "version_minor": 0
      },
      "text/plain": [
       "Validation: |          | 0/? [00:00<?, ?it/s]"
      ]
     },
     "metadata": {},
     "output_type": "display_data"
    },
    {
     "data": {
      "application/vnd.jupyter.widget-view+json": {
       "model_id": "25b6f25995f74e4dbe056e0d47e09916",
       "version_major": 2,
       "version_minor": 0
      },
      "text/plain": [
       "Validation: |          | 0/? [00:00<?, ?it/s]"
      ]
     },
     "metadata": {},
     "output_type": "display_data"
    },
    {
     "data": {
      "application/vnd.jupyter.widget-view+json": {
       "model_id": "a4252c6e3cd049f6ab4148fbaef774c3",
       "version_major": 2,
       "version_minor": 0
      },
      "text/plain": [
       "Validation: |          | 0/? [00:00<?, ?it/s]"
      ]
     },
     "metadata": {},
     "output_type": "display_data"
    },
    {
     "data": {
      "application/vnd.jupyter.widget-view+json": {
       "model_id": "2943469571b54068ab50c35b3c671ef3",
       "version_major": 2,
       "version_minor": 0
      },
      "text/plain": [
       "Validation: |          | 0/? [00:00<?, ?it/s]"
      ]
     },
     "metadata": {},
     "output_type": "display_data"
    },
    {
     "data": {
      "application/vnd.jupyter.widget-view+json": {
       "model_id": "be2a0f71cc5b40c0a4c299a584c4df36",
       "version_major": 2,
       "version_minor": 0
      },
      "text/plain": [
       "Validation: |          | 0/? [00:00<?, ?it/s]"
      ]
     },
     "metadata": {},
     "output_type": "display_data"
    },
    {
     "data": {
      "application/vnd.jupyter.widget-view+json": {
       "model_id": "87b1ba4e00744836b20e643ab1338601",
       "version_major": 2,
       "version_minor": 0
      },
      "text/plain": [
       "Validation: |          | 0/? [00:00<?, ?it/s]"
      ]
     },
     "metadata": {},
     "output_type": "display_data"
    },
    {
     "data": {
      "application/vnd.jupyter.widget-view+json": {
       "model_id": "22cad9fac1d74038b5294ff3e558cd2a",
       "version_major": 2,
       "version_minor": 0
      },
      "text/plain": [
       "Validation: |          | 0/? [00:00<?, ?it/s]"
      ]
     },
     "metadata": {},
     "output_type": "display_data"
    },
    {
     "data": {
      "application/vnd.jupyter.widget-view+json": {
       "model_id": "af294ad551914070884ee6003773f29c",
       "version_major": 2,
       "version_minor": 0
      },
      "text/plain": [
       "Validation: |          | 0/? [00:00<?, ?it/s]"
      ]
     },
     "metadata": {},
     "output_type": "display_data"
    },
    {
     "data": {
      "application/vnd.jupyter.widget-view+json": {
       "model_id": "7ee850a7580945a08d4ae4df82220eb9",
       "version_major": 2,
       "version_minor": 0
      },
      "text/plain": [
       "Validation: |          | 0/? [00:00<?, ?it/s]"
      ]
     },
     "metadata": {},
     "output_type": "display_data"
    },
    {
     "data": {
      "application/vnd.jupyter.widget-view+json": {
       "model_id": "b39ba6c640c84c34aa2ddc304dcd0f9c",
       "version_major": 2,
       "version_minor": 0
      },
      "text/plain": [
       "Validation: |          | 0/? [00:00<?, ?it/s]"
      ]
     },
     "metadata": {},
     "output_type": "display_data"
    },
    {
     "data": {
      "application/vnd.jupyter.widget-view+json": {
       "model_id": "c7b6cdbe7fdd4c23a6cc3c4f84310272",
       "version_major": 2,
       "version_minor": 0
      },
      "text/plain": [
       "Validation: |          | 0/? [00:00<?, ?it/s]"
      ]
     },
     "metadata": {},
     "output_type": "display_data"
    },
    {
     "data": {
      "application/vnd.jupyter.widget-view+json": {
       "model_id": "ab230371ab86455dbbdee40c553b73eb",
       "version_major": 2,
       "version_minor": 0
      },
      "text/plain": [
       "Validation: |          | 0/? [00:00<?, ?it/s]"
      ]
     },
     "metadata": {},
     "output_type": "display_data"
    },
    {
     "data": {
      "application/vnd.jupyter.widget-view+json": {
       "model_id": "e16a7f79aaa04e1aa0d774450452649e",
       "version_major": 2,
       "version_minor": 0
      },
      "text/plain": [
       "Validation: |          | 0/? [00:00<?, ?it/s]"
      ]
     },
     "metadata": {},
     "output_type": "display_data"
    },
    {
     "data": {
      "application/vnd.jupyter.widget-view+json": {
       "model_id": "2ac2eefda4a64d9b80aacd996e329974",
       "version_major": 2,
       "version_minor": 0
      },
      "text/plain": [
       "Validation: |          | 0/? [00:00<?, ?it/s]"
      ]
     },
     "metadata": {},
     "output_type": "display_data"
    },
    {
     "data": {
      "application/vnd.jupyter.widget-view+json": {
       "model_id": "1bfa08bac1df463f930dd8416ac8d98c",
       "version_major": 2,
       "version_minor": 0
      },
      "text/plain": [
       "Validation: |          | 0/? [00:00<?, ?it/s]"
      ]
     },
     "metadata": {},
     "output_type": "display_data"
    },
    {
     "data": {
      "application/vnd.jupyter.widget-view+json": {
       "model_id": "70b3e8e401214c5b97bf2ab808dbc0d0",
       "version_major": 2,
       "version_minor": 0
      },
      "text/plain": [
       "Validation: |          | 0/? [00:00<?, ?it/s]"
      ]
     },
     "metadata": {},
     "output_type": "display_data"
    },
    {
     "data": {
      "application/vnd.jupyter.widget-view+json": {
       "model_id": "777644e4122d4048a6e230acd096993a",
       "version_major": 2,
       "version_minor": 0
      },
      "text/plain": [
       "Validation: |          | 0/? [00:00<?, ?it/s]"
      ]
     },
     "metadata": {},
     "output_type": "display_data"
    },
    {
     "name": "stdout",
     "output_type": "stream",
     "text": [
      "Epoch 00018: reducing learning rate of group 0 to 7.5000e-04.\n"
     ]
    },
    {
     "data": {
      "application/vnd.jupyter.widget-view+json": {
       "model_id": "6e57662818c24d62ae6d237df7eb03ab",
       "version_major": 2,
       "version_minor": 0
      },
      "text/plain": [
       "Validation: |          | 0/? [00:00<?, ?it/s]"
      ]
     },
     "metadata": {},
     "output_type": "display_data"
    },
    {
     "name": "stderr",
     "output_type": "stream",
     "text": [
      "[I 2025-05-06 07:34:43,020] Trial 2 finished with value: 0.20958064496517181 and parameters: {'n_layers': 2, 'hidden_size_layer_0': 128, 'hidden_size_layer_1': 32, 'dropout': 0.30000000000000004, 'lr': 0.001, 'bidirectional': True, 'batch_size': 64, 'window': 48}. Best is trial 2 with value: 0.20958064496517181.\n",
      "GPU available: True (cuda), used: True\n",
      "TPU available: False, using: 0 TPU cores\n",
      "HPU available: False, using: 0 HPUs\n",
      "LOCAL_RANK: 0 - CUDA_VISIBLE_DEVICES: [0]\n",
      "\n",
      "  | Name        | Type              | Params | Mode \n",
      "----------------------------------------------------------\n",
      "0 | dropout     | Dropout           | 0      | train\n",
      "1 | lstm_layers | ModuleList        | 137 K  | train\n",
      "2 | fc          | Linear            | 257    | train\n",
      "3 | loss        | MSELoss           | 0      | train\n",
      "4 | train_mae   | MeanAbsoluteError | 0      | train\n",
      "5 | val_mae     | MeanAbsoluteError | 0      | train\n",
      "6 | test_mae    | MeanAbsoluteError | 0      | train\n",
      "----------------------------------------------------------\n",
      "137 K     Trainable params\n",
      "0         Non-trainable params\n",
      "137 K     Total params\n",
      "0.550     Total estimated model params size (MB)\n",
      "8         Modules in train mode\n",
      "0         Modules in eval mode\n"
     ]
    },
    {
     "data": {
      "application/vnd.jupyter.widget-view+json": {
       "model_id": "c812cbf75d26413b89f7bdba979d1afe",
       "version_major": 2,
       "version_minor": 0
      },
      "text/plain": [
       "Sanity Checking: |          | 0/? [00:00<?, ?it/s]"
      ]
     },
     "metadata": {},
     "output_type": "display_data"
    },
    {
     "data": {
      "application/vnd.jupyter.widget-view+json": {
       "model_id": "d7e9b2c6cfc447d4907ca58a316adb8c",
       "version_major": 2,
       "version_minor": 0
      },
      "text/plain": [
       "Training: |          | 0/? [00:00<?, ?it/s]"
      ]
     },
     "metadata": {},
     "output_type": "display_data"
    },
    {
     "data": {
      "application/vnd.jupyter.widget-view+json": {
       "model_id": "17c030ccf8c7477a8e09f45fd91b10e3",
       "version_major": 2,
       "version_minor": 0
      },
      "text/plain": [
       "Validation: |          | 0/? [00:00<?, ?it/s]"
      ]
     },
     "metadata": {},
     "output_type": "display_data"
    },
    {
     "data": {
      "application/vnd.jupyter.widget-view+json": {
       "model_id": "bdfc760014054deea4a4637a3c38b36b",
       "version_major": 2,
       "version_minor": 0
      },
      "text/plain": [
       "Validation: |          | 0/? [00:00<?, ?it/s]"
      ]
     },
     "metadata": {},
     "output_type": "display_data"
    },
    {
     "data": {
      "application/vnd.jupyter.widget-view+json": {
       "model_id": "3f467e2add1344c497db89b51788b03a",
       "version_major": 2,
       "version_minor": 0
      },
      "text/plain": [
       "Validation: |          | 0/? [00:00<?, ?it/s]"
      ]
     },
     "metadata": {},
     "output_type": "display_data"
    },
    {
     "data": {
      "application/vnd.jupyter.widget-view+json": {
       "model_id": "65d538557f794d648b4db0e30adff063",
       "version_major": 2,
       "version_minor": 0
      },
      "text/plain": [
       "Validation: |          | 0/? [00:00<?, ?it/s]"
      ]
     },
     "metadata": {},
     "output_type": "display_data"
    },
    {
     "data": {
      "application/vnd.jupyter.widget-view+json": {
       "model_id": "bf10f6c982be4fc4aade756b37b955ff",
       "version_major": 2,
       "version_minor": 0
      },
      "text/plain": [
       "Validation: |          | 0/? [00:00<?, ?it/s]"
      ]
     },
     "metadata": {},
     "output_type": "display_data"
    },
    {
     "data": {
      "application/vnd.jupyter.widget-view+json": {
       "model_id": "3474e3831f2e434fbd0964983179bae4",
       "version_major": 2,
       "version_minor": 0
      },
      "text/plain": [
       "Validation: |          | 0/? [00:00<?, ?it/s]"
      ]
     },
     "metadata": {},
     "output_type": "display_data"
    },
    {
     "data": {
      "application/vnd.jupyter.widget-view+json": {
       "model_id": "caea44568fc4468dbee6c216a69edfd4",
       "version_major": 2,
       "version_minor": 0
      },
      "text/plain": [
       "Validation: |          | 0/? [00:00<?, ?it/s]"
      ]
     },
     "metadata": {},
     "output_type": "display_data"
    },
    {
     "data": {
      "application/vnd.jupyter.widget-view+json": {
       "model_id": "da9e8db35d994e5c8c2e2f53156689f3",
       "version_major": 2,
       "version_minor": 0
      },
      "text/plain": [
       "Validation: |          | 0/? [00:00<?, ?it/s]"
      ]
     },
     "metadata": {},
     "output_type": "display_data"
    },
    {
     "data": {
      "application/vnd.jupyter.widget-view+json": {
       "model_id": "f8238577d96c4ff19557aae03ef8ca82",
       "version_major": 2,
       "version_minor": 0
      },
      "text/plain": [
       "Validation: |          | 0/? [00:00<?, ?it/s]"
      ]
     },
     "metadata": {},
     "output_type": "display_data"
    },
    {
     "data": {
      "application/vnd.jupyter.widget-view+json": {
       "model_id": "b6a47ff9522a4fcd97c0b1fc1b5ef53f",
       "version_major": 2,
       "version_minor": 0
      },
      "text/plain": [
       "Validation: |          | 0/? [00:00<?, ?it/s]"
      ]
     },
     "metadata": {},
     "output_type": "display_data"
    },
    {
     "data": {
      "application/vnd.jupyter.widget-view+json": {
       "model_id": "88187826a91e46f795ebd97319c05612",
       "version_major": 2,
       "version_minor": 0
      },
      "text/plain": [
       "Validation: |          | 0/? [00:00<?, ?it/s]"
      ]
     },
     "metadata": {},
     "output_type": "display_data"
    },
    {
     "data": {
      "application/vnd.jupyter.widget-view+json": {
       "model_id": "da2385a096274ed390075ce9860f9bd2",
       "version_major": 2,
       "version_minor": 0
      },
      "text/plain": [
       "Validation: |          | 0/? [00:00<?, ?it/s]"
      ]
     },
     "metadata": {},
     "output_type": "display_data"
    },
    {
     "name": "stdout",
     "output_type": "stream",
     "text": [
      "Epoch 00012: reducing learning rate of group 0 to 7.5000e-04.\n"
     ]
    },
    {
     "data": {
      "application/vnd.jupyter.widget-view+json": {
       "model_id": "e09ae712d53b48a189afd2fd0df5b144",
       "version_major": 2,
       "version_minor": 0
      },
      "text/plain": [
       "Validation: |          | 0/? [00:00<?, ?it/s]"
      ]
     },
     "metadata": {},
     "output_type": "display_data"
    },
    {
     "name": "stderr",
     "output_type": "stream",
     "text": [
      "[I 2025-05-06 07:35:46,669] Trial 3 finished with value: 0.23911923170089722 and parameters: {'n_layers': 1, 'hidden_size_layer_0': 128, 'dropout': 0.1, 'lr': 0.001, 'bidirectional': True, 'batch_size': 128, 'window': 96}. Best is trial 2 with value: 0.20958064496517181.\n",
      "GPU available: True (cuda), used: True\n",
      "TPU available: False, using: 0 TPU cores\n",
      "HPU available: False, using: 0 HPUs\n",
      "LOCAL_RANK: 0 - CUDA_VISIBLE_DEVICES: [0]\n",
      "\n",
      "  | Name        | Type              | Params | Mode \n",
      "----------------------------------------------------------\n",
      "0 | dropout     | Dropout           | 0      | train\n",
      "1 | lstm_layers | ModuleList        | 275 K  | train\n",
      "2 | fc          | Linear            | 257    | train\n",
      "3 | loss        | MSELoss           | 0      | train\n",
      "4 | train_mae   | MeanAbsoluteError | 0      | train\n",
      "5 | val_mae     | MeanAbsoluteError | 0      | train\n",
      "6 | test_mae    | MeanAbsoluteError | 0      | train\n",
      "----------------------------------------------------------\n",
      "276 K     Trainable params\n",
      "0         Non-trainable params\n",
      "276 K     Total params\n",
      "1.105     Total estimated model params size (MB)\n",
      "10        Modules in train mode\n",
      "0         Modules in eval mode\n"
     ]
    },
    {
     "data": {
      "application/vnd.jupyter.widget-view+json": {
       "model_id": "a60cc35edbd94a03b4afe855ccbfdea3",
       "version_major": 2,
       "version_minor": 0
      },
      "text/plain": [
       "Sanity Checking: |          | 0/? [00:00<?, ?it/s]"
      ]
     },
     "metadata": {},
     "output_type": "display_data"
    },
    {
     "data": {
      "application/vnd.jupyter.widget-view+json": {
       "model_id": "c819b40ea0e8445690d7546f84282cb2",
       "version_major": 2,
       "version_minor": 0
      },
      "text/plain": [
       "Training: |          | 0/? [00:00<?, ?it/s]"
      ]
     },
     "metadata": {},
     "output_type": "display_data"
    },
    {
     "data": {
      "application/vnd.jupyter.widget-view+json": {
       "model_id": "e6c760e1d5974e07ab836a154489e9d3",
       "version_major": 2,
       "version_minor": 0
      },
      "text/plain": [
       "Validation: |          | 0/? [00:00<?, ?it/s]"
      ]
     },
     "metadata": {},
     "output_type": "display_data"
    },
    {
     "data": {
      "application/vnd.jupyter.widget-view+json": {
       "model_id": "9325d118d3584e659b686e201fa18b9a",
       "version_major": 2,
       "version_minor": 0
      },
      "text/plain": [
       "Validation: |          | 0/? [00:00<?, ?it/s]"
      ]
     },
     "metadata": {},
     "output_type": "display_data"
    },
    {
     "data": {
      "application/vnd.jupyter.widget-view+json": {
       "model_id": "6e71c10490a8460aa0aedc8f30d1adf5",
       "version_major": 2,
       "version_minor": 0
      },
      "text/plain": [
       "Validation: |          | 0/? [00:00<?, ?it/s]"
      ]
     },
     "metadata": {},
     "output_type": "display_data"
    },
    {
     "data": {
      "application/vnd.jupyter.widget-view+json": {
       "model_id": "b3ddab9e05d54ef6b54f90e74dad6879",
       "version_major": 2,
       "version_minor": 0
      },
      "text/plain": [
       "Validation: |          | 0/? [00:00<?, ?it/s]"
      ]
     },
     "metadata": {},
     "output_type": "display_data"
    },
    {
     "data": {
      "application/vnd.jupyter.widget-view+json": {
       "model_id": "6e40e93a9bdf499dafe83a9d89724b3a",
       "version_major": 2,
       "version_minor": 0
      },
      "text/plain": [
       "Validation: |          | 0/? [00:00<?, ?it/s]"
      ]
     },
     "metadata": {},
     "output_type": "display_data"
    },
    {
     "data": {
      "application/vnd.jupyter.widget-view+json": {
       "model_id": "f496f9378e414777be7ef71004637c2c",
       "version_major": 2,
       "version_minor": 0
      },
      "text/plain": [
       "Validation: |          | 0/? [00:00<?, ?it/s]"
      ]
     },
     "metadata": {},
     "output_type": "display_data"
    },
    {
     "data": {
      "application/vnd.jupyter.widget-view+json": {
       "model_id": "377a37bb50fa4b12a5fa543348c26fed",
       "version_major": 2,
       "version_minor": 0
      },
      "text/plain": [
       "Validation: |          | 0/? [00:00<?, ?it/s]"
      ]
     },
     "metadata": {},
     "output_type": "display_data"
    },
    {
     "data": {
      "application/vnd.jupyter.widget-view+json": {
       "model_id": "fcce747295404dac8e5640899b64cdc9",
       "version_major": 2,
       "version_minor": 0
      },
      "text/plain": [
       "Validation: |          | 0/? [00:00<?, ?it/s]"
      ]
     },
     "metadata": {},
     "output_type": "display_data"
    },
    {
     "data": {
      "application/vnd.jupyter.widget-view+json": {
       "model_id": "13c06676c6b1494685ac7c43290ac7d4",
       "version_major": 2,
       "version_minor": 0
      },
      "text/plain": [
       "Validation: |          | 0/? [00:00<?, ?it/s]"
      ]
     },
     "metadata": {},
     "output_type": "display_data"
    },
    {
     "data": {
      "application/vnd.jupyter.widget-view+json": {
       "model_id": "53e0cbb08f64430694539330101f12be",
       "version_major": 2,
       "version_minor": 0
      },
      "text/plain": [
       "Validation: |          | 0/? [00:00<?, ?it/s]"
      ]
     },
     "metadata": {},
     "output_type": "display_data"
    },
    {
     "data": {
      "application/vnd.jupyter.widget-view+json": {
       "model_id": "3d203ed1da654580b086cd4b2d54ceef",
       "version_major": 2,
       "version_minor": 0
      },
      "text/plain": [
       "Validation: |          | 0/? [00:00<?, ?it/s]"
      ]
     },
     "metadata": {},
     "output_type": "display_data"
    },
    {
     "data": {
      "application/vnd.jupyter.widget-view+json": {
       "model_id": "6fe9bfbf34af4dc8ba0b541c2c8acd4c",
       "version_major": 2,
       "version_minor": 0
      },
      "text/plain": [
       "Validation: |          | 0/? [00:00<?, ?it/s]"
      ]
     },
     "metadata": {},
     "output_type": "display_data"
    },
    {
     "data": {
      "application/vnd.jupyter.widget-view+json": {
       "model_id": "c88a71ca05d2415f910a96de454777a8",
       "version_major": 2,
       "version_minor": 0
      },
      "text/plain": [
       "Validation: |          | 0/? [00:00<?, ?it/s]"
      ]
     },
     "metadata": {},
     "output_type": "display_data"
    },
    {
     "data": {
      "application/vnd.jupyter.widget-view+json": {
       "model_id": "da4cd35ca161475f8689e5c2cfd0dc0d",
       "version_major": 2,
       "version_minor": 0
      },
      "text/plain": [
       "Validation: |          | 0/? [00:00<?, ?it/s]"
      ]
     },
     "metadata": {},
     "output_type": "display_data"
    },
    {
     "data": {
      "application/vnd.jupyter.widget-view+json": {
       "model_id": "039091310ba440899a28ff5d0b880e13",
       "version_major": 2,
       "version_minor": 0
      },
      "text/plain": [
       "Validation: |          | 0/? [00:00<?, ?it/s]"
      ]
     },
     "metadata": {},
     "output_type": "display_data"
    },
    {
     "data": {
      "application/vnd.jupyter.widget-view+json": {
       "model_id": "b8395de47fe4449f8f8a84b44190e566",
       "version_major": 2,
       "version_minor": 0
      },
      "text/plain": [
       "Validation: |          | 0/? [00:00<?, ?it/s]"
      ]
     },
     "metadata": {},
     "output_type": "display_data"
    },
    {
     "data": {
      "application/vnd.jupyter.widget-view+json": {
       "model_id": "27acfd0b73e9488c92178a83c1132491",
       "version_major": 2,
       "version_minor": 0
      },
      "text/plain": [
       "Validation: |          | 0/? [00:00<?, ?it/s]"
      ]
     },
     "metadata": {},
     "output_type": "display_data"
    },
    {
     "data": {
      "application/vnd.jupyter.widget-view+json": {
       "model_id": "52eb6cc8a63e489197cc896ce0423384",
       "version_major": 2,
       "version_minor": 0
      },
      "text/plain": [
       "Validation: |          | 0/? [00:00<?, ?it/s]"
      ]
     },
     "metadata": {},
     "output_type": "display_data"
    },
    {
     "data": {
      "application/vnd.jupyter.widget-view+json": {
       "model_id": "b8641f53ce51435699fcac0aa724e358",
       "version_major": 2,
       "version_minor": 0
      },
      "text/plain": [
       "Validation: |          | 0/? [00:00<?, ?it/s]"
      ]
     },
     "metadata": {},
     "output_type": "display_data"
    },
    {
     "data": {
      "application/vnd.jupyter.widget-view+json": {
       "model_id": "5407fb9870ee4aa784639976e6af238e",
       "version_major": 2,
       "version_minor": 0
      },
      "text/plain": [
       "Validation: |          | 0/? [00:00<?, ?it/s]"
      ]
     },
     "metadata": {},
     "output_type": "display_data"
    },
    {
     "data": {
      "application/vnd.jupyter.widget-view+json": {
       "model_id": "63c52f464df34966847eaf5e65d28204",
       "version_major": 2,
       "version_minor": 0
      },
      "text/plain": [
       "Validation: |          | 0/? [00:00<?, ?it/s]"
      ]
     },
     "metadata": {},
     "output_type": "display_data"
    },
    {
     "data": {
      "application/vnd.jupyter.widget-view+json": {
       "model_id": "03aa4cdd030848f786e247f0fce0209c",
       "version_major": 2,
       "version_minor": 0
      },
      "text/plain": [
       "Validation: |          | 0/? [00:00<?, ?it/s]"
      ]
     },
     "metadata": {},
     "output_type": "display_data"
    },
    {
     "data": {
      "application/vnd.jupyter.widget-view+json": {
       "model_id": "5beafbb0940641daa98ebfa2ea9a5c33",
       "version_major": 2,
       "version_minor": 0
      },
      "text/plain": [
       "Validation: |          | 0/? [00:00<?, ?it/s]"
      ]
     },
     "metadata": {},
     "output_type": "display_data"
    },
    {
     "data": {
      "application/vnd.jupyter.widget-view+json": {
       "model_id": "9c5e0f8a584a4cb19b4f7d31e1a3b0cf",
       "version_major": 2,
       "version_minor": 0
      },
      "text/plain": [
       "Validation: |          | 0/? [00:00<?, ?it/s]"
      ]
     },
     "metadata": {},
     "output_type": "display_data"
    },
    {
     "data": {
      "application/vnd.jupyter.widget-view+json": {
       "model_id": "7a35f14c9af64f32af146f0ff7da8927",
       "version_major": 2,
       "version_minor": 0
      },
      "text/plain": [
       "Validation: |          | 0/? [00:00<?, ?it/s]"
      ]
     },
     "metadata": {},
     "output_type": "display_data"
    },
    {
     "name": "stdout",
     "output_type": "stream",
     "text": [
      "Epoch 00027: reducing learning rate of group 0 to 5.6250e-04.\n"
     ]
    },
    {
     "data": {
      "application/vnd.jupyter.widget-view+json": {
       "model_id": "1136c730d9d646759fc1d18b9c6dc8a1",
       "version_major": 2,
       "version_minor": 0
      },
      "text/plain": [
       "Validation: |          | 0/? [00:00<?, ?it/s]"
      ]
     },
     "metadata": {},
     "output_type": "display_data"
    },
    {
     "name": "stderr",
     "output_type": "stream",
     "text": [
      "[I 2025-05-06 07:54:18,668] Trial 4 finished with value: 0.21603769063949585 and parameters: {'n_layers': 3, 'hidden_size_layer_0': 64, 'hidden_size_layer_1': 32, 'hidden_size_layer_2': 128, 'dropout': 0.4, 'lr': 0.001, 'bidirectional': True, 'batch_size': 16, 'window': 96}. Best is trial 2 with value: 0.20958064496517181.\n",
      "GPU available: True (cuda), used: True\n",
      "TPU available: False, using: 0 TPU cores\n",
      "HPU available: False, using: 0 HPUs\n",
      "LOCAL_RANK: 0 - CUDA_VISIBLE_DEVICES: [0]\n",
      "\n",
      "  | Name        | Type              | Params | Mode \n",
      "----------------------------------------------------------\n",
      "0 | dropout     | Dropout           | 0      | train\n",
      "1 | lstm_layers | ModuleList        | 76.3 K | train\n",
      "2 | fc          | Linear            | 129    | train\n",
      "3 | loss        | MSELoss           | 0      | train\n",
      "4 | train_mae   | MeanAbsoluteError | 0      | train\n",
      "5 | val_mae     | MeanAbsoluteError | 0      | train\n",
      "6 | test_mae    | MeanAbsoluteError | 0      | train\n",
      "----------------------------------------------------------\n",
      "76.4 K    Trainable params\n",
      "0         Non-trainable params\n",
      "76.4 K    Total params\n",
      "0.306     Total estimated model params size (MB)\n",
      "9         Modules in train mode\n",
      "0         Modules in eval mode\n"
     ]
    },
    {
     "data": {
      "application/vnd.jupyter.widget-view+json": {
       "model_id": "8c42774f2cf242a385f60f7c683ab759",
       "version_major": 2,
       "version_minor": 0
      },
      "text/plain": [
       "Sanity Checking: |          | 0/? [00:00<?, ?it/s]"
      ]
     },
     "metadata": {},
     "output_type": "display_data"
    },
    {
     "data": {
      "application/vnd.jupyter.widget-view+json": {
       "model_id": "b8f28cf168444283bbb1030128efc31b",
       "version_major": 2,
       "version_minor": 0
      },
      "text/plain": [
       "Training: |          | 0/? [00:00<?, ?it/s]"
      ]
     },
     "metadata": {},
     "output_type": "display_data"
    },
    {
     "data": {
      "application/vnd.jupyter.widget-view+json": {
       "model_id": "0c58cbb6b26743618101ee0c84099994",
       "version_major": 2,
       "version_minor": 0
      },
      "text/plain": [
       "Validation: |          | 0/? [00:00<?, ?it/s]"
      ]
     },
     "metadata": {},
     "output_type": "display_data"
    },
    {
     "data": {
      "application/vnd.jupyter.widget-view+json": {
       "model_id": "6e86884d3eaa47e490348096a30805c3",
       "version_major": 2,
       "version_minor": 0
      },
      "text/plain": [
       "Validation: |          | 0/? [00:00<?, ?it/s]"
      ]
     },
     "metadata": {},
     "output_type": "display_data"
    },
    {
     "data": {
      "application/vnd.jupyter.widget-view+json": {
       "model_id": "e350c4e337e3425397042ec9ad31bb91",
       "version_major": 2,
       "version_minor": 0
      },
      "text/plain": [
       "Validation: |          | 0/? [00:00<?, ?it/s]"
      ]
     },
     "metadata": {},
     "output_type": "display_data"
    },
    {
     "data": {
      "application/vnd.jupyter.widget-view+json": {
       "model_id": "c808539ab7e24eb69c4b9ab5923c1255",
       "version_major": 2,
       "version_minor": 0
      },
      "text/plain": [
       "Validation: |          | 0/? [00:00<?, ?it/s]"
      ]
     },
     "metadata": {},
     "output_type": "display_data"
    },
    {
     "data": {
      "application/vnd.jupyter.widget-view+json": {
       "model_id": "1f3f5ae55f5b4820aa3225d2cb62a563",
       "version_major": 2,
       "version_minor": 0
      },
      "text/plain": [
       "Validation: |          | 0/? [00:00<?, ?it/s]"
      ]
     },
     "metadata": {},
     "output_type": "display_data"
    },
    {
     "data": {
      "application/vnd.jupyter.widget-view+json": {
       "model_id": "7ca2989d4ddf4f3da89b4927f39454cb",
       "version_major": 2,
       "version_minor": 0
      },
      "text/plain": [
       "Validation: |          | 0/? [00:00<?, ?it/s]"
      ]
     },
     "metadata": {},
     "output_type": "display_data"
    },
    {
     "name": "stderr",
     "output_type": "stream",
     "text": [
      "[I 2025-05-06 07:55:14,480] Trial 5 pruned. Trial was pruned at epoch 5.\n",
      "GPU available: True (cuda), used: True\n",
      "TPU available: False, using: 0 TPU cores\n",
      "HPU available: False, using: 0 HPUs\n",
      "LOCAL_RANK: 0 - CUDA_VISIBLE_DEVICES: [0]\n",
      "\n",
      "  | Name        | Type              | Params | Mode \n",
      "----------------------------------------------------------\n",
      "0 | dropout     | Dropout           | 0      | train\n",
      "1 | lstm_layers | ModuleList        | 374 K  | train\n",
      "2 | fc          | Linear            | 65     | train\n",
      "3 | loss        | MSELoss           | 0      | train\n",
      "4 | train_mae   | MeanAbsoluteError | 0      | train\n",
      "5 | val_mae     | MeanAbsoluteError | 0      | train\n",
      "6 | test_mae    | MeanAbsoluteError | 0      | train\n",
      "----------------------------------------------------------\n",
      "374 K     Trainable params\n",
      "0         Non-trainable params\n",
      "374 K     Total params\n",
      "1.497     Total estimated model params size (MB)\n",
      "10        Modules in train mode\n",
      "0         Modules in eval mode\n"
     ]
    },
    {
     "data": {
      "application/vnd.jupyter.widget-view+json": {
       "model_id": "0b7450db8fb74d368e2eefeccd1f4d9a",
       "version_major": 2,
       "version_minor": 0
      },
      "text/plain": [
       "Sanity Checking: |          | 0/? [00:00<?, ?it/s]"
      ]
     },
     "metadata": {},
     "output_type": "display_data"
    },
    {
     "data": {
      "application/vnd.jupyter.widget-view+json": {
       "model_id": "57221617341546b4bd912d59791c376d",
       "version_major": 2,
       "version_minor": 0
      },
      "text/plain": [
       "Training: |          | 0/? [00:00<?, ?it/s]"
      ]
     },
     "metadata": {},
     "output_type": "display_data"
    },
    {
     "data": {
      "application/vnd.jupyter.widget-view+json": {
       "model_id": "0620f3cc6ddb474993d61438b73906c1",
       "version_major": 2,
       "version_minor": 0
      },
      "text/plain": [
       "Validation: |          | 0/? [00:00<?, ?it/s]"
      ]
     },
     "metadata": {},
     "output_type": "display_data"
    },
    {
     "data": {
      "application/vnd.jupyter.widget-view+json": {
       "model_id": "033ae900145645df8d56abddfb46c9e0",
       "version_major": 2,
       "version_minor": 0
      },
      "text/plain": [
       "Validation: |          | 0/? [00:00<?, ?it/s]"
      ]
     },
     "metadata": {},
     "output_type": "display_data"
    },
    {
     "data": {
      "application/vnd.jupyter.widget-view+json": {
       "model_id": "fc450913ff4240d8b8cc184332ed756c",
       "version_major": 2,
       "version_minor": 0
      },
      "text/plain": [
       "Validation: |          | 0/? [00:00<?, ?it/s]"
      ]
     },
     "metadata": {},
     "output_type": "display_data"
    },
    {
     "data": {
      "application/vnd.jupyter.widget-view+json": {
       "model_id": "32cccda147d04da8bbbf87ff07377505",
       "version_major": 2,
       "version_minor": 0
      },
      "text/plain": [
       "Validation: |          | 0/? [00:00<?, ?it/s]"
      ]
     },
     "metadata": {},
     "output_type": "display_data"
    },
    {
     "data": {
      "application/vnd.jupyter.widget-view+json": {
       "model_id": "d991f4d8df904cbf837f8f6c421c1d94",
       "version_major": 2,
       "version_minor": 0
      },
      "text/plain": [
       "Validation: |          | 0/? [00:00<?, ?it/s]"
      ]
     },
     "metadata": {},
     "output_type": "display_data"
    },
    {
     "data": {
      "application/vnd.jupyter.widget-view+json": {
       "model_id": "3813823e391541aeabb14dee22a69f75",
       "version_major": 2,
       "version_minor": 0
      },
      "text/plain": [
       "Validation: |          | 0/? [00:00<?, ?it/s]"
      ]
     },
     "metadata": {},
     "output_type": "display_data"
    },
    {
     "data": {
      "application/vnd.jupyter.widget-view+json": {
       "model_id": "d4e92b464d8244d49c19a2fd5adfb7d9",
       "version_major": 2,
       "version_minor": 0
      },
      "text/plain": [
       "Validation: |          | 0/? [00:00<?, ?it/s]"
      ]
     },
     "metadata": {},
     "output_type": "display_data"
    },
    {
     "name": "stderr",
     "output_type": "stream",
     "text": [
      "[I 2025-05-06 07:59:52,357] Trial 6 pruned. Trial was pruned at epoch 6.\n",
      "GPU available: True (cuda), used: True\n",
      "TPU available: False, using: 0 TPU cores\n",
      "HPU available: False, using: 0 HPUs\n",
      "LOCAL_RANK: 0 - CUDA_VISIBLE_DEVICES: [0]\n",
      "\n",
      "  | Name        | Type              | Params | Mode \n",
      "----------------------------------------------------------\n",
      "0 | dropout     | Dropout           | 0      | train\n",
      "1 | lstm_layers | ModuleList        | 77.3 K | train\n",
      "2 | fc          | Linear            | 65     | train\n",
      "3 | loss        | MSELoss           | 0      | train\n",
      "4 | train_mae   | MeanAbsoluteError | 0      | train\n",
      "5 | val_mae     | MeanAbsoluteError | 0      | train\n",
      "6 | test_mae    | MeanAbsoluteError | 0      | train\n",
      "----------------------------------------------------------\n",
      "77.4 K    Trainable params\n",
      "0         Non-trainable params\n",
      "77.4 K    Total params\n",
      "0.310     Total estimated model params size (MB)\n",
      "9         Modules in train mode\n",
      "0         Modules in eval mode\n"
     ]
    },
    {
     "data": {
      "application/vnd.jupyter.widget-view+json": {
       "model_id": "67afda976a2942bc924d62ab472c985c",
       "version_major": 2,
       "version_minor": 0
      },
      "text/plain": [
       "Sanity Checking: |          | 0/? [00:00<?, ?it/s]"
      ]
     },
     "metadata": {},
     "output_type": "display_data"
    },
    {
     "data": {
      "application/vnd.jupyter.widget-view+json": {
       "model_id": "8b16f67e927f436a9c6b5425ebe8eefd",
       "version_major": 2,
       "version_minor": 0
      },
      "text/plain": [
       "Training: |          | 0/? [00:00<?, ?it/s]"
      ]
     },
     "metadata": {},
     "output_type": "display_data"
    },
    {
     "data": {
      "application/vnd.jupyter.widget-view+json": {
       "model_id": "c2f42448acde4a688344cc6ab1038aaa",
       "version_major": 2,
       "version_minor": 0
      },
      "text/plain": [
       "Validation: |          | 0/? [00:00<?, ?it/s]"
      ]
     },
     "metadata": {},
     "output_type": "display_data"
    },
    {
     "data": {
      "application/vnd.jupyter.widget-view+json": {
       "model_id": "2201df6484174ad99bb701f876518b57",
       "version_major": 2,
       "version_minor": 0
      },
      "text/plain": [
       "Validation: |          | 0/? [00:00<?, ?it/s]"
      ]
     },
     "metadata": {},
     "output_type": "display_data"
    },
    {
     "data": {
      "application/vnd.jupyter.widget-view+json": {
       "model_id": "20d4f3a2e3624f0cb1fadf3d9345145c",
       "version_major": 2,
       "version_minor": 0
      },
      "text/plain": [
       "Validation: |          | 0/? [00:00<?, ?it/s]"
      ]
     },
     "metadata": {},
     "output_type": "display_data"
    },
    {
     "data": {
      "application/vnd.jupyter.widget-view+json": {
       "model_id": "eda7f5f0a27741f1a83cdde8e670573e",
       "version_major": 2,
       "version_minor": 0
      },
      "text/plain": [
       "Validation: |          | 0/? [00:00<?, ?it/s]"
      ]
     },
     "metadata": {},
     "output_type": "display_data"
    },
    {
     "data": {
      "application/vnd.jupyter.widget-view+json": {
       "model_id": "01b2f50cf8004dc89e807005ff2adce7",
       "version_major": 2,
       "version_minor": 0
      },
      "text/plain": [
       "Validation: |          | 0/? [00:00<?, ?it/s]"
      ]
     },
     "metadata": {},
     "output_type": "display_data"
    },
    {
     "data": {
      "application/vnd.jupyter.widget-view+json": {
       "model_id": "6b349c8e75714a30801ad399702915f7",
       "version_major": 2,
       "version_minor": 0
      },
      "text/plain": [
       "Validation: |          | 0/? [00:00<?, ?it/s]"
      ]
     },
     "metadata": {},
     "output_type": "display_data"
    },
    {
     "data": {
      "application/vnd.jupyter.widget-view+json": {
       "model_id": "5b89896a62df4017a35a677c90f258a2",
       "version_major": 2,
       "version_minor": 0
      },
      "text/plain": [
       "Validation: |          | 0/? [00:00<?, ?it/s]"
      ]
     },
     "metadata": {},
     "output_type": "display_data"
    },
    {
     "data": {
      "application/vnd.jupyter.widget-view+json": {
       "model_id": "37b08afcdcc642a3ab1e7fd636b18d2d",
       "version_major": 2,
       "version_minor": 0
      },
      "text/plain": [
       "Validation: |          | 0/? [00:00<?, ?it/s]"
      ]
     },
     "metadata": {},
     "output_type": "display_data"
    },
    {
     "data": {
      "application/vnd.jupyter.widget-view+json": {
       "model_id": "1844c30113a948a7831fc10eddf14d64",
       "version_major": 2,
       "version_minor": 0
      },
      "text/plain": [
       "Validation: |          | 0/? [00:00<?, ?it/s]"
      ]
     },
     "metadata": {},
     "output_type": "display_data"
    },
    {
     "data": {
      "application/vnd.jupyter.widget-view+json": {
       "model_id": "f5566c7cbdd84bebb368f4b4d7c90dee",
       "version_major": 2,
       "version_minor": 0
      },
      "text/plain": [
       "Validation: |          | 0/? [00:00<?, ?it/s]"
      ]
     },
     "metadata": {},
     "output_type": "display_data"
    },
    {
     "data": {
      "application/vnd.jupyter.widget-view+json": {
       "model_id": "5538a63a7c014c8994afd976d4297674",
       "version_major": 2,
       "version_minor": 0
      },
      "text/plain": [
       "Validation: |          | 0/? [00:00<?, ?it/s]"
      ]
     },
     "metadata": {},
     "output_type": "display_data"
    },
    {
     "data": {
      "application/vnd.jupyter.widget-view+json": {
       "model_id": "bd249a2b65af4cf1a0b43191a4411882",
       "version_major": 2,
       "version_minor": 0
      },
      "text/plain": [
       "Validation: |          | 0/? [00:00<?, ?it/s]"
      ]
     },
     "metadata": {},
     "output_type": "display_data"
    },
    {
     "data": {
      "application/vnd.jupyter.widget-view+json": {
       "model_id": "f7a21e0f3b054d04b82a885bd31eee12",
       "version_major": 2,
       "version_minor": 0
      },
      "text/plain": [
       "Validation: |          | 0/? [00:00<?, ?it/s]"
      ]
     },
     "metadata": {},
     "output_type": "display_data"
    },
    {
     "name": "stdout",
     "output_type": "stream",
     "text": [
      "Epoch 00013: reducing learning rate of group 0 to 7.5000e-04.\n"
     ]
    },
    {
     "data": {
      "application/vnd.jupyter.widget-view+json": {
       "model_id": "3d5119477cb442ccbb743b508d619719",
       "version_major": 2,
       "version_minor": 0
      },
      "text/plain": [
       "Validation: |          | 0/? [00:00<?, ?it/s]"
      ]
     },
     "metadata": {},
     "output_type": "display_data"
    },
    {
     "name": "stderr",
     "output_type": "stream",
     "text": [
      "[I 2025-05-06 08:16:11,176] Trial 7 finished with value: 0.2046850323677063 and parameters: {'n_layers': 2, 'hidden_size_layer_0': 64, 'hidden_size_layer_1': 32, 'dropout': 0.1, 'lr': 0.001, 'bidirectional': True, 'batch_size': 8, 'window': 48}. Best is trial 7 with value: 0.2046850323677063.\n",
      "GPU available: True (cuda), used: True\n",
      "TPU available: False, using: 0 TPU cores\n",
      "HPU available: False, using: 0 HPUs\n",
      "LOCAL_RANK: 0 - CUDA_VISIBLE_DEVICES: [0]\n",
      "\n",
      "  | Name        | Type              | Params | Mode \n",
      "----------------------------------------------------------\n",
      "0 | dropout     | Dropout           | 0      | train\n",
      "1 | lstm_layers | ModuleList        | 35.8 K | train\n",
      "2 | fc          | Linear            | 129    | train\n",
      "3 | loss        | MSELoss           | 0      | train\n",
      "4 | train_mae   | MeanAbsoluteError | 0      | train\n",
      "5 | val_mae     | MeanAbsoluteError | 0      | train\n",
      "6 | test_mae    | MeanAbsoluteError | 0      | train\n",
      "----------------------------------------------------------\n",
      "36.0 K    Trainable params\n",
      "0         Non-trainable params\n",
      "36.0 K    Total params\n",
      "0.144     Total estimated model params size (MB)\n",
      "8         Modules in train mode\n",
      "0         Modules in eval mode\n"
     ]
    },
    {
     "data": {
      "application/vnd.jupyter.widget-view+json": {
       "model_id": "51d8ada807ab47c8929d6323f2c3b867",
       "version_major": 2,
       "version_minor": 0
      },
      "text/plain": [
       "Sanity Checking: |          | 0/? [00:00<?, ?it/s]"
      ]
     },
     "metadata": {},
     "output_type": "display_data"
    },
    {
     "data": {
      "application/vnd.jupyter.widget-view+json": {
       "model_id": "e16f374af300458bab1d85175ede104b",
       "version_major": 2,
       "version_minor": 0
      },
      "text/plain": [
       "Training: |          | 0/? [00:00<?, ?it/s]"
      ]
     },
     "metadata": {},
     "output_type": "display_data"
    },
    {
     "data": {
      "application/vnd.jupyter.widget-view+json": {
       "model_id": "2175618260574e2886e124f74d682421",
       "version_major": 2,
       "version_minor": 0
      },
      "text/plain": [
       "Validation: |          | 0/? [00:00<?, ?it/s]"
      ]
     },
     "metadata": {},
     "output_type": "display_data"
    },
    {
     "data": {
      "application/vnd.jupyter.widget-view+json": {
       "model_id": "dadbd1fd39f840418fa8c17d5f39d444",
       "version_major": 2,
       "version_minor": 0
      },
      "text/plain": [
       "Validation: |          | 0/? [00:00<?, ?it/s]"
      ]
     },
     "metadata": {},
     "output_type": "display_data"
    },
    {
     "data": {
      "application/vnd.jupyter.widget-view+json": {
       "model_id": "eef1a6ac06b949729889ec3d6d9f3d7b",
       "version_major": 2,
       "version_minor": 0
      },
      "text/plain": [
       "Validation: |          | 0/? [00:00<?, ?it/s]"
      ]
     },
     "metadata": {},
     "output_type": "display_data"
    },
    {
     "data": {
      "application/vnd.jupyter.widget-view+json": {
       "model_id": "dadeeb2437e64a73b14384df0262dfe8",
       "version_major": 2,
       "version_minor": 0
      },
      "text/plain": [
       "Validation: |          | 0/? [00:00<?, ?it/s]"
      ]
     },
     "metadata": {},
     "output_type": "display_data"
    },
    {
     "data": {
      "application/vnd.jupyter.widget-view+json": {
       "model_id": "7b85e698f0fb445b987a016ed1fe790e",
       "version_major": 2,
       "version_minor": 0
      },
      "text/plain": [
       "Validation: |          | 0/? [00:00<?, ?it/s]"
      ]
     },
     "metadata": {},
     "output_type": "display_data"
    },
    {
     "data": {
      "application/vnd.jupyter.widget-view+json": {
       "model_id": "321d03ee5f0146c0a0b16949fbd40edf",
       "version_major": 2,
       "version_minor": 0
      },
      "text/plain": [
       "Validation: |          | 0/? [00:00<?, ?it/s]"
      ]
     },
     "metadata": {},
     "output_type": "display_data"
    },
    {
     "name": "stderr",
     "output_type": "stream",
     "text": [
      "[I 2025-05-06 08:17:03,126] Trial 8 pruned. Trial was pruned at epoch 5.\n",
      "GPU available: True (cuda), used: True\n",
      "TPU available: False, using: 0 TPU cores\n",
      "HPU available: False, using: 0 HPUs\n",
      "LOCAL_RANK: 0 - CUDA_VISIBLE_DEVICES: [0]\n",
      "\n",
      "  | Name        | Type              | Params | Mode \n",
      "----------------------------------------------------------\n",
      "0 | dropout     | Dropout           | 0      | train\n",
      "1 | lstm_layers | ModuleList        | 373 K  | train\n",
      "2 | fc          | Linear            | 129    | train\n",
      "3 | loss        | MSELoss           | 0      | train\n",
      "4 | train_mae   | MeanAbsoluteError | 0      | train\n",
      "5 | val_mae     | MeanAbsoluteError | 0      | train\n",
      "6 | test_mae    | MeanAbsoluteError | 0      | train\n",
      "----------------------------------------------------------\n",
      "373 K     Trainable params\n",
      "0         Non-trainable params\n",
      "373 K     Total params\n",
      "1.494     Total estimated model params size (MB)\n",
      "10        Modules in train mode\n",
      "0         Modules in eval mode\n"
     ]
    },
    {
     "data": {
      "application/vnd.jupyter.widget-view+json": {
       "model_id": "2032483f8049411493c366ed21983549",
       "version_major": 2,
       "version_minor": 0
      },
      "text/plain": [
       "Sanity Checking: |          | 0/? [00:00<?, ?it/s]"
      ]
     },
     "metadata": {},
     "output_type": "display_data"
    },
    {
     "data": {
      "application/vnd.jupyter.widget-view+json": {
       "model_id": "6453a17f8b194fed8051c73b916c6dac",
       "version_major": 2,
       "version_minor": 0
      },
      "text/plain": [
       "Training: |          | 0/? [00:00<?, ?it/s]"
      ]
     },
     "metadata": {},
     "output_type": "display_data"
    },
    {
     "data": {
      "application/vnd.jupyter.widget-view+json": {
       "model_id": "591568c8b6574917924dd9a3c8c49cb3",
       "version_major": 2,
       "version_minor": 0
      },
      "text/plain": [
       "Validation: |          | 0/? [00:00<?, ?it/s]"
      ]
     },
     "metadata": {},
     "output_type": "display_data"
    },
    {
     "data": {
      "application/vnd.jupyter.widget-view+json": {
       "model_id": "53a1475ccf1f4148909e83bc8aa06970",
       "version_major": 2,
       "version_minor": 0
      },
      "text/plain": [
       "Validation: |          | 0/? [00:00<?, ?it/s]"
      ]
     },
     "metadata": {},
     "output_type": "display_data"
    },
    {
     "data": {
      "application/vnd.jupyter.widget-view+json": {
       "model_id": "a4ee4452a7db4c40814f9d00b69d0d44",
       "version_major": 2,
       "version_minor": 0
      },
      "text/plain": [
       "Validation: |          | 0/? [00:00<?, ?it/s]"
      ]
     },
     "metadata": {},
     "output_type": "display_data"
    },
    {
     "data": {
      "application/vnd.jupyter.widget-view+json": {
       "model_id": "e25b30bdf8ac4cf48745965c8cd35e63",
       "version_major": 2,
       "version_minor": 0
      },
      "text/plain": [
       "Validation: |          | 0/? [00:00<?, ?it/s]"
      ]
     },
     "metadata": {},
     "output_type": "display_data"
    },
    {
     "data": {
      "application/vnd.jupyter.widget-view+json": {
       "model_id": "090671f0b1da447390580887cc4ae4d1",
       "version_major": 2,
       "version_minor": 0
      },
      "text/plain": [
       "Validation: |          | 0/? [00:00<?, ?it/s]"
      ]
     },
     "metadata": {},
     "output_type": "display_data"
    },
    {
     "data": {
      "application/vnd.jupyter.widget-view+json": {
       "model_id": "d35f749561ef4f4cab4b0e0caaeb1795",
       "version_major": 2,
       "version_minor": 0
      },
      "text/plain": [
       "Validation: |          | 0/? [00:00<?, ?it/s]"
      ]
     },
     "metadata": {},
     "output_type": "display_data"
    },
    {
     "name": "stderr",
     "output_type": "stream",
     "text": [
      "[I 2025-05-06 08:18:44,727] Trial 9 pruned. Trial was pruned at epoch 5.\n",
      "GPU available: True (cuda), used: True\n",
      "TPU available: False, using: 0 TPU cores\n",
      "HPU available: False, using: 0 HPUs\n",
      "LOCAL_RANK: 0 - CUDA_VISIBLE_DEVICES: [0]\n",
      "\n",
      "  | Name        | Type              | Params | Mode \n",
      "----------------------------------------------------------\n",
      "0 | dropout     | Dropout           | 0      | train\n",
      "1 | lstm_layers | ModuleList        | 77.3 K | train\n",
      "2 | fc          | Linear            | 65     | train\n",
      "3 | loss        | MSELoss           | 0      | train\n",
      "4 | train_mae   | MeanAbsoluteError | 0      | train\n",
      "5 | val_mae     | MeanAbsoluteError | 0      | train\n",
      "6 | test_mae    | MeanAbsoluteError | 0      | train\n",
      "----------------------------------------------------------\n",
      "77.4 K    Trainable params\n",
      "0         Non-trainable params\n",
      "77.4 K    Total params\n",
      "0.310     Total estimated model params size (MB)\n",
      "9         Modules in train mode\n",
      "0         Modules in eval mode\n"
     ]
    },
    {
     "data": {
      "application/vnd.jupyter.widget-view+json": {
       "model_id": "4e6ddb9f4c764582951d92d797f21585",
       "version_major": 2,
       "version_minor": 0
      },
      "text/plain": [
       "Sanity Checking: |          | 0/? [00:00<?, ?it/s]"
      ]
     },
     "metadata": {},
     "output_type": "display_data"
    },
    {
     "data": {
      "application/vnd.jupyter.widget-view+json": {
       "model_id": "d0fda0122b6b4e3d8f2ea1429a6a60df",
       "version_major": 2,
       "version_minor": 0
      },
      "text/plain": [
       "Training: |          | 0/? [00:00<?, ?it/s]"
      ]
     },
     "metadata": {},
     "output_type": "display_data"
    },
    {
     "data": {
      "application/vnd.jupyter.widget-view+json": {
       "model_id": "2cd2bb97dcd1488dae6c0fe2e97f58b0",
       "version_major": 2,
       "version_minor": 0
      },
      "text/plain": [
       "Validation: |          | 0/? [00:00<?, ?it/s]"
      ]
     },
     "metadata": {},
     "output_type": "display_data"
    },
    {
     "data": {
      "application/vnd.jupyter.widget-view+json": {
       "model_id": "cbd15df6f87d434e96a6b382e9f34130",
       "version_major": 2,
       "version_minor": 0
      },
      "text/plain": [
       "Validation: |          | 0/? [00:00<?, ?it/s]"
      ]
     },
     "metadata": {},
     "output_type": "display_data"
    },
    {
     "data": {
      "application/vnd.jupyter.widget-view+json": {
       "model_id": "62e0e0c8cfc14233be2da08202aee14b",
       "version_major": 2,
       "version_minor": 0
      },
      "text/plain": [
       "Validation: |          | 0/? [00:00<?, ?it/s]"
      ]
     },
     "metadata": {},
     "output_type": "display_data"
    },
    {
     "data": {
      "application/vnd.jupyter.widget-view+json": {
       "model_id": "abd48d62b13d49188bb0568c5769be3d",
       "version_major": 2,
       "version_minor": 0
      },
      "text/plain": [
       "Validation: |          | 0/? [00:00<?, ?it/s]"
      ]
     },
     "metadata": {},
     "output_type": "display_data"
    },
    {
     "data": {
      "application/vnd.jupyter.widget-view+json": {
       "model_id": "df3eb3064cbe4f84be17c7a0fca0608a",
       "version_major": 2,
       "version_minor": 0
      },
      "text/plain": [
       "Validation: |          | 0/? [00:00<?, ?it/s]"
      ]
     },
     "metadata": {},
     "output_type": "display_data"
    },
    {
     "name": "stderr",
     "output_type": "stream",
     "text": [
      "IOPub message rate exceeded.\n",
      "The Jupyter server will temporarily stop sending output\n",
      "to the client in order to avoid crashing it.\n",
      "To change this limit, set the config variable\n",
      "`--ServerApp.iopub_msg_rate_limit`.\n",
      "\n",
      "Current values:\n",
      "ServerApp.iopub_msg_rate_limit=1000.0 (msgs/sec)\n",
      "ServerApp.rate_limit_window=3.0 (secs)\n",
      "\n"
     ]
    },
    {
     "data": {
      "application/vnd.jupyter.widget-view+json": {
       "model_id": "a82cb60d5ac948daaa685276fc537473",
       "version_major": 2,
       "version_minor": 0
      },
      "text/plain": [
       "Validation: |          | 0/? [00:00<?, ?it/s]"
      ]
     },
     "metadata": {},
     "output_type": "display_data"
    },
    {
     "data": {
      "application/vnd.jupyter.widget-view+json": {
       "model_id": "2b1b5cdbbac7412383f7248a9134f52d",
       "version_major": 2,
       "version_minor": 0
      },
      "text/plain": [
       "Validation: |          | 0/? [00:00<?, ?it/s]"
      ]
     },
     "metadata": {},
     "output_type": "display_data"
    },
    {
     "data": {
      "application/vnd.jupyter.widget-view+json": {
       "model_id": "b4f1f9da214b42daa5d114a5bf493068",
       "version_major": 2,
       "version_minor": 0
      },
      "text/plain": [
       "Validation: |          | 0/? [00:00<?, ?it/s]"
      ]
     },
     "metadata": {},
     "output_type": "display_data"
    },
    {
     "data": {
      "application/vnd.jupyter.widget-view+json": {
       "model_id": "3ecf197d1391469884b53c6bbb0d28aa",
       "version_major": 2,
       "version_minor": 0
      },
      "text/plain": [
       "Validation: |          | 0/? [00:00<?, ?it/s]"
      ]
     },
     "metadata": {},
     "output_type": "display_data"
    },
    {
     "data": {
      "application/vnd.jupyter.widget-view+json": {
       "model_id": "2b9ccfceec974f3fba3d949768c7f672",
       "version_major": 2,
       "version_minor": 0
      },
      "text/plain": [
       "Validation: |          | 0/? [00:00<?, ?it/s]"
      ]
     },
     "metadata": {},
     "output_type": "display_data"
    },
    {
     "data": {
      "application/vnd.jupyter.widget-view+json": {
       "model_id": "9c3c2e5dfe6f456594d7c59fab7bb320",
       "version_major": 2,
       "version_minor": 0
      },
      "text/plain": [
       "Validation: |          | 0/? [00:00<?, ?it/s]"
      ]
     },
     "metadata": {},
     "output_type": "display_data"
    },
    {
     "data": {
      "application/vnd.jupyter.widget-view+json": {
       "model_id": "d9dd2c0d127740f8a94df54484d147c8",
       "version_major": 2,
       "version_minor": 0
      },
      "text/plain": [
       "Validation: |          | 0/? [00:00<?, ?it/s]"
      ]
     },
     "metadata": {},
     "output_type": "display_data"
    },
    {
     "data": {
      "application/vnd.jupyter.widget-view+json": {
       "model_id": "b5ff0a42a6144ed6ac9c3f404a7eca89",
       "version_major": 2,
       "version_minor": 0
      },
      "text/plain": [
       "Validation: |          | 0/? [00:00<?, ?it/s]"
      ]
     },
     "metadata": {},
     "output_type": "display_data"
    },
    {
     "data": {
      "application/vnd.jupyter.widget-view+json": {
       "model_id": "40925ed8b2b6420182525de80c65e00f",
       "version_major": 2,
       "version_minor": 0
      },
      "text/plain": [
       "Validation: |          | 0/? [00:00<?, ?it/s]"
      ]
     },
     "metadata": {},
     "output_type": "display_data"
    },
    {
     "data": {
      "application/vnd.jupyter.widget-view+json": {
       "model_id": "935dd7b25c2b4f61bf84129036427476",
       "version_major": 2,
       "version_minor": 0
      },
      "text/plain": [
       "Validation: |          | 0/? [00:00<?, ?it/s]"
      ]
     },
     "metadata": {},
     "output_type": "display_data"
    },
    {
     "data": {
      "application/vnd.jupyter.widget-view+json": {
       "model_id": "c3d7d54b773f42a58d30ca32f75f2108",
       "version_major": 2,
       "version_minor": 0
      },
      "text/plain": [
       "Validation: |          | 0/? [00:00<?, ?it/s]"
      ]
     },
     "metadata": {},
     "output_type": "display_data"
    },
    {
     "data": {
      "application/vnd.jupyter.widget-view+json": {
       "model_id": "5de5d431024c4d9abf5a46f861564105",
       "version_major": 2,
       "version_minor": 0
      },
      "text/plain": [
       "Validation: |          | 0/? [00:00<?, ?it/s]"
      ]
     },
     "metadata": {},
     "output_type": "display_data"
    },
    {
     "name": "stdout",
     "output_type": "stream",
     "text": [
      "Epoch 00012: reducing learning rate of group 0 to 7.5000e-04.\n"
     ]
    },
    {
     "data": {
      "application/vnd.jupyter.widget-view+json": {
       "model_id": "341da115745f43889eaa6eb0b1335d82",
       "version_major": 2,
       "version_minor": 0
      },
      "text/plain": [
       "Validation: |          | 0/? [00:00<?, ?it/s]"
      ]
     },
     "metadata": {},
     "output_type": "display_data"
    },
    {
     "name": "stderr",
     "output_type": "stream",
     "text": [
      "[I 2025-05-06 08:40:51,071] Trial 11 finished with value: 0.21035762131214142 and parameters: {'n_layers': 2, 'hidden_size_layer_0': 128, 'hidden_size_layer_1': 32, 'dropout': 0.30000000000000004, 'lr': 0.001, 'bidirectional': True, 'batch_size': 8, 'window': 48}. Best is trial 7 with value: 0.2046850323677063.\n",
      "GPU available: True (cuda), used: True\n",
      "TPU available: False, using: 0 TPU cores\n",
      "HPU available: False, using: 0 HPUs\n",
      "LOCAL_RANK: 0 - CUDA_VISIBLE_DEVICES: [0]\n",
      "\n",
      "  | Name        | Type              | Params | Mode \n",
      "----------------------------------------------------------\n",
      "0 | dropout     | Dropout           | 0      | train\n",
      "1 | lstm_layers | ModuleList        | 211 K  | train\n",
      "2 | fc          | Linear            | 65     | train\n",
      "3 | loss        | MSELoss           | 0      | train\n",
      "4 | train_mae   | MeanAbsoluteError | 0      | train\n",
      "5 | val_mae     | MeanAbsoluteError | 0      | train\n",
      "6 | test_mae    | MeanAbsoluteError | 0      | train\n",
      "----------------------------------------------------------\n",
      "211 K     Trainable params\n",
      "0         Non-trainable params\n",
      "211 K     Total params\n",
      "0.846     Total estimated model params size (MB)\n",
      "9         Modules in train mode\n",
      "0         Modules in eval mode\n"
     ]
    },
    {
     "data": {
      "application/vnd.jupyter.widget-view+json": {
       "model_id": "ccb5be215f754a87b224f7721489807e",
       "version_major": 2,
       "version_minor": 0
      },
      "text/plain": [
       "Sanity Checking: |          | 0/? [00:00<?, ?it/s]"
      ]
     },
     "metadata": {},
     "output_type": "display_data"
    },
    {
     "data": {
      "application/vnd.jupyter.widget-view+json": {
       "model_id": "ab15115888b74718b1fbc86be325e6ac",
       "version_major": 2,
       "version_minor": 0
      },
      "text/plain": [
       "Training: |          | 0/? [00:00<?, ?it/s]"
      ]
     },
     "metadata": {},
     "output_type": "display_data"
    },
    {
     "data": {
      "application/vnd.jupyter.widget-view+json": {
       "model_id": "c951e15394f94ece8c2f2f27dc69c6d7",
       "version_major": 2,
       "version_minor": 0
      },
      "text/plain": [
       "Validation: |          | 0/? [00:00<?, ?it/s]"
      ]
     },
     "metadata": {},
     "output_type": "display_data"
    },
    {
     "data": {
      "application/vnd.jupyter.widget-view+json": {
       "model_id": "0127114c3a1647749183849bfb5b8d4c",
       "version_major": 2,
       "version_minor": 0
      },
      "text/plain": [
       "Validation: |          | 0/? [00:00<?, ?it/s]"
      ]
     },
     "metadata": {},
     "output_type": "display_data"
    },
    {
     "data": {
      "application/vnd.jupyter.widget-view+json": {
       "model_id": "aca12614217540a79a245ad755b26f91",
       "version_major": 2,
       "version_minor": 0
      },
      "text/plain": [
       "Validation: |          | 0/? [00:00<?, ?it/s]"
      ]
     },
     "metadata": {},
     "output_type": "display_data"
    },
    {
     "data": {
      "application/vnd.jupyter.widget-view+json": {
       "model_id": "a7219c64359848ca8aa0a098c1aafe71",
       "version_major": 2,
       "version_minor": 0
      },
      "text/plain": [
       "Validation: |          | 0/? [00:00<?, ?it/s]"
      ]
     },
     "metadata": {},
     "output_type": "display_data"
    },
    {
     "data": {
      "application/vnd.jupyter.widget-view+json": {
       "model_id": "92ff860e61d04890b24d85cc1c4803e5",
       "version_major": 2,
       "version_minor": 0
      },
      "text/plain": [
       "Validation: |          | 0/? [00:00<?, ?it/s]"
      ]
     },
     "metadata": {},
     "output_type": "display_data"
    },
    {
     "data": {
      "application/vnd.jupyter.widget-view+json": {
       "model_id": "c1829b76abf948c7ad38b0fbb8587c2b",
       "version_major": 2,
       "version_minor": 0
      },
      "text/plain": [
       "Validation: |          | 0/? [00:00<?, ?it/s]"
      ]
     },
     "metadata": {},
     "output_type": "display_data"
    },
    {
     "data": {
      "application/vnd.jupyter.widget-view+json": {
       "model_id": "6406c7e61c7749b4850ba9a141aacb5b",
       "version_major": 2,
       "version_minor": 0
      },
      "text/plain": [
       "Validation: |          | 0/? [00:00<?, ?it/s]"
      ]
     },
     "metadata": {},
     "output_type": "display_data"
    },
    {
     "data": {
      "application/vnd.jupyter.widget-view+json": {
       "model_id": "418c444b10f34da2ab47efce69a55473",
       "version_major": 2,
       "version_minor": 0
      },
      "text/plain": [
       "Validation: |          | 0/? [00:00<?, ?it/s]"
      ]
     },
     "metadata": {},
     "output_type": "display_data"
    },
    {
     "data": {
      "application/vnd.jupyter.widget-view+json": {
       "model_id": "4d82d1413f524518ad74bfba6d0242cd",
       "version_major": 2,
       "version_minor": 0
      },
      "text/plain": [
       "Validation: |          | 0/? [00:00<?, ?it/s]"
      ]
     },
     "metadata": {},
     "output_type": "display_data"
    },
    {
     "data": {
      "application/vnd.jupyter.widget-view+json": {
       "model_id": "70c68deef1944ce78e2eff015b0c7005",
       "version_major": 2,
       "version_minor": 0
      },
      "text/plain": [
       "Validation: |          | 0/? [00:00<?, ?it/s]"
      ]
     },
     "metadata": {},
     "output_type": "display_data"
    },
    {
     "data": {
      "application/vnd.jupyter.widget-view+json": {
       "model_id": "f141f0b5fa364e1986be49495ebfe877",
       "version_major": 2,
       "version_minor": 0
      },
      "text/plain": [
       "Validation: |          | 0/? [00:00<?, ?it/s]"
      ]
     },
     "metadata": {},
     "output_type": "display_data"
    },
    {
     "data": {
      "application/vnd.jupyter.widget-view+json": {
       "model_id": "6c8c488e8d424a15a2f0b2d8d7f8c0fb",
       "version_major": 2,
       "version_minor": 0
      },
      "text/plain": [
       "Validation: |          | 0/? [00:00<?, ?it/s]"
      ]
     },
     "metadata": {},
     "output_type": "display_data"
    },
    {
     "data": {
      "application/vnd.jupyter.widget-view+json": {
       "model_id": "a67df9134c714625a41fe5c1bbdaadc7",
       "version_major": 2,
       "version_minor": 0
      },
      "text/plain": [
       "Validation: |          | 0/? [00:00<?, ?it/s]"
      ]
     },
     "metadata": {},
     "output_type": "display_data"
    },
    {
     "name": "stdout",
     "output_type": "stream",
     "text": [
      "Epoch 00013: reducing learning rate of group 0 to 7.5000e-04.\n"
     ]
    },
    {
     "data": {
      "application/vnd.jupyter.widget-view+json": {
       "model_id": "bbaedb387b5649f2acd0cb556cdb1e3e",
       "version_major": 2,
       "version_minor": 0
      },
      "text/plain": [
       "Validation: |          | 0/? [00:00<?, ?it/s]"
      ]
     },
     "metadata": {},
     "output_type": "display_data"
    },
    {
     "name": "stderr",
     "output_type": "stream",
     "text": [
      "[I 2025-05-06 08:57:14,186] Trial 12 pruned. Trial was pruned at epoch 13.\n",
      "GPU available: True (cuda), used: True\n",
      "TPU available: False, using: 0 TPU cores\n",
      "HPU available: False, using: 0 HPUs\n",
      "LOCAL_RANK: 0 - CUDA_VISIBLE_DEVICES: [0]\n",
      "\n",
      "  | Name        | Type              | Params | Mode \n",
      "----------------------------------------------------------\n",
      "0 | dropout     | Dropout           | 0      | train\n",
      "1 | lstm_layers | ModuleList        | 211 K  | train\n",
      "2 | fc          | Linear            | 65     | train\n",
      "3 | loss        | MSELoss           | 0      | train\n",
      "4 | train_mae   | MeanAbsoluteError | 0      | train\n",
      "5 | val_mae     | MeanAbsoluteError | 0      | train\n",
      "6 | test_mae    | MeanAbsoluteError | 0      | train\n",
      "----------------------------------------------------------\n",
      "211 K     Trainable params\n",
      "0         Non-trainable params\n",
      "211 K     Total params\n",
      "0.846     Total estimated model params size (MB)\n",
      "9         Modules in train mode\n",
      "0         Modules in eval mode\n"
     ]
    },
    {
     "data": {
      "application/vnd.jupyter.widget-view+json": {
       "model_id": "f6ed1d40a056475e8cd485303dc8c586",
       "version_major": 2,
       "version_minor": 0
      },
      "text/plain": [
       "Sanity Checking: |          | 0/? [00:00<?, ?it/s]"
      ]
     },
     "metadata": {},
     "output_type": "display_data"
    },
    {
     "data": {
      "application/vnd.jupyter.widget-view+json": {
       "model_id": "5cacb3ae36f2408d86f0f6ca3a9397d1",
       "version_major": 2,
       "version_minor": 0
      },
      "text/plain": [
       "Training: |          | 0/? [00:00<?, ?it/s]"
      ]
     },
     "metadata": {},
     "output_type": "display_data"
    },
    {
     "data": {
      "application/vnd.jupyter.widget-view+json": {
       "model_id": "898959d1945e4996bcde5debfb605a61",
       "version_major": 2,
       "version_minor": 0
      },
      "text/plain": [
       "Validation: |          | 0/? [00:00<?, ?it/s]"
      ]
     },
     "metadata": {},
     "output_type": "display_data"
    },
    {
     "data": {
      "application/vnd.jupyter.widget-view+json": {
       "model_id": "630116ba846f44bf8716cda6c2a72eb6",
       "version_major": 2,
       "version_minor": 0
      },
      "text/plain": [
       "Validation: |          | 0/? [00:00<?, ?it/s]"
      ]
     },
     "metadata": {},
     "output_type": "display_data"
    },
    {
     "data": {
      "application/vnd.jupyter.widget-view+json": {
       "model_id": "a12e7495db234e13970ae409bd538f92",
       "version_major": 2,
       "version_minor": 0
      },
      "text/plain": [
       "Validation: |          | 0/? [00:00<?, ?it/s]"
      ]
     },
     "metadata": {},
     "output_type": "display_data"
    },
    {
     "data": {
      "application/vnd.jupyter.widget-view+json": {
       "model_id": "55a1d7c4bdd8403ebc3a90a78ce8a329",
       "version_major": 2,
       "version_minor": 0
      },
      "text/plain": [
       "Validation: |          | 0/? [00:00<?, ?it/s]"
      ]
     },
     "metadata": {},
     "output_type": "display_data"
    },
    {
     "data": {
      "application/vnd.jupyter.widget-view+json": {
       "model_id": "18025c87fc334f2ba4fcc64f173b9291",
       "version_major": 2,
       "version_minor": 0
      },
      "text/plain": [
       "Validation: |          | 0/? [00:00<?, ?it/s]"
      ]
     },
     "metadata": {},
     "output_type": "display_data"
    },
    {
     "data": {
      "application/vnd.jupyter.widget-view+json": {
       "model_id": "1bd66c8c0ad3473a80e3132aec9f87b9",
       "version_major": 2,
       "version_minor": 0
      },
      "text/plain": [
       "Validation: |          | 0/? [00:00<?, ?it/s]"
      ]
     },
     "metadata": {},
     "output_type": "display_data"
    },
    {
     "data": {
      "application/vnd.jupyter.widget-view+json": {
       "model_id": "258117a8e1ca4ebc984e5fa67b68fadd",
       "version_major": 2,
       "version_minor": 0
      },
      "text/plain": [
       "Validation: |          | 0/? [00:00<?, ?it/s]"
      ]
     },
     "metadata": {},
     "output_type": "display_data"
    },
    {
     "name": "stderr",
     "output_type": "stream",
     "text": [
      "[I 2025-05-06 08:57:47,796] Trial 13 pruned. Trial was pruned at epoch 6.\n",
      "GPU available: True (cuda), used: True\n",
      "TPU available: False, using: 0 TPU cores\n",
      "HPU available: False, using: 0 HPUs\n",
      "LOCAL_RANK: 0 - CUDA_VISIBLE_DEVICES: [0]\n",
      "\n",
      "  | Name        | Type              | Params | Mode \n",
      "----------------------------------------------------------\n",
      "0 | dropout     | Dropout           | 0      | train\n",
      "1 | lstm_layers | ModuleList        | 176 K  | train\n",
      "2 | fc          | Linear            | 65     | train\n",
      "3 | loss        | MSELoss           | 0      | train\n",
      "4 | train_mae   | MeanAbsoluteError | 0      | train\n",
      "5 | val_mae     | MeanAbsoluteError | 0      | train\n",
      "6 | test_mae    | MeanAbsoluteError | 0      | train\n",
      "----------------------------------------------------------\n",
      "176 K     Trainable params\n",
      "0         Non-trainable params\n",
      "176 K     Total params\n",
      "0.707     Total estimated model params size (MB)\n",
      "10        Modules in train mode\n",
      "0         Modules in eval mode\n"
     ]
    },
    {
     "data": {
      "application/vnd.jupyter.widget-view+json": {
       "model_id": "bea1915f62504b11ab7d75b6fed88e30",
       "version_major": 2,
       "version_minor": 0
      },
      "text/plain": [
       "Sanity Checking: |          | 0/? [00:00<?, ?it/s]"
      ]
     },
     "metadata": {},
     "output_type": "display_data"
    },
    {
     "data": {
      "application/vnd.jupyter.widget-view+json": {
       "model_id": "285c78f1e4e84e7a83b8046745873721",
       "version_major": 2,
       "version_minor": 0
      },
      "text/plain": [
       "Training: |          | 0/? [00:00<?, ?it/s]"
      ]
     },
     "metadata": {},
     "output_type": "display_data"
    },
    {
     "name": "stderr",
     "output_type": "stream",
     "text": [
      "Exception ignored in: Exception ignored in: <function _MultiProcessingDataLoaderIter.__del__ at 0x7f72f36a6480><function _MultiProcessingDataLoaderIter.__del__ at 0x7f72f36a6480>\n",
      "Traceback (most recent call last):\n",
      "  File \"/usr/local/lib/python3.11/dist-packages/torch/utils/data/dataloader.py\", line 1478, in __del__\n",
      "\n",
      "Traceback (most recent call last):\n",
      "  File \"/usr/local/lib/python3.11/dist-packages/torch/utils/data/dataloader.py\", line 1478, in __del__\n",
      "        self._shutdown_workers()self._shutdown_workers()\n",
      "\n",
      "  File \"/usr/local/lib/python3.11/dist-packages/torch/utils/data/dataloader.py\", line 1461, in _shutdown_workers\n",
      "  File \"/usr/local/lib/python3.11/dist-packages/torch/utils/data/dataloader.py\", line 1461, in _shutdown_workers\n",
      "        if w.is_alive():\n",
      "if w.is_alive():\n",
      "         ^ ^ ^  ^^ Exception ignored in: ^<function _MultiProcessingDataLoaderIter.__del__ at 0x7f72f36a6480>^^^^\n",
      "^Traceback (most recent call last):\n",
      "^^^  File \"/usr/local/lib/python3.11/dist-packages/torch/utils/data/dataloader.py\", line 1478, in __del__\n",
      "^    ^^self._shutdown_workers()Exception ignored in: \n",
      "^<function _MultiProcessingDataLoaderIter.__del__ at 0x7f72f36a6480>  File \"/usr/lib/python3.11/multiprocessing/process.py\", line 160, in is_alive\n",
      "\n",
      "^^\n",
      "  File \"/usr/local/lib/python3.11/dist-packages/torch/utils/data/dataloader.py\", line 1461, in _shutdown_workers\n",
      "^Traceback (most recent call last):\n",
      "^    ^^      File \"/usr/local/lib/python3.11/dist-packages/torch/utils/data/dataloader.py\", line 1478, in __del__\n",
      "if w.is_alive():\n",
      "assert self._parent_pid == os.getpid(), 'can only test a child process'\n",
      "      File \"/usr/lib/python3.11/multiprocessing/process.py\", line 160, in is_alive\n",
      "\n",
      "self._shutdown_workers()        \n",
      "    File \"/usr/local/lib/python3.11/dist-packages/torch/utils/data/dataloader.py\", line 1461, in _shutdown_workers\n",
      "assert self._parent_pid == os.getpid(), 'can only test a child process'      \n",
      " if w.is_alive():    \n",
      "          ^   ^  ^  ^^^  ^^ ^^  ^ ^^^^^^^^^^^^^^^^^^^^^^^^^^^^\n",
      "^^^^  File \"/usr/lib/python3.11/multiprocessing/process.py\", line 160, in is_alive\n",
      "^^    ^^^^assert self._parent_pid == os.getpid(), 'can only test a child process'^^\n",
      "^^^ ^^^^^ \n",
      "^^   File \"/usr/lib/python3.11/multiprocessing/process.py\", line 160, in is_alive\n",
      " ^^    ^ assert self._parent_pid == os.getpid(), 'can only test a child process'^^\n",
      "^ ^ ^^^ ^  ^^ ^ ^    ^ ^ ^^^^^ ^^^\n",
      " ^ ^AssertionError ^: ^can only test a child process^^^\n",
      "^^^\n",
      "^^AssertionError^: ^^^can only test a child process^^\n",
      "^^^^^^^^^^^^^^^^^^^^^^^^^^^^^^^^^^^^\n",
      "^AssertionError^: ^can only test a child process^\n",
      "^^^^\n",
      "AssertionError: can only test a child process\n"
     ]
    },
    {
     "data": {
      "application/vnd.jupyter.widget-view+json": {
       "model_id": "d0963a53e76b4938a51545f8e0a5d88b",
       "version_major": 2,
       "version_minor": 0
      },
      "text/plain": [
       "Validation: |          | 0/? [00:00<?, ?it/s]"
      ]
     },
     "metadata": {},
     "output_type": "display_data"
    },
    {
     "data": {
      "application/vnd.jupyter.widget-view+json": {
       "model_id": "b39fa3d8f5a54c52b25bf926172d61eb",
       "version_major": 2,
       "version_minor": 0
      },
      "text/plain": [
       "Validation: |          | 0/? [00:00<?, ?it/s]"
      ]
     },
     "metadata": {},
     "output_type": "display_data"
    },
    {
     "data": {
      "application/vnd.jupyter.widget-view+json": {
       "model_id": "1a3d0b2d91d14973b1d9b3354825a093",
       "version_major": 2,
       "version_minor": 0
      },
      "text/plain": [
       "Validation: |          | 0/? [00:00<?, ?it/s]"
      ]
     },
     "metadata": {},
     "output_type": "display_data"
    },
    {
     "data": {
      "application/vnd.jupyter.widget-view+json": {
       "model_id": "200e9de760d24b0ab3b9196e478b8d63",
       "version_major": 2,
       "version_minor": 0
      },
      "text/plain": [
       "Validation: |          | 0/? [00:00<?, ?it/s]"
      ]
     },
     "metadata": {},
     "output_type": "display_data"
    },
    {
     "data": {
      "application/vnd.jupyter.widget-view+json": {
       "model_id": "640326c4aa594e468678171df1e57d4e",
       "version_major": 2,
       "version_minor": 0
      },
      "text/plain": [
       "Validation: |          | 0/? [00:00<?, ?it/s]"
      ]
     },
     "metadata": {},
     "output_type": "display_data"
    },
    {
     "data": {
      "application/vnd.jupyter.widget-view+json": {
       "model_id": "4c62ef1f54344fa98ad1f75553941dae",
       "version_major": 2,
       "version_minor": 0
      },
      "text/plain": [
       "Validation: |          | 0/? [00:00<?, ?it/s]"
      ]
     },
     "metadata": {},
     "output_type": "display_data"
    },
    {
     "data": {
      "application/vnd.jupyter.widget-view+json": {
       "model_id": "bedcdf5d006f49fcb7039500aabd343b",
       "version_major": 2,
       "version_minor": 0
      },
      "text/plain": [
       "Validation: |          | 0/? [00:00<?, ?it/s]"
      ]
     },
     "metadata": {},
     "output_type": "display_data"
    },
    {
     "name": "stderr",
     "output_type": "stream",
     "text": [
      "[I 2025-05-06 09:00:06,863] Trial 14 pruned. Trial was pruned at epoch 6.\n",
      "GPU available: True (cuda), used: True\n",
      "TPU available: False, using: 0 TPU cores\n",
      "HPU available: False, using: 0 HPUs\n",
      "LOCAL_RANK: 0 - CUDA_VISIBLE_DEVICES: [0]\n",
      "\n",
      "  | Name        | Type              | Params | Mode \n",
      "----------------------------------------------------------\n",
      "0 | dropout     | Dropout           | 0      | train\n",
      "1 | lstm_layers | ModuleList        | 137 K  | train\n",
      "2 | fc          | Linear            | 257    | train\n",
      "3 | loss        | MSELoss           | 0      | train\n",
      "4 | train_mae   | MeanAbsoluteError | 0      | train\n",
      "5 | val_mae     | MeanAbsoluteError | 0      | train\n",
      "6 | test_mae    | MeanAbsoluteError | 0      | train\n",
      "----------------------------------------------------------\n",
      "137 K     Trainable params\n",
      "0         Non-trainable params\n",
      "137 K     Total params\n",
      "0.550     Total estimated model params size (MB)\n",
      "8         Modules in train mode\n",
      "0         Modules in eval mode\n"
     ]
    },
    {
     "data": {
      "application/vnd.jupyter.widget-view+json": {
       "model_id": "5fe4d9755ec947efa82e69c5a80dbf90",
       "version_major": 2,
       "version_minor": 0
      },
      "text/plain": [
       "Sanity Checking: |          | 0/? [00:00<?, ?it/s]"
      ]
     },
     "metadata": {},
     "output_type": "display_data"
    },
    {
     "data": {
      "application/vnd.jupyter.widget-view+json": {
       "model_id": "98d8559892574b408a2cf01d749e4a72",
       "version_major": 2,
       "version_minor": 0
      },
      "text/plain": [
       "Training: |          | 0/? [00:00<?, ?it/s]"
      ]
     },
     "metadata": {},
     "output_type": "display_data"
    },
    {
     "data": {
      "application/vnd.jupyter.widget-view+json": {
       "model_id": "4f91d12d5c0a4f93bf0daa849fd099f5",
       "version_major": 2,
       "version_minor": 0
      },
      "text/plain": [
       "Validation: |          | 0/? [00:00<?, ?it/s]"
      ]
     },
     "metadata": {},
     "output_type": "display_data"
    },
    {
     "data": {
      "application/vnd.jupyter.widget-view+json": {
       "model_id": "c7ad9827553543d6bd6f943c81cdd249",
       "version_major": 2,
       "version_minor": 0
      },
      "text/plain": [
       "Validation: |          | 0/? [00:00<?, ?it/s]"
      ]
     },
     "metadata": {},
     "output_type": "display_data"
    },
    {
     "data": {
      "application/vnd.jupyter.widget-view+json": {
       "model_id": "05041aa73c20453780fc140ff92b2c3a",
       "version_major": 2,
       "version_minor": 0
      },
      "text/plain": [
       "Validation: |          | 0/? [00:00<?, ?it/s]"
      ]
     },
     "metadata": {},
     "output_type": "display_data"
    },
    {
     "data": {
      "application/vnd.jupyter.widget-view+json": {
       "model_id": "899d3a87197c483fa5fb94a14907112d",
       "version_major": 2,
       "version_minor": 0
      },
      "text/plain": [
       "Validation: |          | 0/? [00:00<?, ?it/s]"
      ]
     },
     "metadata": {},
     "output_type": "display_data"
    },
    {
     "data": {
      "application/vnd.jupyter.widget-view+json": {
       "model_id": "51e7bdbf9dd0455e9078e06b86b860db",
       "version_major": 2,
       "version_minor": 0
      },
      "text/plain": [
       "Validation: |          | 0/? [00:00<?, ?it/s]"
      ]
     },
     "metadata": {},
     "output_type": "display_data"
    },
    {
     "data": {
      "application/vnd.jupyter.widget-view+json": {
       "model_id": "3ad5bc53bddb4815ac0ef2a00db5420f",
       "version_major": 2,
       "version_minor": 0
      },
      "text/plain": [
       "Validation: |          | 0/? [00:00<?, ?it/s]"
      ]
     },
     "metadata": {},
     "output_type": "display_data"
    },
    {
     "data": {
      "application/vnd.jupyter.widget-view+json": {
       "model_id": "fe1b0241f18b48a9b4217478545127b1",
       "version_major": 2,
       "version_minor": 0
      },
      "text/plain": [
       "Validation: |          | 0/? [00:00<?, ?it/s]"
      ]
     },
     "metadata": {},
     "output_type": "display_data"
    },
    {
     "name": "stdout",
     "output_type": "stream",
     "text": [
      "Epoch 00007: reducing learning rate of group 0 to 7.5000e-03.\n"
     ]
    },
    {
     "data": {
      "application/vnd.jupyter.widget-view+json": {
       "model_id": "3c56d2f0d28b45f981ad4a275a646cda",
       "version_major": 2,
       "version_minor": 0
      },
      "text/plain": [
       "Validation: |          | 0/? [00:00<?, ?it/s]"
      ]
     },
     "metadata": {},
     "output_type": "display_data"
    },
    {
     "name": "stderr",
     "output_type": "stream",
     "text": [
      "[I 2025-05-06 09:08:38,549] Trial 15 pruned. Trial was pruned at epoch 7.\n",
      "GPU available: True (cuda), used: True\n",
      "TPU available: False, using: 0 TPU cores\n",
      "HPU available: False, using: 0 HPUs\n",
      "LOCAL_RANK: 0 - CUDA_VISIBLE_DEVICES: [0]\n",
      "\n",
      "  | Name        | Type              | Params | Mode \n",
      "----------------------------------------------------------\n",
      "0 | dropout     | Dropout           | 0      | train\n",
      "1 | lstm_layers | ModuleList        | 77.3 K | train\n",
      "2 | fc          | Linear            | 65     | train\n",
      "3 | loss        | MSELoss           | 0      | train\n",
      "4 | train_mae   | MeanAbsoluteError | 0      | train\n",
      "5 | val_mae     | MeanAbsoluteError | 0      | train\n",
      "6 | test_mae    | MeanAbsoluteError | 0      | train\n",
      "----------------------------------------------------------\n",
      "77.4 K    Trainable params\n",
      "0         Non-trainable params\n",
      "77.4 K    Total params\n",
      "0.310     Total estimated model params size (MB)\n",
      "9         Modules in train mode\n",
      "0         Modules in eval mode\n"
     ]
    },
    {
     "data": {
      "application/vnd.jupyter.widget-view+json": {
       "model_id": "52483d905278434792ae251576acd906",
       "version_major": 2,
       "version_minor": 0
      },
      "text/plain": [
       "Sanity Checking: |          | 0/? [00:00<?, ?it/s]"
      ]
     },
     "metadata": {},
     "output_type": "display_data"
    },
    {
     "data": {
      "application/vnd.jupyter.widget-view+json": {
       "model_id": "85f295369aa24d739ec715a7153d0beb",
       "version_major": 2,
       "version_minor": 0
      },
      "text/plain": [
       "Training: |          | 0/? [00:00<?, ?it/s]"
      ]
     },
     "metadata": {},
     "output_type": "display_data"
    },
    {
     "name": "stderr",
     "output_type": "stream",
     "text": [
      "IOPub message rate exceeded.\n",
      "The Jupyter server will temporarily stop sending output\n",
      "to the client in order to avoid crashing it.\n",
      "To change this limit, set the config variable\n",
      "`--ServerApp.iopub_msg_rate_limit`.\n",
      "\n",
      "Current values:\n",
      "ServerApp.iopub_msg_rate_limit=1000.0 (msgs/sec)\n",
      "ServerApp.rate_limit_window=3.0 (secs)\n",
      "\n",
      "IOPub message rate exceeded.\n",
      "The Jupyter server will temporarily stop sending output\n",
      "to the client in order to avoid crashing it.\n",
      "To change this limit, set the config variable\n",
      "`--ServerApp.iopub_msg_rate_limit`.\n",
      "\n",
      "Current values:\n",
      "ServerApp.iopub_msg_rate_limit=1000.0 (msgs/sec)\n",
      "ServerApp.rate_limit_window=3.0 (secs)\n",
      "\n",
      "IOPub message rate exceeded.\n",
      "The Jupyter server will temporarily stop sending output\n",
      "to the client in order to avoid crashing it.\n",
      "To change this limit, set the config variable\n",
      "`--ServerApp.iopub_msg_rate_limit`.\n",
      "\n",
      "Current values:\n",
      "ServerApp.iopub_msg_rate_limit=1000.0 (msgs/sec)\n",
      "ServerApp.rate_limit_window=3.0 (secs)\n",
      "\n"
     ]
    },
    {
     "data": {
      "application/vnd.jupyter.widget-view+json": {
       "model_id": "a323da5a6e1c4744a2462f87140f5d35",
       "version_major": 2,
       "version_minor": 0
      },
      "text/plain": [
       "Validation: |          | 0/? [00:00<?, ?it/s]"
      ]
     },
     "metadata": {},
     "output_type": "display_data"
    },
    {
     "name": "stderr",
     "output_type": "stream",
     "text": [
      "IOPub message rate exceeded.\n",
      "The Jupyter server will temporarily stop sending output\n",
      "to the client in order to avoid crashing it.\n",
      "To change this limit, set the config variable\n",
      "`--ServerApp.iopub_msg_rate_limit`.\n",
      "\n",
      "Current values:\n",
      "ServerApp.iopub_msg_rate_limit=1000.0 (msgs/sec)\n",
      "ServerApp.rate_limit_window=3.0 (secs)\n",
      "\n"
     ]
    },
    {
     "data": {
      "application/vnd.jupyter.widget-view+json": {
       "model_id": "d2af3884743f41bdb92db581e4107155",
       "version_major": 2,
       "version_minor": 0
      },
      "text/plain": [
       "Validation: |          | 0/? [00:00<?, ?it/s]"
      ]
     },
     "metadata": {},
     "output_type": "display_data"
    },
    {
     "data": {
      "application/vnd.jupyter.widget-view+json": {
       "model_id": "0a29acdab76949768e495de619a07ce5",
       "version_major": 2,
       "version_minor": 0
      },
      "text/plain": [
       "Validation: |          | 0/? [00:00<?, ?it/s]"
      ]
     },
     "metadata": {},
     "output_type": "display_data"
    },
    {
     "data": {
      "application/vnd.jupyter.widget-view+json": {
       "model_id": "c1920fc2237345a4b07021be68549ce9",
       "version_major": 2,
       "version_minor": 0
      },
      "text/plain": [
       "Validation: |          | 0/? [00:00<?, ?it/s]"
      ]
     },
     "metadata": {},
     "output_type": "display_data"
    },
    {
     "data": {
      "application/vnd.jupyter.widget-view+json": {
       "model_id": "bd56206f855b411d8485b1467d5a0686",
       "version_major": 2,
       "version_minor": 0
      },
      "text/plain": [
       "Validation: |          | 0/? [00:00<?, ?it/s]"
      ]
     },
     "metadata": {},
     "output_type": "display_data"
    },
    {
     "data": {
      "application/vnd.jupyter.widget-view+json": {
       "model_id": "cd586848a8e7403281a405381efffe36",
       "version_major": 2,
       "version_minor": 0
      },
      "text/plain": [
       "Validation: |          | 0/? [00:00<?, ?it/s]"
      ]
     },
     "metadata": {},
     "output_type": "display_data"
    },
    {
     "name": "stderr",
     "output_type": "stream",
     "text": [
      "[I 2025-05-06 09:33:24,235] Trial 21 pruned. Trial was pruned at epoch 6.\n",
      "GPU available: True (cuda), used: True\n",
      "TPU available: False, using: 0 TPU cores\n",
      "HPU available: False, using: 0 HPUs\n",
      "LOCAL_RANK: 0 - CUDA_VISIBLE_DEVICES: [0]\n",
      "\n",
      "  | Name        | Type              | Params | Mode \n",
      "----------------------------------------------------------\n",
      "0 | dropout     | Dropout           | 0      | train\n",
      "1 | lstm_layers | ModuleList        | 211 K  | train\n",
      "2 | fc          | Linear            | 65     | train\n",
      "3 | loss        | MSELoss           | 0      | train\n",
      "4 | train_mae   | MeanAbsoluteError | 0      | train\n",
      "5 | val_mae     | MeanAbsoluteError | 0      | train\n",
      "6 | test_mae    | MeanAbsoluteError | 0      | train\n",
      "----------------------------------------------------------\n",
      "211 K     Trainable params\n",
      "0         Non-trainable params\n",
      "211 K     Total params\n",
      "0.846     Total estimated model params size (MB)\n",
      "9         Modules in train mode\n",
      "0         Modules in eval mode\n"
     ]
    },
    {
     "data": {
      "application/vnd.jupyter.widget-view+json": {
       "model_id": "8aa4130835124c00be216bc4458cc025",
       "version_major": 2,
       "version_minor": 0
      },
      "text/plain": [
       "Sanity Checking: |          | 0/? [00:00<?, ?it/s]"
      ]
     },
     "metadata": {},
     "output_type": "display_data"
    },
    {
     "data": {
      "application/vnd.jupyter.widget-view+json": {
       "model_id": "3efcdad1171f45e5bb7b9124ceb4ff9c",
       "version_major": 2,
       "version_minor": 0
      },
      "text/plain": [
       "Training: |          | 0/? [00:00<?, ?it/s]"
      ]
     },
     "metadata": {},
     "output_type": "display_data"
    },
    {
     "data": {
      "application/vnd.jupyter.widget-view+json": {
       "model_id": "aff3a6f74c7b44b9939d52be8c3a9fed",
       "version_major": 2,
       "version_minor": 0
      },
      "text/plain": [
       "Validation: |          | 0/? [00:00<?, ?it/s]"
      ]
     },
     "metadata": {},
     "output_type": "display_data"
    },
    {
     "data": {
      "application/vnd.jupyter.widget-view+json": {
       "model_id": "01f39d85fc4e451c87854abb3ce936e5",
       "version_major": 2,
       "version_minor": 0
      },
      "text/plain": [
       "Validation: |          | 0/? [00:00<?, ?it/s]"
      ]
     },
     "metadata": {},
     "output_type": "display_data"
    },
    {
     "data": {
      "application/vnd.jupyter.widget-view+json": {
       "model_id": "e4fb74d53be84dbc8fa1d402616f207f",
       "version_major": 2,
       "version_minor": 0
      },
      "text/plain": [
       "Validation: |          | 0/? [00:00<?, ?it/s]"
      ]
     },
     "metadata": {},
     "output_type": "display_data"
    },
    {
     "data": {
      "application/vnd.jupyter.widget-view+json": {
       "model_id": "458d6c7f8e0c4e1da0c200618048d1ef",
       "version_major": 2,
       "version_minor": 0
      },
      "text/plain": [
       "Validation: |          | 0/? [00:00<?, ?it/s]"
      ]
     },
     "metadata": {},
     "output_type": "display_data"
    },
    {
     "data": {
      "application/vnd.jupyter.widget-view+json": {
       "model_id": "2a40fcc952394435b032854eeb2830bd",
       "version_major": 2,
       "version_minor": 0
      },
      "text/plain": [
       "Validation: |          | 0/? [00:00<?, ?it/s]"
      ]
     },
     "metadata": {},
     "output_type": "display_data"
    },
    {
     "data": {
      "application/vnd.jupyter.widget-view+json": {
       "model_id": "05bc29b3482c4853b926ed3025851123",
       "version_major": 2,
       "version_minor": 0
      },
      "text/plain": [
       "Validation: |          | 0/? [00:00<?, ?it/s]"
      ]
     },
     "metadata": {},
     "output_type": "display_data"
    },
    {
     "name": "stderr",
     "output_type": "stream",
     "text": [
      "[I 2025-05-06 09:40:27,598] Trial 22 pruned. Trial was pruned at epoch 5.\n",
      "GPU available: True (cuda), used: True\n",
      "TPU available: False, using: 0 TPU cores\n",
      "HPU available: False, using: 0 HPUs\n",
      "LOCAL_RANK: 0 - CUDA_VISIBLE_DEVICES: [0]\n",
      "\n",
      "  | Name        | Type              | Params | Mode \n",
      "----------------------------------------------------------\n",
      "0 | dropout     | Dropout           | 0      | train\n",
      "1 | lstm_layers | ModuleList        | 211 K  | train\n",
      "2 | fc          | Linear            | 65     | train\n",
      "3 | loss        | MSELoss           | 0      | train\n",
      "4 | train_mae   | MeanAbsoluteError | 0      | train\n",
      "5 | val_mae     | MeanAbsoluteError | 0      | train\n",
      "6 | test_mae    | MeanAbsoluteError | 0      | train\n",
      "----------------------------------------------------------\n",
      "211 K     Trainable params\n",
      "0         Non-trainable params\n",
      "211 K     Total params\n",
      "0.846     Total estimated model params size (MB)\n",
      "9         Modules in train mode\n",
      "0         Modules in eval mode\n"
     ]
    },
    {
     "data": {
      "application/vnd.jupyter.widget-view+json": {
       "model_id": "1edc101ecc8f4d54a36e04ce4fba7b2e",
       "version_major": 2,
       "version_minor": 0
      },
      "text/plain": [
       "Sanity Checking: |          | 0/? [00:00<?, ?it/s]"
      ]
     },
     "metadata": {},
     "output_type": "display_data"
    },
    {
     "data": {
      "application/vnd.jupyter.widget-view+json": {
       "model_id": "f38ea55c7e2c4fc9a2cb07f990960281",
       "version_major": 2,
       "version_minor": 0
      },
      "text/plain": [
       "Training: |          | 0/? [00:00<?, ?it/s]"
      ]
     },
     "metadata": {},
     "output_type": "display_data"
    },
    {
     "data": {
      "application/vnd.jupyter.widget-view+json": {
       "model_id": "9892fd18997b4b22a7265ce57ccc9ba0",
       "version_major": 2,
       "version_minor": 0
      },
      "text/plain": [
       "Validation: |          | 0/? [00:00<?, ?it/s]"
      ]
     },
     "metadata": {},
     "output_type": "display_data"
    },
    {
     "data": {
      "application/vnd.jupyter.widget-view+json": {
       "model_id": "287325498c33471a87365c07834b7786",
       "version_major": 2,
       "version_minor": 0
      },
      "text/plain": [
       "Validation: |          | 0/? [00:00<?, ?it/s]"
      ]
     },
     "metadata": {},
     "output_type": "display_data"
    },
    {
     "data": {
      "application/vnd.jupyter.widget-view+json": {
       "model_id": "9eb9208b5fc24a4a8c4615122ed3e923",
       "version_major": 2,
       "version_minor": 0
      },
      "text/plain": [
       "Validation: |          | 0/? [00:00<?, ?it/s]"
      ]
     },
     "metadata": {},
     "output_type": "display_data"
    },
    {
     "data": {
      "application/vnd.jupyter.widget-view+json": {
       "model_id": "e31b0b5d16f84815abe76276242ec6ad",
       "version_major": 2,
       "version_minor": 0
      },
      "text/plain": [
       "Validation: |          | 0/? [00:00<?, ?it/s]"
      ]
     },
     "metadata": {},
     "output_type": "display_data"
    },
    {
     "data": {
      "application/vnd.jupyter.widget-view+json": {
       "model_id": "fd466f81e5d54b23ac7668f9abd7ce6b",
       "version_major": 2,
       "version_minor": 0
      },
      "text/plain": [
       "Validation: |          | 0/? [00:00<?, ?it/s]"
      ]
     },
     "metadata": {},
     "output_type": "display_data"
    },
    {
     "data": {
      "application/vnd.jupyter.widget-view+json": {
       "model_id": "0b87323d4ce34cba87a77f8c8e114508",
       "version_major": 2,
       "version_minor": 0
      },
      "text/plain": [
       "Validation: |          | 0/? [00:00<?, ?it/s]"
      ]
     },
     "metadata": {},
     "output_type": "display_data"
    },
    {
     "name": "stderr",
     "output_type": "stream",
     "text": [
      "[I 2025-05-06 09:47:28,584] Trial 23 pruned. Trial was pruned at epoch 5.\n",
      "GPU available: True (cuda), used: True\n",
      "TPU available: False, using: 0 TPU cores\n",
      "HPU available: False, using: 0 HPUs\n",
      "LOCAL_RANK: 0 - CUDA_VISIBLE_DEVICES: [0]\n",
      "\n",
      "  | Name        | Type              | Params | Mode \n",
      "----------------------------------------------------------\n",
      "0 | dropout     | Dropout           | 0      | train\n",
      "1 | lstm_layers | ModuleList        | 211 K  | train\n",
      "2 | fc          | Linear            | 65     | train\n",
      "3 | loss        | MSELoss           | 0      | train\n",
      "4 | train_mae   | MeanAbsoluteError | 0      | train\n",
      "5 | val_mae     | MeanAbsoluteError | 0      | train\n",
      "6 | test_mae    | MeanAbsoluteError | 0      | train\n",
      "----------------------------------------------------------\n",
      "211 K     Trainable params\n",
      "0         Non-trainable params\n",
      "211 K     Total params\n",
      "0.846     Total estimated model params size (MB)\n",
      "9         Modules in train mode\n",
      "0         Modules in eval mode\n"
     ]
    },
    {
     "data": {
      "application/vnd.jupyter.widget-view+json": {
       "model_id": "030c2973bd3b48cda9d006dea78f306b",
       "version_major": 2,
       "version_minor": 0
      },
      "text/plain": [
       "Sanity Checking: |          | 0/? [00:00<?, ?it/s]"
      ]
     },
     "metadata": {},
     "output_type": "display_data"
    },
    {
     "name": "stderr",
     "output_type": "stream",
     "text": [
      "Exception ignored in: <function _MultiProcessingDataLoaderIter.__del__ at 0x7f72f36a6480>\n",
      "Traceback (most recent call last):\n",
      "  File \"/usr/local/lib/python3.11/dist-packages/torch/utils/data/dataloader.py\", line 1478, in __del__\n",
      "Exception ignored in:     self._shutdown_workers()<function _MultiProcessingDataLoaderIter.__del__ at 0x7f72f36a6480>\n",
      "\n",
      "  File \"/usr/local/lib/python3.11/dist-packages/torch/utils/data/dataloader.py\", line 1461, in _shutdown_workers\n",
      "Traceback (most recent call last):\n",
      "      File \"/usr/local/lib/python3.11/dist-packages/torch/utils/data/dataloader.py\", line 1478, in __del__\n",
      "if w.is_alive():\n",
      "     self._shutdown_workers() \n"
     ]
    },
    {
     "data": {
      "application/vnd.jupyter.widget-view+json": {
       "model_id": "adddcfa0cf6a4b8185e5b147e6d9ee6e",
       "version_major": 2,
       "version_minor": 0
      },
      "text/plain": [
       "Training: |          | 0/? [00:00<?, ?it/s]"
      ]
     },
     "metadata": {},
     "output_type": "display_data"
    },
    {
     "name": "stderr",
     "output_type": "stream",
     "text": [
      "   File \"/usr/local/lib/python3.11/dist-packages/torch/utils/data/dataloader.py\", line 1461, in _shutdown_workers\n",
      "      if w.is_alive():  \n",
      "^ ^  ^ ^ ^ ^ ^^^^^^^^^^^\n",
      "^  File \"/usr/lib/python3.11/multiprocessing/process.py\", line 160, in is_alive\n",
      "^    assert self._parent_pid == os.getpid(), 'can only test a child process'^^^\n",
      "^^  \n",
      "   File \"/usr/lib/python3.11/multiprocessing/process.py\", line 160, in is_alive\n",
      "       assert self._parent_pid == os.getpid(), 'can only test a child process' \n",
      "          ^  ^^ ^^ ^ ^^^^^^^^^^^^^^^^^^^^^^^^^^^^^^^^^^^^^^^^^^^^^^^^^^^^^^\n",
      "^^AssertionError\n",
      ": AssertionError: can only test a child processcan only test a child process\n",
      "\n"
     ]
    },
    {
     "data": {
      "application/vnd.jupyter.widget-view+json": {
       "model_id": "ae925de7e3464902b33a81b07e93bd94",
       "version_major": 2,
       "version_minor": 0
      },
      "text/plain": [
       "Validation: |          | 0/? [00:00<?, ?it/s]"
      ]
     },
     "metadata": {},
     "output_type": "display_data"
    },
    {
     "data": {
      "application/vnd.jupyter.widget-view+json": {
       "model_id": "eecb69e93beb4fe39dea3c6032835b99",
       "version_major": 2,
       "version_minor": 0
      },
      "text/plain": [
       "Validation: |          | 0/? [00:00<?, ?it/s]"
      ]
     },
     "metadata": {},
     "output_type": "display_data"
    },
    {
     "data": {
      "application/vnd.jupyter.widget-view+json": {
       "model_id": "f6e8ad82f6a445fcb66e5b133c045c03",
       "version_major": 2,
       "version_minor": 0
      },
      "text/plain": [
       "Validation: |          | 0/? [00:00<?, ?it/s]"
      ]
     },
     "metadata": {},
     "output_type": "display_data"
    },
    {
     "data": {
      "application/vnd.jupyter.widget-view+json": {
       "model_id": "f7b29d82c48c4a43bc31d0d405689cea",
       "version_major": 2,
       "version_minor": 0
      },
      "text/plain": [
       "Validation: |          | 0/? [00:00<?, ?it/s]"
      ]
     },
     "metadata": {},
     "output_type": "display_data"
    },
    {
     "data": {
      "application/vnd.jupyter.widget-view+json": {
       "model_id": "76d55d543d3a4ba0a4eb2b176407e8ce",
       "version_major": 2,
       "version_minor": 0
      },
      "text/plain": [
       "Validation: |          | 0/? [00:00<?, ?it/s]"
      ]
     },
     "metadata": {},
     "output_type": "display_data"
    },
    {
     "data": {
      "application/vnd.jupyter.widget-view+json": {
       "model_id": "01edf42575ad4ad1b2d7f5b2bd5ef9ab",
       "version_major": 2,
       "version_minor": 0
      },
      "text/plain": [
       "Validation: |          | 0/? [00:00<?, ?it/s]"
      ]
     },
     "metadata": {},
     "output_type": "display_data"
    },
    {
     "data": {
      "application/vnd.jupyter.widget-view+json": {
       "model_id": "c65146ccf7bd45f3ac52af13c301e88c",
       "version_major": 2,
       "version_minor": 0
      },
      "text/plain": [
       "Validation: |          | 0/? [00:00<?, ?it/s]"
      ]
     },
     "metadata": {},
     "output_type": "display_data"
    },
    {
     "name": "stderr",
     "output_type": "stream",
     "text": [
      "[I 2025-05-06 09:56:20,481] Trial 24 pruned. Trial was pruned at epoch 6.\n",
      "GPU available: True (cuda), used: True\n",
      "TPU available: False, using: 0 TPU cores\n",
      "HPU available: False, using: 0 HPUs\n",
      "LOCAL_RANK: 0 - CUDA_VISIBLE_DEVICES: [0]\n",
      "\n",
      "  | Name        | Type              | Params | Mode \n",
      "----------------------------------------------------------\n",
      "0 | dropout     | Dropout           | 0      | train\n",
      "1 | lstm_layers | ModuleList        | 77.3 K | train\n",
      "2 | fc          | Linear            | 65     | train\n",
      "3 | loss        | MSELoss           | 0      | train\n",
      "4 | train_mae   | MeanAbsoluteError | 0      | train\n",
      "5 | val_mae     | MeanAbsoluteError | 0      | train\n",
      "6 | test_mae    | MeanAbsoluteError | 0      | train\n",
      "----------------------------------------------------------\n",
      "77.4 K    Trainable params\n",
      "0         Non-trainable params\n",
      "77.4 K    Total params\n",
      "0.310     Total estimated model params size (MB)\n",
      "9         Modules in train mode\n",
      "0         Modules in eval mode\n"
     ]
    },
    {
     "data": {
      "application/vnd.jupyter.widget-view+json": {
       "model_id": "6dcdff386e95404a96445f6ddf87e502",
       "version_major": 2,
       "version_minor": 0
      },
      "text/plain": [
       "Sanity Checking: |          | 0/? [00:00<?, ?it/s]"
      ]
     },
     "metadata": {},
     "output_type": "display_data"
    },
    {
     "data": {
      "application/vnd.jupyter.widget-view+json": {
       "model_id": "ffa580875adc48f486dcfb5fae1e289c",
       "version_major": 2,
       "version_minor": 0
      },
      "text/plain": [
       "Training: |          | 0/? [00:00<?, ?it/s]"
      ]
     },
     "metadata": {},
     "output_type": "display_data"
    },
    {
     "data": {
      "application/vnd.jupyter.widget-view+json": {
       "model_id": "2f159d7921ca44cea9119080cdcaf2b0",
       "version_major": 2,
       "version_minor": 0
      },
      "text/plain": [
       "Validation: |          | 0/? [00:00<?, ?it/s]"
      ]
     },
     "metadata": {},
     "output_type": "display_data"
    },
    {
     "data": {
      "application/vnd.jupyter.widget-view+json": {
       "model_id": "e5b69b8d93794a679fc614e10fc63f4f",
       "version_major": 2,
       "version_minor": 0
      },
      "text/plain": [
       "Validation: |          | 0/? [00:00<?, ?it/s]"
      ]
     },
     "metadata": {},
     "output_type": "display_data"
    },
    {
     "data": {
      "application/vnd.jupyter.widget-view+json": {
       "model_id": "f12eec679710425ea52e502b7021ec92",
       "version_major": 2,
       "version_minor": 0
      },
      "text/plain": [
       "Validation: |          | 0/? [00:00<?, ?it/s]"
      ]
     },
     "metadata": {},
     "output_type": "display_data"
    },
    {
     "data": {
      "application/vnd.jupyter.widget-view+json": {
       "model_id": "3945e414f8ac4023a08351692163ce53",
       "version_major": 2,
       "version_minor": 0
      },
      "text/plain": [
       "Validation: |          | 0/? [00:00<?, ?it/s]"
      ]
     },
     "metadata": {},
     "output_type": "display_data"
    },
    {
     "data": {
      "application/vnd.jupyter.widget-view+json": {
       "model_id": "952ced77f0dd4095b7cd8cf1662dbb58",
       "version_major": 2,
       "version_minor": 0
      },
      "text/plain": [
       "Validation: |          | 0/? [00:00<?, ?it/s]"
      ]
     },
     "metadata": {},
     "output_type": "display_data"
    },
    {
     "data": {
      "application/vnd.jupyter.widget-view+json": {
       "model_id": "7948e7fc02d94324809dd82c2addefa0",
       "version_major": 2,
       "version_minor": 0
      },
      "text/plain": [
       "Validation: |          | 0/? [00:00<?, ?it/s]"
      ]
     },
     "metadata": {},
     "output_type": "display_data"
    },
    {
     "name": "stderr",
     "output_type": "stream",
     "text": [
      "[I 2025-05-06 09:57:17,724] Trial 25 pruned. Trial was pruned at epoch 5.\n",
      "GPU available: True (cuda), used: True\n",
      "TPU available: False, using: 0 TPU cores\n",
      "HPU available: False, using: 0 HPUs\n",
      "LOCAL_RANK: 0 - CUDA_VISIBLE_DEVICES: [0]\n",
      "\n",
      "  | Name        | Type              | Params | Mode \n",
      "----------------------------------------------------------\n",
      "0 | dropout     | Dropout           | 0      | train\n",
      "1 | lstm_layers | ModuleList        | 137 K  | train\n",
      "2 | fc          | Linear            | 257    | train\n",
      "3 | loss        | MSELoss           | 0      | train\n",
      "4 | train_mae   | MeanAbsoluteError | 0      | train\n",
      "5 | val_mae     | MeanAbsoluteError | 0      | train\n",
      "6 | test_mae    | MeanAbsoluteError | 0      | train\n",
      "----------------------------------------------------------\n",
      "137 K     Trainable params\n",
      "0         Non-trainable params\n",
      "137 K     Total params\n",
      "0.550     Total estimated model params size (MB)\n",
      "8         Modules in train mode\n",
      "0         Modules in eval mode\n"
     ]
    },
    {
     "data": {
      "application/vnd.jupyter.widget-view+json": {
       "model_id": "fb0165429b0f459bbf717fd732c0fcee",
       "version_major": 2,
       "version_minor": 0
      },
      "text/plain": [
       "Sanity Checking: |          | 0/? [00:00<?, ?it/s]"
      ]
     },
     "metadata": {},
     "output_type": "display_data"
    },
    {
     "data": {
      "application/vnd.jupyter.widget-view+json": {
       "model_id": "c26c09ec9bd14ab98ee37881ee5e76d6",
       "version_major": 2,
       "version_minor": 0
      },
      "text/plain": [
       "Training: |          | 0/? [00:00<?, ?it/s]"
      ]
     },
     "metadata": {},
     "output_type": "display_data"
    },
    {
     "data": {
      "application/vnd.jupyter.widget-view+json": {
       "model_id": "a044f0b4ca8a47f5880542b47dbbf97a",
       "version_major": 2,
       "version_minor": 0
      },
      "text/plain": [
       "Validation: |          | 0/? [00:00<?, ?it/s]"
      ]
     },
     "metadata": {},
     "output_type": "display_data"
    },
    {
     "data": {
      "application/vnd.jupyter.widget-view+json": {
       "model_id": "49fb66c8c5d64a799e93a57cb44dadab",
       "version_major": 2,
       "version_minor": 0
      },
      "text/plain": [
       "Validation: |          | 0/? [00:00<?, ?it/s]"
      ]
     },
     "metadata": {},
     "output_type": "display_data"
    },
    {
     "data": {
      "application/vnd.jupyter.widget-view+json": {
       "model_id": "05b3641e5c6e4bc8b345605227c105a1",
       "version_major": 2,
       "version_minor": 0
      },
      "text/plain": [
       "Validation: |          | 0/? [00:00<?, ?it/s]"
      ]
     },
     "metadata": {},
     "output_type": "display_data"
    },
    {
     "data": {
      "application/vnd.jupyter.widget-view+json": {
       "model_id": "dae4bf1b3dbd426fb7b5399842b0d72b",
       "version_major": 2,
       "version_minor": 0
      },
      "text/plain": [
       "Validation: |          | 0/? [00:00<?, ?it/s]"
      ]
     },
     "metadata": {},
     "output_type": "display_data"
    },
    {
     "data": {
      "application/vnd.jupyter.widget-view+json": {
       "model_id": "5871ce6b49074e81b80f1c539cd8efa9",
       "version_major": 2,
       "version_minor": 0
      },
      "text/plain": [
       "Validation: |          | 0/? [00:00<?, ?it/s]"
      ]
     },
     "metadata": {},
     "output_type": "display_data"
    },
    {
     "data": {
      "application/vnd.jupyter.widget-view+json": {
       "model_id": "b6791fb54c514a9ba3cbaa9c1b4a3f71",
       "version_major": 2,
       "version_minor": 0
      },
      "text/plain": [
       "Validation: |          | 0/? [00:00<?, ?it/s]"
      ]
     },
     "metadata": {},
     "output_type": "display_data"
    },
    {
     "data": {
      "application/vnd.jupyter.widget-view+json": {
       "model_id": "fb38488d938b4ffeb031ad6be8b15b3b",
       "version_major": 2,
       "version_minor": 0
      },
      "text/plain": [
       "Validation: |          | 0/? [00:00<?, ?it/s]"
      ]
     },
     "metadata": {},
     "output_type": "display_data"
    },
    {
     "name": "stderr",
     "output_type": "stream",
     "text": [
      "[I 2025-05-06 10:05:26,859] Trial 26 pruned. Trial was pruned at epoch 6.\n",
      "GPU available: True (cuda), used: True\n",
      "TPU available: False, using: 0 TPU cores\n",
      "HPU available: False, using: 0 HPUs\n",
      "LOCAL_RANK: 0 - CUDA_VISIBLE_DEVICES: [0]\n",
      "\n",
      "  | Name        | Type              | Params | Mode \n",
      "----------------------------------------------------------\n",
      "0 | dropout     | Dropout           | 0      | train\n",
      "1 | lstm_layers | ModuleList        | 278 K  | train\n",
      "2 | fc          | Linear            | 129    | train\n",
      "3 | loss        | MSELoss           | 0      | train\n",
      "4 | train_mae   | MeanAbsoluteError | 0      | train\n",
      "5 | val_mae     | MeanAbsoluteError | 0      | train\n",
      "6 | test_mae    | MeanAbsoluteError | 0      | train\n",
      "----------------------------------------------------------\n",
      "278 K     Trainable params\n",
      "0         Non-trainable params\n",
      "278 K     Total params\n",
      "1.113     Total estimated model params size (MB)\n",
      "10        Modules in train mode\n",
      "0         Modules in eval mode\n"
     ]
    },
    {
     "data": {
      "application/vnd.jupyter.widget-view+json": {
       "model_id": "e05f2b31dc0c4813be8da1e7dc02c31e",
       "version_major": 2,
       "version_minor": 0
      },
      "text/plain": [
       "Sanity Checking: |          | 0/? [00:00<?, ?it/s]"
      ]
     },
     "metadata": {},
     "output_type": "display_data"
    },
    {
     "data": {
      "application/vnd.jupyter.widget-view+json": {
       "model_id": "dc286fe232b440b7b82581729df95cb3",
       "version_major": 2,
       "version_minor": 0
      },
      "text/plain": [
       "Training: |          | 0/? [00:00<?, ?it/s]"
      ]
     },
     "metadata": {},
     "output_type": "display_data"
    },
    {
     "data": {
      "application/vnd.jupyter.widget-view+json": {
       "model_id": "8df2acc75d4a41be863861a965f0196e",
       "version_major": 2,
       "version_minor": 0
      },
      "text/plain": [
       "Validation: |          | 0/? [00:00<?, ?it/s]"
      ]
     },
     "metadata": {},
     "output_type": "display_data"
    },
    {
     "data": {
      "application/vnd.jupyter.widget-view+json": {
       "model_id": "1d5bee650bcb498aa742919b7b0feedb",
       "version_major": 2,
       "version_minor": 0
      },
      "text/plain": [
       "Validation: |          | 0/? [00:00<?, ?it/s]"
      ]
     },
     "metadata": {},
     "output_type": "display_data"
    },
    {
     "data": {
      "application/vnd.jupyter.widget-view+json": {
       "model_id": "2a7a5624c67540ef9a95f71a61332859",
       "version_major": 2,
       "version_minor": 0
      },
      "text/plain": [
       "Validation: |          | 0/? [00:00<?, ?it/s]"
      ]
     },
     "metadata": {},
     "output_type": "display_data"
    },
    {
     "data": {
      "application/vnd.jupyter.widget-view+json": {
       "model_id": "cb0d24ed16894abf84224133abc24666",
       "version_major": 2,
       "version_minor": 0
      },
      "text/plain": [
       "Validation: |          | 0/? [00:00<?, ?it/s]"
      ]
     },
     "metadata": {},
     "output_type": "display_data"
    },
    {
     "data": {
      "application/vnd.jupyter.widget-view+json": {
       "model_id": "16cb4bc42c3a4dce977ac6c4d0e7e596",
       "version_major": 2,
       "version_minor": 0
      },
      "text/plain": [
       "Validation: |          | 0/? [00:00<?, ?it/s]"
      ]
     },
     "metadata": {},
     "output_type": "display_data"
    },
    {
     "data": {
      "application/vnd.jupyter.widget-view+json": {
       "model_id": "20373e0e1df54e0aaecfca6638d482de",
       "version_major": 2,
       "version_minor": 0
      },
      "text/plain": [
       "Validation: |          | 0/? [00:00<?, ?it/s]"
      ]
     },
     "metadata": {},
     "output_type": "display_data"
    },
    {
     "data": {
      "application/vnd.jupyter.widget-view+json": {
       "model_id": "7bfb1ae708ca437ea239c45d3597d97a",
       "version_major": 2,
       "version_minor": 0
      },
      "text/plain": [
       "Validation: |          | 0/? [00:00<?, ?it/s]"
      ]
     },
     "metadata": {},
     "output_type": "display_data"
    },
    {
     "data": {
      "application/vnd.jupyter.widget-view+json": {
       "model_id": "2a5c8f65f82d42529fee0e495e091600",
       "version_major": 2,
       "version_minor": 0
      },
      "text/plain": [
       "Validation: |          | 0/? [00:00<?, ?it/s]"
      ]
     },
     "metadata": {},
     "output_type": "display_data"
    },
    {
     "data": {
      "application/vnd.jupyter.widget-view+json": {
       "model_id": "22cb872585de49909bd2eaa1caac0b66",
       "version_major": 2,
       "version_minor": 0
      },
      "text/plain": [
       "Validation: |          | 0/? [00:00<?, ?it/s]"
      ]
     },
     "metadata": {},
     "output_type": "display_data"
    },
    {
     "data": {
      "application/vnd.jupyter.widget-view+json": {
       "model_id": "81ab6b1eb1894571baeacae9eafcbb90",
       "version_major": 2,
       "version_minor": 0
      },
      "text/plain": [
       "Validation: |          | 0/? [00:00<?, ?it/s]"
      ]
     },
     "metadata": {},
     "output_type": "display_data"
    },
    {
     "data": {
      "application/vnd.jupyter.widget-view+json": {
       "model_id": "ade5b7a6eb974156802ebcef85a2db9d",
       "version_major": 2,
       "version_minor": 0
      },
      "text/plain": [
       "Validation: |          | 0/? [00:00<?, ?it/s]"
      ]
     },
     "metadata": {},
     "output_type": "display_data"
    },
    {
     "data": {
      "application/vnd.jupyter.widget-view+json": {
       "model_id": "02c0a721ef674896b15c0b3a955efb00",
       "version_major": 2,
       "version_minor": 0
      },
      "text/plain": [
       "Validation: |          | 0/? [00:00<?, ?it/s]"
      ]
     },
     "metadata": {},
     "output_type": "display_data"
    },
    {
     "data": {
      "application/vnd.jupyter.widget-view+json": {
       "model_id": "8e3b7dcfd66642b898f9afc4bc22cb84",
       "version_major": 2,
       "version_minor": 0
      },
      "text/plain": [
       "Validation: |          | 0/? [00:00<?, ?it/s]"
      ]
     },
     "metadata": {},
     "output_type": "display_data"
    },
    {
     "data": {
      "application/vnd.jupyter.widget-view+json": {
       "model_id": "bbbd0c45fb0d4b6a95e5bf20fbf9e620",
       "version_major": 2,
       "version_minor": 0
      },
      "text/plain": [
       "Validation: |          | 0/? [00:00<?, ?it/s]"
      ]
     },
     "metadata": {},
     "output_type": "display_data"
    },
    {
     "data": {
      "application/vnd.jupyter.widget-view+json": {
       "model_id": "39289ca02ab7494081ced9237acf3539",
       "version_major": 2,
       "version_minor": 0
      },
      "text/plain": [
       "Validation: |          | 0/? [00:00<?, ?it/s]"
      ]
     },
     "metadata": {},
     "output_type": "display_data"
    },
    {
     "data": {
      "application/vnd.jupyter.widget-view+json": {
       "model_id": "a52fded2ceaa4ed6bb6c370844827b1f",
       "version_major": 2,
       "version_minor": 0
      },
      "text/plain": [
       "Validation: |          | 0/? [00:00<?, ?it/s]"
      ]
     },
     "metadata": {},
     "output_type": "display_data"
    },
    {
     "name": "stdout",
     "output_type": "stream",
     "text": [
      "Epoch 00016: reducing learning rate of group 0 to 7.5000e-04.\n"
     ]
    },
    {
     "data": {
      "application/vnd.jupyter.widget-view+json": {
       "model_id": "85d403acb66343b780906070ee34bf14",
       "version_major": 2,
       "version_minor": 0
      },
      "text/plain": [
       "Validation: |          | 0/? [00:00<?, ?it/s]"
      ]
     },
     "metadata": {},
     "output_type": "display_data"
    },
    {
     "name": "stderr",
     "output_type": "stream",
     "text": [
      "[I 2025-05-06 10:27:05,939] Trial 27 finished with value: 0.2082321047782898 and parameters: {'n_layers': 3, 'hidden_size_layer_0': 128, 'hidden_size_layer_1': 32, 'hidden_size_layer_2': 64, 'dropout': 0.2, 'lr': 0.001, 'bidirectional': True, 'batch_size': 8, 'window': 48}. Best is trial 7 with value: 0.2046850323677063.\n",
      "GPU available: True (cuda), used: True\n",
      "TPU available: False, using: 0 TPU cores\n",
      "HPU available: False, using: 0 HPUs\n",
      "LOCAL_RANK: 0 - CUDA_VISIBLE_DEVICES: [0]\n",
      "\n",
      "  | Name        | Type              | Params | Mode \n",
      "----------------------------------------------------------\n",
      "0 | dropout     | Dropout           | 0      | train\n",
      "1 | lstm_layers | ModuleList        | 373 K  | train\n",
      "2 | fc          | Linear            | 129    | train\n",
      "3 | loss        | MSELoss           | 0      | train\n",
      "4 | train_mae   | MeanAbsoluteError | 0      | train\n",
      "5 | val_mae     | MeanAbsoluteError | 0      | train\n",
      "6 | test_mae    | MeanAbsoluteError | 0      | train\n",
      "----------------------------------------------------------\n",
      "373 K     Trainable params\n",
      "0         Non-trainable params\n",
      "373 K     Total params\n",
      "1.494     Total estimated model params size (MB)\n",
      "10        Modules in train mode\n",
      "0         Modules in eval mode\n"
     ]
    },
    {
     "data": {
      "application/vnd.jupyter.widget-view+json": {
       "model_id": "de509b98f7b74a848461490914dbcc24",
       "version_major": 2,
       "version_minor": 0
      },
      "text/plain": [
       "Sanity Checking: |          | 0/? [00:00<?, ?it/s]"
      ]
     },
     "metadata": {},
     "output_type": "display_data"
    },
    {
     "data": {
      "application/vnd.jupyter.widget-view+json": {
       "model_id": "fbcd9755068541debe4ee5b9a1afc944",
       "version_major": 2,
       "version_minor": 0
      },
      "text/plain": [
       "Training: |          | 0/? [00:00<?, ?it/s]"
      ]
     },
     "metadata": {},
     "output_type": "display_data"
    },
    {
     "data": {
      "application/vnd.jupyter.widget-view+json": {
       "model_id": "e6a19e83676d4ea1999bb79abbc28a72",
       "version_major": 2,
       "version_minor": 0
      },
      "text/plain": [
       "Validation: |          | 0/? [00:00<?, ?it/s]"
      ]
     },
     "metadata": {},
     "output_type": "display_data"
    },
    {
     "data": {
      "application/vnd.jupyter.widget-view+json": {
       "model_id": "3e7556d8d868405abe5076f2ad3b0030",
       "version_major": 2,
       "version_minor": 0
      },
      "text/plain": [
       "Validation: |          | 0/? [00:00<?, ?it/s]"
      ]
     },
     "metadata": {},
     "output_type": "display_data"
    },
    {
     "data": {
      "application/vnd.jupyter.widget-view+json": {
       "model_id": "b31968a61d714531b970c56df57eb8ba",
       "version_major": 2,
       "version_minor": 0
      },
      "text/plain": [
       "Validation: |          | 0/? [00:00<?, ?it/s]"
      ]
     },
     "metadata": {},
     "output_type": "display_data"
    },
    {
     "data": {
      "application/vnd.jupyter.widget-view+json": {
       "model_id": "c282a2577be444daa2cb736ce8c3ffc5",
       "version_major": 2,
       "version_minor": 0
      },
      "text/plain": [
       "Validation: |          | 0/? [00:00<?, ?it/s]"
      ]
     },
     "metadata": {},
     "output_type": "display_data"
    },
    {
     "data": {
      "application/vnd.jupyter.widget-view+json": {
       "model_id": "7a850575b2ca4abd909707e045d1394f",
       "version_major": 2,
       "version_minor": 0
      },
      "text/plain": [
       "Validation: |          | 0/? [00:00<?, ?it/s]"
      ]
     },
     "metadata": {},
     "output_type": "display_data"
    },
    {
     "data": {
      "application/vnd.jupyter.widget-view+json": {
       "model_id": "858f4753c4d74565ab1e957a52bc8b92",
       "version_major": 2,
       "version_minor": 0
      },
      "text/plain": [
       "Validation: |          | 0/? [00:00<?, ?it/s]"
      ]
     },
     "metadata": {},
     "output_type": "display_data"
    },
    {
     "name": "stderr",
     "output_type": "stream",
     "text": [
      "[I 2025-05-06 10:28:10,197] Trial 28 pruned. Trial was pruned at epoch 5.\n"
     ]
    },
    {
     "name": "stdout",
     "output_type": "stream",
     "text": [
      "Best val_loss: 0.2046850323677063\n",
      "Best hyperparameters: {'n_layers': 2, 'hidden_size_layer_0': 64, 'hidden_size_layer_1': 32, 'dropout': 0.1, 'lr': 0.001, 'bidirectional': True, 'batch_size': 8, 'window': 48}\n"
     ]
    }
   ],
   "source": [
    "# 2) Create and run the study\n",
    "study = optuna.create_study(\n",
    "    direction=\"minimize\",\n",
    "    sampler=optuna.samplers.TPESampler(),\n",
    "    pruner=optuna.pruners.MedianPruner(n_warmup_steps=5)\n",
    ")\n",
    "study.optimize(objective, n_trials=100, timeout=3*3600)\n",
    "\n",
    "# 3) Inspect the best hyperparameters\n",
    "print(\"Best val_loss:\", study.best_value)\n",
    "print(\"Best hyperparameters:\", study.best_params)\n",
    "\n",
    "\n",
    "\n",
    "with open(\"best_study_optuna.txt\", \"w\", encoding=\"utf-8\") as f:\n",
    "    json.dump(study.best_params, f, ensure_ascii=False, indent=2)"
   ]
  },
  {
   "cell_type": "code",
   "execution_count": 47,
   "id": "45f74c50",
   "metadata": {},
   "outputs": [
    {
     "data": {
      "text/plain": [
       "FrozenTrial(number=3, state=1, values=[0.1961708515882492], datetime_start=datetime.datetime(2025, 5, 2, 13, 3, 7, 947257), datetime_complete=datetime.datetime(2025, 5, 2, 13, 5, 27, 776694), params={'hidden_size': 64, 'num_layers': 3, 'dropout': 0.4, 'lr': 0.0019471392268248689, 'bidirectional': True, 'batch_size': 128}, user_attrs={}, system_attrs={}, intermediate_values={0: 0.2609007656574249, 1: 0.25389552116394043, 2: 0.24319495260715485, 3: 0.21967683732509613, 4: 0.2170509397983551, 5: 0.2162502259016037, 6: 0.20787270367145538, 7: 0.20754410326480865, 8: 0.32271477580070496, 9: 0.21225391328334808, 10: 0.211912140250206, 11: 0.20428712666034698, 12: 0.20510974526405334, 13: 0.20496347546577454, 14: 0.20689868927001953, 15: 0.20526687800884247, 16: 0.19624556601047516, 17: 0.20954731106758118, 18: 0.19570818543434143, 19: 0.1924062967300415, 20: 0.19519704580307007, 21: 0.19465871155261993, 22: 0.20010311901569366, 23: 0.1947544664144516, 24: 0.1961708515882492}, distributions={'hidden_size': CategoricalDistribution(choices=(32, 64, 128)), 'num_layers': IntDistribution(high=3, log=False, low=1, step=1), 'dropout': FloatDistribution(high=0.5, log=False, low=0.1, step=0.1), 'lr': FloatDistribution(high=0.01, log=True, low=0.0001, step=None), 'bidirectional': CategoricalDistribution(choices=(True,)), 'batch_size': CategoricalDistribution(choices=(16, 32, 64, 128))}, trial_id=3, value=None)"
      ]
     },
     "execution_count": 47,
     "metadata": {},
     "output_type": "execute_result"
    }
   ],
   "source": [
    "study.best_trial\n"
   ]
  },
  {
   "cell_type": "markdown",
   "id": "6b52ab31",
   "metadata": {},
   "source": [
    "## Train model using Best hyperparameters\n",
    "\n",
    "- **n_layers**: 2  \n",
    "- **hidden_size_layer_0**: 64  \n",
    "- **hidden_size_layer_1**: 32  \n",
    "- **dropout**: 0.1  \n",
    "- **lr**: 0.001  \n",
    "- **bidirectional**: true  \n",
    "- **batch_size**: 8  \n",
    "- **window**: 48  \n"
   ]
  },
  {
   "cell_type": "code",
   "execution_count": null,
   "id": "0a08bbed",
   "metadata": {},
   "outputs": [],
   "source": [
    "# Config the datamodule and model with the best hyperparameters\n",
    "\n",
    "datamodule = TimeSeriesDataModule(data = sample_df,\n",
    "        n_val = test_df.shape[0],\n",
    "        n_test = test_df.shape[0],\n",
    "        window = 48, # giving enough memory to capture daily seasonality\n",
    "        horizon = 1, # single step\n",
    "        normalize = \"robust\", # normalizing the data\n",
    "        batch_size = 8,\n",
    "        num_workers = 8,\n",
    "        )\n",
    "datamodule.setup()\n",
    "\n",
    "model = LSTMForecast(\n",
    "    input_size=len(columns),\n",
    "    hidden_size=[64, 32],  \n",
    "    lr=0.001,\n",
    "    bidirectional=True,\n",
    "    dropout=0.1,\n",
    ")\n"
   ]
  },
  {
   "cell_type": "code",
   "execution_count": null,
   "id": "d9c66e1d",
   "metadata": {},
   "outputs": [
    {
     "name": "stderr",
     "output_type": "stream",
     "text": [
      "GPU available: True (cuda), used: True\n",
      "TPU available: False, using: 0 TPU cores\n",
      "HPU available: False, using: 0 HPUs\n",
      "LOCAL_RANK: 0 - CUDA_VISIBLE_DEVICES: [0]\n",
      "\n",
      "  | Name      | Type              | Params | Mode \n",
      "--------------------------------------------------------\n",
      "0 | lstm      | LSTM              | 34.8 K | train\n",
      "1 | dropout   | Dropout           | 0      | train\n",
      "2 | fc        | Linear            | 65     | train\n",
      "3 | loss      | MSELoss           | 0      | train\n",
      "4 | train_mae | MeanAbsoluteError | 0      | train\n",
      "5 | val_mae   | MeanAbsoluteError | 0      | train\n",
      "6 | test_mae  | MeanAbsoluteError | 0      | train\n",
      "--------------------------------------------------------\n",
      "34.9 K    Trainable params\n",
      "0         Non-trainable params\n",
      "34.9 K    Total params\n",
      "0.140     Total estimated model params size (MB)\n",
      "7         Modules in train mode\n",
      "0         Modules in eval mode\n"
     ]
    },
    {
     "data": {
      "application/vnd.jupyter.widget-view+json": {
       "model_id": "273a2e829aa44acb9d91c8ac81687c0f",
       "version_major": 2,
       "version_minor": 0
      },
      "text/plain": [
       "Sanity Checking: |          | 0/? [00:00<?, ?it/s]"
      ]
     },
     "metadata": {},
     "output_type": "display_data"
    },
    {
     "data": {
      "application/vnd.jupyter.widget-view+json": {
       "model_id": "3456d5a0ccdb4e5488ec5db02a3a7c88",
       "version_major": 2,
       "version_minor": 0
      },
      "text/plain": [
       "Training: |          | 0/? [00:00<?, ?it/s]"
      ]
     },
     "metadata": {},
     "output_type": "display_data"
    },
    {
     "data": {
      "application/vnd.jupyter.widget-view+json": {
       "model_id": "a1c79c1f89cc4862b09bc7064ad33c21",
       "version_major": 2,
       "version_minor": 0
      },
      "text/plain": [
       "Validation: |          | 0/? [00:00<?, ?it/s]"
      ]
     },
     "metadata": {},
     "output_type": "display_data"
    },
    {
     "name": "stderr",
     "output_type": "stream",
     "text": [
      "Metric val_loss improved. New best score: 0.256\n",
      "Epoch 0, global step 10725: 'val_loss' reached 0.25558 (best 0.25558), saving model to '/notebooks/lightning_logs/version_203/checkpoints/epoch=0-step=10725.ckpt' as top 1\n"
     ]
    },
    {
     "data": {
      "application/vnd.jupyter.widget-view+json": {
       "model_id": "7012dd600dce4d7ba1b006d4322a65a8",
       "version_major": 2,
       "version_minor": 0
      },
      "text/plain": [
       "Validation: |          | 0/? [00:00<?, ?it/s]"
      ]
     },
     "metadata": {},
     "output_type": "display_data"
    },
    {
     "name": "stderr",
     "output_type": "stream",
     "text": [
      "Metric val_loss improved by 0.013 >= min_delta = 0.001. New best score: 0.242\n",
      "Epoch 1, global step 21450: 'val_loss' reached 0.24245 (best 0.24245), saving model to '/notebooks/lightning_logs/version_203/checkpoints/epoch=1-step=21450.ckpt' as top 1\n"
     ]
    },
    {
     "data": {
      "application/vnd.jupyter.widget-view+json": {
       "model_id": "fb69a8311b404e4c95026dca3566b067",
       "version_major": 2,
       "version_minor": 0
      },
      "text/plain": [
       "Validation: |          | 0/? [00:00<?, ?it/s]"
      ]
     },
     "metadata": {},
     "output_type": "display_data"
    },
    {
     "name": "stderr",
     "output_type": "stream",
     "text": [
      "Metric val_loss improved by 0.020 >= min_delta = 0.001. New best score: 0.222\n",
      "Epoch 2, global step 32175: 'val_loss' reached 0.22247 (best 0.22247), saving model to '/notebooks/lightning_logs/version_203/checkpoints/epoch=2-step=32175.ckpt' as top 1\n"
     ]
    },
    {
     "data": {
      "application/vnd.jupyter.widget-view+json": {
       "model_id": "0d99ea9dd473401598c9734ed89baac0",
       "version_major": 2,
       "version_minor": 0
      },
      "text/plain": [
       "Validation: |          | 0/? [00:00<?, ?it/s]"
      ]
     },
     "metadata": {},
     "output_type": "display_data"
    },
    {
     "name": "stderr",
     "output_type": "stream",
     "text": [
      "Epoch 3, global step 42900: 'val_loss' was not in top 1\n"
     ]
    },
    {
     "data": {
      "application/vnd.jupyter.widget-view+json": {
       "model_id": "47ab4967264f4b2a9948aeaa8837b4d8",
       "version_major": 2,
       "version_minor": 0
      },
      "text/plain": [
       "Validation: |          | 0/? [00:00<?, ?it/s]"
      ]
     },
     "metadata": {},
     "output_type": "display_data"
    },
    {
     "name": "stderr",
     "output_type": "stream",
     "text": [
      "Epoch 4, global step 53625: 'val_loss' was not in top 1\n"
     ]
    },
    {
     "data": {
      "application/vnd.jupyter.widget-view+json": {
       "model_id": "bfbcafea46f44bb3a9e36793de4774d2",
       "version_major": 2,
       "version_minor": 0
      },
      "text/plain": [
       "Validation: |          | 0/? [00:00<?, ?it/s]"
      ]
     },
     "metadata": {},
     "output_type": "display_data"
    },
    {
     "name": "stderr",
     "output_type": "stream",
     "text": [
      "Epoch 5, global step 64350: 'val_loss' was not in top 1\n"
     ]
    },
    {
     "data": {
      "application/vnd.jupyter.widget-view+json": {
       "model_id": "52a9caf9fd47437e818cd450ca464972",
       "version_major": 2,
       "version_minor": 0
      },
      "text/plain": [
       "Validation: |          | 0/? [00:00<?, ?it/s]"
      ]
     },
     "metadata": {},
     "output_type": "display_data"
    },
    {
     "name": "stderr",
     "output_type": "stream",
     "text": [
      "Epoch 6, global step 75075: 'val_loss' was not in top 1\n"
     ]
    },
    {
     "name": "stdout",
     "output_type": "stream",
     "text": [
      "Epoch 00007: reducing learning rate of group 0 to 7.5000e-04.\n"
     ]
    },
    {
     "data": {
      "application/vnd.jupyter.widget-view+json": {
       "model_id": "bc42e94fe165498a8e127d9e87cd61ea",
       "version_major": 2,
       "version_minor": 0
      },
      "text/plain": [
       "Validation: |          | 0/? [00:00<?, ?it/s]"
      ]
     },
     "metadata": {},
     "output_type": "display_data"
    },
    {
     "name": "stderr",
     "output_type": "stream",
     "text": [
      "Monitored metric val_loss did not improve in the last 5 records. Best score: 0.222. Signaling Trainer to stop.\n",
      "Epoch 7, global step 85800: 'val_loss' was not in top 1\n"
     ]
    }
   ],
   "source": [
    "# ---------------------------------------------------------------------------\n",
    "# Trainer Configuration\n",
    "# ---------------------------------------------------------------------------\n",
    "trainer = pl.Trainer(\n",
    "    accelerator=\"gpu\",  # Use GPU for training if available\n",
    "    min_epochs=5,       # Minimum number of epochs to train\n",
    "    max_epochs=10,      # Maximum number of epochs to train\n",
    "    callbacks=[\n",
    "        earlystop_cb,   # Early stopping callback\n",
    "        checkpoint_cb,  # Checkpoint callback\n",
    "        progress_bar,   # Progress bar callback\n",
    "        hist_cb         # Loss history callback\n",
    "    ],\n",
    ")\n",
    "\n",
    "# ---------------------------------------------------------------------------\n",
    "# Train the Model\n",
    "# ---------------------------------------------------------------------------\n",
    "# Fit the model using the trainer and the datamodule\n",
    "trainer.fit(model, datamodule)\n"
   ]
  },
  {
   "cell_type": "code",
   "execution_count": null,
   "id": "60275270",
   "metadata": {},
   "outputs": [
    {
     "name": "stderr",
     "output_type": "stream",
     "text": [
      "LOCAL_RANK: 0 - CUDA_VISIBLE_DEVICES: [0]\n"
     ]
    },
    {
     "data": {
      "application/vnd.jupyter.widget-view+json": {
       "model_id": "a856c05919194b30b69f43f61bfbe109",
       "version_major": 2,
       "version_minor": 0
      },
      "text/plain": [
       "Predicting: |          | 0/? [00:00<?, ?it/s]"
      ]
     },
     "metadata": {},
     "output_type": "display_data"
    },
    {
     "data": {
      "application/vnd.microsoft.datawrangler.viewer.v0+json": {
       "columns": [
        {
         "name": "index",
         "rawType": "int64",
         "type": "integer"
        },
        {
         "name": "MAE",
         "rawType": "float64",
         "type": "float"
        },
        {
         "name": "RMSE",
         "rawType": "float64",
         "type": "float"
        },
        {
         "name": "MASE",
         "rawType": "float64",
         "type": "float"
        },
        {
         "name": "RMSSE",
         "rawType": "float64",
         "type": "float"
        },
        {
         "name": "Features",
         "rawType": "object",
         "type": "unknown"
        }
       ],
       "conversionMethod": "pd.DataFrame",
       "ref": "85e47c74-b2e0-49a1-9e54-777ed30d6af0",
       "rows": [
        [
         "0",
         "216.12905532130762",
         "284.2859012437968",
         "0.8422792679068891",
         "0.8604804717998725",
         "['Imbalance', 'Imbalance_lag_1', 'Imbalance_lag_48', '1/2 Hour of the day']"
        ]
       ],
       "shape": {
        "columns": 5,
        "rows": 1
       }
      },
      "text/html": [
       "<div>\n",
       "<style scoped>\n",
       "    .dataframe tbody tr th:only-of-type {\n",
       "        vertical-align: middle;\n",
       "    }\n",
       "\n",
       "    .dataframe tbody tr th {\n",
       "        vertical-align: top;\n",
       "    }\n",
       "\n",
       "    .dataframe thead th {\n",
       "        text-align: right;\n",
       "    }\n",
       "</style>\n",
       "<table border=\"1\" class=\"dataframe\">\n",
       "  <thead>\n",
       "    <tr style=\"text-align: right;\">\n",
       "      <th></th>\n",
       "      <th>MAE</th>\n",
       "      <th>RMSE</th>\n",
       "      <th>MASE</th>\n",
       "      <th>RMSSE</th>\n",
       "      <th>Features</th>\n",
       "    </tr>\n",
       "  </thead>\n",
       "  <tbody>\n",
       "    <tr>\n",
       "      <th>0</th>\n",
       "      <td>216.129055</td>\n",
       "      <td>284.285901</td>\n",
       "      <td>0.842279</td>\n",
       "      <td>0.86048</td>\n",
       "      <td>[Imbalance, Imbalance_lag_1, Imbalance_lag_48,...</td>\n",
       "    </tr>\n",
       "  </tbody>\n",
       "</table>\n",
       "</div>"
      ],
      "text/plain": [
       "          MAE        RMSE      MASE    RMSSE  \\\n",
       "0  216.129055  284.285901  0.842279  0.86048   \n",
       "\n",
       "                                            Features  \n",
       "0  [Imbalance, Imbalance_lag_1, Imbalance_lag_48,...  "
      ]
     },
     "metadata": {},
     "output_type": "display_data"
    }
   ],
   "source": [
    "# Load the best model from the checkpoint\n",
    "best_model = LSTMForecast.load_from_checkpoint(checkpoint_cb.best_model_path)\n",
    "\n",
    "# Extract the true values for the target variable\n",
    "y_true = test_df[\"Imbalance\"]\n",
    "\n",
    "# Generate predictions using the test dataloader\n",
    "pred_batches = trainer.predict(\n",
    "    best_model,\n",
    "    dataloaders=datamodule.test_dataloader()\n",
    ")\n",
    "\n",
    "# Concatenate predictions from all batches and convert to numpy array\n",
    "pred = torch.cat(pred_batches).squeeze().detach().numpy()\n",
    "\n",
    "# Denormalize the predictions\n",
    "pred = pred * datamodule.train.scale[0] + datamodule.train.median[0]\n",
    "\n",
    "# Compute forecast metrics\n",
    "metrics = forecast_metrics(y_true, pred, seasonality=1)\n",
    "\n",
    "# Create a DataFrame to store the metrics\n",
    "df_metrics = pd.DataFrame([metrics], columns=[\"MAE\", \"RMSE\", \"MASE\", \"RMSSE\"])\n",
    "df_metrics[\"Features\"] = [columns]\n",
    "\n",
    "# Display the metrics\n",
    "display(df_metrics)\n"
   ]
  },
  {
   "cell_type": "markdown",
   "id": "243b9faf",
   "metadata": {},
   "source": [
    "### Save the predictions to CSV"
   ]
  },
  {
   "cell_type": "code",
   "execution_count": 44,
   "id": "cc7cf2c3",
   "metadata": {},
   "outputs": [
    {
     "data": {
      "application/vnd.microsoft.datawrangler.viewer.v0+json": {
       "columns": [
        {
         "name": "start_date",
         "rawType": "datetime64[ns, UTC]",
         "type": "unknown"
        },
        {
         "name": "LSTM",
         "rawType": "float32",
         "type": "float"
        }
       ],
       "conversionMethod": "pd.DataFrame",
       "ref": "b1f3d0cc-74c9-4c56-9645-be58a909b1b9",
       "rows": [
        [
         "2023-12-12 17:00:00+00:00",
         "76.453156"
        ],
        [
         "2023-12-12 17:30:00+00:00",
         "224.55106"
        ],
        [
         "2023-12-12 18:00:00+00:00",
         "386.72888"
        ],
        [
         "2023-12-12 18:30:00+00:00",
         "-65.87735"
        ],
        [
         "2023-12-12 19:00:00+00:00",
         "125.13185"
        ],
        [
         "2023-12-12 19:30:00+00:00",
         "93.80803"
        ],
        [
         "2023-12-12 20:00:00+00:00",
         "350.8184"
        ],
        [
         "2023-12-12 20:30:00+00:00",
         "-229.04771"
        ],
        [
         "2023-12-12 21:00:00+00:00",
         "39.68593"
        ],
        [
         "2023-12-12 21:30:00+00:00",
         "-539.39905"
        ],
        [
         "2023-12-12 22:00:00+00:00",
         "-121.9312"
        ],
        [
         "2023-12-12 22:30:00+00:00",
         "-279.79453"
        ],
        [
         "2023-12-12 23:00:00+00:00",
         "-645.04956"
        ],
        [
         "2023-12-12 23:30:00+00:00",
         "74.74068"
        ],
        [
         "2023-12-13 00:00:00+00:00",
         "-479.07718"
        ],
        [
         "2023-12-13 00:30:00+00:00",
         "14.423906"
        ],
        [
         "2023-12-13 01:00:00+00:00",
         "-122.2283"
        ],
        [
         "2023-12-13 01:30:00+00:00",
         "24.988197"
        ],
        [
         "2023-12-13 02:00:00+00:00",
         "-310.39816"
        ],
        [
         "2023-12-13 02:30:00+00:00",
         "-214.51491"
        ],
        [
         "2023-12-13 03:00:00+00:00",
         "-502.6099"
        ],
        [
         "2023-12-13 03:30:00+00:00",
         "48.669956"
        ],
        [
         "2023-12-13 04:00:00+00:00",
         "-40.2571"
        ],
        [
         "2023-12-13 04:30:00+00:00",
         "-104.828476"
        ],
        [
         "2023-12-13 05:00:00+00:00",
         "373.60703"
        ],
        [
         "2023-12-13 05:30:00+00:00",
         "-29.843418"
        ],
        [
         "2023-12-13 06:00:00+00:00",
         "-28.605633"
        ],
        [
         "2023-12-13 06:30:00+00:00",
         "-323.84686"
        ],
        [
         "2023-12-13 07:00:00+00:00",
         "-147.17702"
        ],
        [
         "2023-12-13 07:30:00+00:00",
         "-301.9331"
        ],
        [
         "2023-12-13 08:00:00+00:00",
         "-121.739685"
        ],
        [
         "2023-12-13 08:30:00+00:00",
         "-101.62364"
        ],
        [
         "2023-12-13 09:00:00+00:00",
         "-359.1537"
        ],
        [
         "2023-12-13 09:30:00+00:00",
         "-501.79245"
        ],
        [
         "2023-12-13 10:00:00+00:00",
         "-436.52414"
        ],
        [
         "2023-12-13 10:30:00+00:00",
         "-310.81314"
        ],
        [
         "2023-12-13 11:00:00+00:00",
         "-294.37265"
        ],
        [
         "2023-12-13 11:30:00+00:00",
         "-490.9741"
        ],
        [
         "2023-12-13 12:00:00+00:00",
         "-416.4181"
        ],
        [
         "2023-12-13 12:30:00+00:00",
         "234.27798"
        ],
        [
         "2023-12-13 13:00:00+00:00",
         "-52.384197"
        ],
        [
         "2023-12-13 13:30:00+00:00",
         "524.3151"
        ],
        [
         "2023-12-13 14:00:00+00:00",
         "463.76874"
        ],
        [
         "2023-12-13 14:30:00+00:00",
         "-32.584316"
        ],
        [
         "2023-12-13 15:00:00+00:00",
         "105.86737"
        ],
        [
         "2023-12-13 15:30:00+00:00",
         "59.10771"
        ],
        [
         "2023-12-13 16:00:00+00:00",
         "392.13638"
        ],
        [
         "2023-12-13 16:30:00+00:00",
         "239.47289"
        ],
        [
         "2023-12-13 17:00:00+00:00",
         "115.53038"
        ],
        [
         "2023-12-13 17:30:00+00:00",
         "323.48874"
        ]
       ],
       "shape": {
        "columns": 1,
        "rows": 18396
       }
      },
      "text/html": [
       "<div>\n",
       "<style scoped>\n",
       "    .dataframe tbody tr th:only-of-type {\n",
       "        vertical-align: middle;\n",
       "    }\n",
       "\n",
       "    .dataframe tbody tr th {\n",
       "        vertical-align: top;\n",
       "    }\n",
       "\n",
       "    .dataframe thead th {\n",
       "        text-align: right;\n",
       "    }\n",
       "</style>\n",
       "<table border=\"1\" class=\"dataframe\">\n",
       "  <thead>\n",
       "    <tr style=\"text-align: right;\">\n",
       "      <th></th>\n",
       "      <th>LSTM</th>\n",
       "    </tr>\n",
       "    <tr>\n",
       "      <th>start_date</th>\n",
       "      <th></th>\n",
       "    </tr>\n",
       "  </thead>\n",
       "  <tbody>\n",
       "    <tr>\n",
       "      <th>2023-12-12 17:00:00+00:00</th>\n",
       "      <td>76.453156</td>\n",
       "    </tr>\n",
       "    <tr>\n",
       "      <th>2023-12-12 17:30:00+00:00</th>\n",
       "      <td>224.551056</td>\n",
       "    </tr>\n",
       "    <tr>\n",
       "      <th>2023-12-12 18:00:00+00:00</th>\n",
       "      <td>386.728882</td>\n",
       "    </tr>\n",
       "    <tr>\n",
       "      <th>2023-12-12 18:30:00+00:00</th>\n",
       "      <td>-65.877350</td>\n",
       "    </tr>\n",
       "    <tr>\n",
       "      <th>2023-12-12 19:00:00+00:00</th>\n",
       "      <td>125.131851</td>\n",
       "    </tr>\n",
       "    <tr>\n",
       "      <th>...</th>\n",
       "      <td>...</td>\n",
       "    </tr>\n",
       "    <tr>\n",
       "      <th>2024-12-29 20:30:00+00:00</th>\n",
       "      <td>-372.915222</td>\n",
       "    </tr>\n",
       "    <tr>\n",
       "      <th>2024-12-29 21:00:00+00:00</th>\n",
       "      <td>147.484741</td>\n",
       "    </tr>\n",
       "    <tr>\n",
       "      <th>2024-12-29 21:30:00+00:00</th>\n",
       "      <td>-450.979095</td>\n",
       "    </tr>\n",
       "    <tr>\n",
       "      <th>2024-12-29 22:00:00+00:00</th>\n",
       "      <td>137.581894</td>\n",
       "    </tr>\n",
       "    <tr>\n",
       "      <th>2024-12-29 22:30:00+00:00</th>\n",
       "      <td>61.413376</td>\n",
       "    </tr>\n",
       "  </tbody>\n",
       "</table>\n",
       "<p>18396 rows × 1 columns</p>\n",
       "</div>"
      ],
      "text/plain": [
       "                                 LSTM\n",
       "start_date                           \n",
       "2023-12-12 17:00:00+00:00   76.453156\n",
       "2023-12-12 17:30:00+00:00  224.551056\n",
       "2023-12-12 18:00:00+00:00  386.728882\n",
       "2023-12-12 18:30:00+00:00  -65.877350\n",
       "2023-12-12 19:00:00+00:00  125.131851\n",
       "...                               ...\n",
       "2024-12-29 20:30:00+00:00 -372.915222\n",
       "2024-12-29 21:00:00+00:00  147.484741\n",
       "2024-12-29 21:30:00+00:00 -450.979095\n",
       "2024-12-29 22:00:00+00:00  137.581894\n",
       "2024-12-29 22:30:00+00:00   61.413376\n",
       "\n",
       "[18396 rows x 1 columns]"
      ]
     },
     "execution_count": 44,
     "metadata": {},
     "output_type": "execute_result"
    }
   ],
   "source": [
    "pred = pd.DataFrame(pred, index=test_df.index)\n",
    "pred.columns = [\"LSTM\"]\n",
    "pred"
   ]
  },
  {
   "cell_type": "code",
   "execution_count": 37,
   "id": "46a81790",
   "metadata": {},
   "outputs": [],
   "source": [
    "pred.to_csv(directory +\"/data/lstm.csv\", index=True)"
   ]
  }
 ],
 "metadata": {
  "kernelspec": {
   "display_name": "Python 3 (ipykernel)",
   "language": "python",
   "name": "python3"
  }
 },
 "nbformat": 4,
 "nbformat_minor": 5
}
